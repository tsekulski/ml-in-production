{
 "cells": [
  {
   "cell_type": "code",
   "execution_count": 24,
   "metadata": {},
   "outputs": [
    {
     "data": {
      "text/html": [
       "<script>\n",
       "code_show=true; \n",
       "function code_toggle() {\n",
       " if (code_show){\n",
       " $('div.input').hide();\n",
       " } else {\n",
       " $('div.input').show();\n",
       " }\n",
       " code_show = !code_show\n",
       "} \n",
       "$( document ).ready(code_toggle);\n",
       "</script>\n",
       "The raw code for this IPython notebook is by default hidden for easier reading.\n",
       "To toggle on/off the raw code, click <a href=\"javascript:code_toggle()\">here</a>."
      ],
      "text/plain": [
       "<IPython.core.display.HTML object>"
      ]
     },
     "execution_count": 24,
     "metadata": {},
     "output_type": "execute_result"
    }
   ],
   "source": [
    "from IPython.display import HTML\n",
    "\n",
    "HTML('''<script>\n",
    "code_show=true; \n",
    "function code_toggle() {\n",
    " if (code_show){\n",
    " $('div.input').hide();\n",
    " } else {\n",
    " $('div.input').show();\n",
    " }\n",
    " code_show = !code_show\n",
    "} \n",
    "$( document ).ready(code_toggle);\n",
    "</script>\n",
    "The raw code for this IPython notebook is by default hidden for easier reading.\n",
    "To toggle on/off the raw code, click <a href=\"javascript:code_toggle()\">here</a>.''')"
   ]
  },
  {
   "cell_type": "code",
   "execution_count": null,
   "metadata": {},
   "outputs": [],
   "source": []
  },
  {
   "cell_type": "markdown",
   "metadata": {},
   "source": [
    "# Preparing machine learning models for real-time scoring in production environment\n",
    "### Real-time scoring considerations\n",
    "* How can I check incoming raw data quality on the fly?\n",
    "* How can I ensure that broken data won't break my model / API?\n",
    "* How can I perform feature engineering on the fly?\n",
    "### What are sklearn pipelines? How can they help solve above challenges?\n",
    "### How can I create a pipeline?\n",
    "### How can I write my own data preprocessors and embed them in a sklearn pipeline? [Highlight]\n",
    "### [Optional] Time-based train-test split and final production-ready model training\n",
    "### [Optional] Using Flask and Docker to embed your model in a production-ready REST API\n",
    "### [Optional] Latency testing with Locust"
   ]
  },
  {
   "cell_type": "markdown",
   "metadata": {},
   "source": [
    "# ------------------------------------------------------------------------------------------------------\n",
    "# PART 0\n",
    "## LOADING NECESSARY SOFTWARE PACKAGES"
   ]
  },
  {
   "cell_type": "code",
   "execution_count": 25,
   "metadata": {
    "scrolled": true
   },
   "outputs": [
    {
     "name": "stdout",
     "output_type": "stream",
     "text": [
      "Loading standard Python packages...\n"
     ]
    },
    {
     "data": {
      "text/html": [
       "<style>.container { width:100% !important; }</style>"
      ],
      "text/plain": [
       "<IPython.core.display.HTML object>"
      ]
     },
     "metadata": {},
     "output_type": "display_data"
    },
    {
     "name": "stdout",
     "output_type": "stream",
     "text": [
      "Standard Python packages successfully loaded.\n"
     ]
    }
   ],
   "source": [
    "### Load necessary packages\n",
    "print('Loading standard Python packages...')\n",
    "\n",
    "# General, data handling and visualization\n",
    "import platform\n",
    "import os\n",
    "import sys\n",
    "from shutil import copyfile, copytree, rmtree\n",
    "import time\n",
    "import pandas as pd\n",
    "import numpy as np\n",
    "import seaborn as sns\n",
    "import matplotlib.pyplot as plt\n",
    "from IPython.display import display\n",
    "import json\n",
    "%matplotlib inline\n",
    "\n",
    "# Data preprocessing, ML model training & validation\n",
    "from sklearn.utils import resample\n",
    "from sklearn.preprocessing import StandardScaler, Imputer\n",
    "from sklearn.impute import SimpleImputer\n",
    "from sklearn.feature_extraction import DictVectorizer\n",
    "from sklearn.model_selection import train_test_split\n",
    "from sklearn.utils import shuffle\n",
    "from sklearn.ensemble import RandomForestClassifier\n",
    "import sklearn.metrics\n",
    "from sklearn.externals import joblib # to save models\n",
    "\n",
    "# Probability calibration\n",
    "from sklearn.calibration import CalibratedClassifierCV, calibration_curve\n",
    "\n",
    "# Pipelining\n",
    "from sklearn.base import BaseEstimator, TransformerMixin # for definition of custom transformers\n",
    "from sklearn.pipeline import Pipeline\n",
    "\n",
    "# Datetime conversions\n",
    "import datetime\n",
    "import calendar\n",
    "\n",
    "import bisect\n",
    "\n",
    "from copy import deepcopy\n",
    "\n",
    "# Set jupyter screen width to 100%\n",
    "from IPython.core.display import display, HTML\n",
    "display(HTML(\"<style>.container { width:100% !important; }</style>\"))\n",
    "pd.set_option('display.max_columns', 999)\n",
    "pd.set_option('display.max_rows', 999)\n",
    "\n",
    "\n",
    "print('Standard Python packages successfully loaded.')"
   ]
  },
  {
   "cell_type": "code",
   "execution_count": 26,
   "metadata": {},
   "outputs": [
    {
     "name": "stdout",
     "output_type": "stream",
     "text": [
      "Your system type and version of key dependencies:\n"
     ]
    }
   ],
   "source": [
    "### Check package versions\n",
    "print('Your system type and version of key dependencies:')"
   ]
  },
  {
   "cell_type": "code",
   "execution_count": 27,
   "metadata": {},
   "outputs": [
    {
     "name": "stdout",
     "output_type": "stream",
     "text": [
      "Operating system: Linux\n",
      "OS release: 4.15.0-99-generic\n",
      "Machine: x86_64\n",
      "Platform: Linux-4.15.0-99-generic-x86_64-with-debian-buster-sid\n",
      "Version: #100-Ubuntu SMP Wed Apr 22 20:32:56 UTC 2020\n",
      "\n",
      "Python version: 3.7.3 (default, Mar 27 2019, 22:11:17) \n",
      "[GCC 7.3.0]\n",
      "Pandas version: 0.24.2\n",
      "Numpy version: 1.16.3\n",
      "Scikit-learn version: 0.20.3\n"
     ]
    }
   ],
   "source": [
    "print('Operating system:', platform.system())\n",
    "print('OS release:', platform.release())\n",
    "print('Machine:', platform.machine())\n",
    "print('Platform:', platform.platform())\n",
    "print('Version:', platform.version())\n",
    "print()\n",
    "print('Python version: {}'.format(sys.version))\n",
    "print('Pandas version: {}'.format(pd.__version__))\n",
    "print('Numpy version: {}'.format(np.__version__))\n",
    "print('Scikit-learn version: {}'.format(sklearn.__version__))"
   ]
  },
  {
   "cell_type": "code",
   "execution_count": 28,
   "metadata": {},
   "outputs": [
    {
     "name": "stdout",
     "output_type": "stream",
     "text": [
      "Importing custom helper functions...\n",
      "The autoreload extension is already loaded. To reload it, use:\n",
      "  %reload_ext autoreload\n",
      "Helper functions imported.\n"
     ]
    }
   ],
   "source": [
    "### Load helper functions\n",
    "print('Importing custom helper functions...')\n",
    "\n",
    "# OPTIONAL: Load the \"autoreload\" extension so that code can change\n",
    "%load_ext autoreload\n",
    "\n",
    "# OPTIONAL: always reload modules so that as you change code in src, it gets loaded\n",
    "%autoreload 2\n",
    "\n",
    "from src.library.helper_functions import predict, validate, plot_ROC_curve, plot_precision_recall_curve\n",
    "\n",
    "print('Helper functions imported.')"
   ]
  },
  {
   "cell_type": "code",
   "execution_count": 29,
   "metadata": {},
   "outputs": [],
   "source": [
    "### Load widget class that allows the user to browse for the data file to be used\n",
    "#print('Importing custom FileBrowser widget...')\n",
    "\n",
    "#from src.library.select_file import FileBrowser \n",
    "\n",
    "#print('FileBrowser widget imported.')"
   ]
  },
  {
   "cell_type": "code",
   "execution_count": 30,
   "metadata": {},
   "outputs": [
    {
     "data": {
      "text/plain": [
       "\"### Load custom preprocessing transformers - to be used in the pipeline later on\\nprint('Importing custom data preprocessors...')\\n\\nfrom src.library.pipeline_components import WhitespaceRemover, CastToOriginalDtypes, CastToUserDtypes, CheckForUnseenValues, DfToDict\\nfrom src.library.pipeline_components import IntegerEncoder, DayOfWeekEncoder, DeviceEncoder, FeatureRemover, AgeEncoder\\n\\nprint('Custom preprocessors imported.')\""
      ]
     },
     "execution_count": 30,
     "metadata": {},
     "output_type": "execute_result"
    }
   ],
   "source": [
    "\"\"\"### Load custom preprocessing transformers - to be used in the pipeline later on\n",
    "print('Importing custom data preprocessors...')\n",
    "\n",
    "from src.library.pipeline_components import WhitespaceRemover, CastToOriginalDtypes, CastToUserDtypes, CheckForUnseenValues, DfToDict\n",
    "from src.library.pipeline_components import IntegerEncoder, DayOfWeekEncoder, DeviceEncoder, FeatureRemover, AgeEncoder\n",
    "\n",
    "print('Custom preprocessors imported.')\"\"\""
   ]
  },
  {
   "cell_type": "code",
   "execution_count": 31,
   "metadata": {},
   "outputs": [
    {
     "data": {
      "text/plain": [
       "\"### Set up the training & prediction pipeline\\n\\nprint('Setting up model training and prediction pipelines...')\\n\\n# Create random forest classifier object\\nRF_clf = RandomForestClassifier(n_estimators=100, # different than default, default = 10\\n                                criterion='gini',\\n                                max_depth=None, # Changed to 100 to limit the depth of each tree..\\n                                min_samples_split=2,\\n                                min_samples_leaf=1,\\n                                min_weight_fraction_leaf=0.0,\\n                                max_features=1, # different than default, default = 'auto'\\n                                max_leaf_nodes=None,\\n                                bootstrap=True,\\n                                oob_score=False,\\n                                n_jobs=-1, # use all available cores\\n                                random_state=0, # define random state for reproducibility of results\\n                                verbose=0,\\n                                warm_start=False,\\n                                class_weight=None)\\n\\n## Create pipeline - no calibration\\nRF_pipeline_uncalibrated = Pipeline([('whitespaceremoval', WhitespaceRemover()),\\n                                    ('originaldtypescasting', CastToOriginalDtypes()),\\n                                    ('deviceencoder', DeviceEncoder()),\\n                                    ('ageencoder', AgeEncoder()),\\n                                    ('dayofweekencoder', DayOfWeekEncoder()),\\n                                    ('userdtypescasting', CastToUserDtypes()),\\n                                    ('unseenvalueschecker', CheckForUnseenValues()),\\n                                    ('featureremoval', FeatureRemover()),\\n                                    ('dicttransformer', DfToDict()),\\n                                    ('ohe', DictVectorizer()),\\n                                    ('imputation', Imputer(missing_values='NaN', strategy='most_frequent')),\\n                                    ('scaling', StandardScaler(with_mean=False)),\\n                                    ('classifier', RF_clf)])\\n\\n## Isotonic calibration\\nRF_pipeline_isotonic = Pipeline([('whitespaceremoval', WhitespaceRemover()),\\n                                    ('originaldtypescasting', CastToOriginalDtypes()),\\n                                    ('deviceencoder', DeviceEncoder()),\\n                                    ('ageencoder', AgeEncoder()),\\n                                    ('dayofweekencoder', DayOfWeekEncoder()),\\n                                    ('userdtypescasting', CastToUserDtypes()),\\n                                    ('unseenvalueschecker', CheckForUnseenValues()),\\n                                    ('featureremoval', FeatureRemover()),\\n                                    ('dicttransformer', DfToDict()),\\n                                    ('ohe', DictVectorizer()),\\n                                    ('imputation', Imputer(missing_values='NaN', strategy='most_frequent')),\\n                                    ('scaling', StandardScaler(with_mean=False)),\\n                                    #('classifier', RF_clf)])\\n                                    ('classifier', CalibratedClassifierCV(base_estimator=RF_clf, cv=2, method='isotonic'))])\\n\\n## Sigmoid calibration\\nRF_pipeline_sigmoid = Pipeline([('whitespaceremoval', WhitespaceRemover()),\\n                                    ('originaldtypescasting', CastToOriginalDtypes()),\\n                                    ('deviceencoder', DeviceEncoder()),\\n                                    ('ageencoder', AgeEncoder()),\\n                                    ('dayofweekencoder', DayOfWeekEncoder()),\\n                                    ('userdtypescasting', CastToUserDtypes()),\\n                                    ('unseenvalueschecker', CheckForUnseenValues()),\\n                                    ('featureremoval', FeatureRemover()),\\n                                    ('dicttransformer', DfToDict()),\\n                                    ('ohe', DictVectorizer()),\\n                                    ('imputation', Imputer(missing_values='NaN', strategy='most_frequent')),\\n                                    ('scaling', StandardScaler(with_mean=False)),\\n                                    #('classifier', RF_clf)])\\n                                    ('classifier', CalibratedClassifierCV(base_estimator=RF_clf, cv=2, method='sigmoid'))])\\n                                \\n\\nprint('Model training and prediction pipelines set up.')\""
      ]
     },
     "execution_count": 31,
     "metadata": {},
     "output_type": "execute_result"
    }
   ],
   "source": [
    "\"\"\"### Set up the training & prediction pipeline\n",
    "\n",
    "print('Setting up model training and prediction pipelines...')\n",
    "\n",
    "# Create random forest classifier object\n",
    "RF_clf = RandomForestClassifier(n_estimators=100, # different than default, default = 10\n",
    "                                criterion='gini',\n",
    "                                max_depth=None, # Changed to 100 to limit the depth of each tree..\n",
    "                                min_samples_split=2,\n",
    "                                min_samples_leaf=1,\n",
    "                                min_weight_fraction_leaf=0.0,\n",
    "                                max_features=1, # different than default, default = 'auto'\n",
    "                                max_leaf_nodes=None,\n",
    "                                bootstrap=True,\n",
    "                                oob_score=False,\n",
    "                                n_jobs=-1, # use all available cores\n",
    "                                random_state=0, # define random state for reproducibility of results\n",
    "                                verbose=0,\n",
    "                                warm_start=False,\n",
    "                                class_weight=None)\n",
    "\n",
    "## Create pipeline - no calibration\n",
    "RF_pipeline_uncalibrated = Pipeline([('whitespaceremoval', WhitespaceRemover()),\n",
    "                                    ('originaldtypescasting', CastToOriginalDtypes()),\n",
    "                                    ('deviceencoder', DeviceEncoder()),\n",
    "                                    ('ageencoder', AgeEncoder()),\n",
    "                                    ('dayofweekencoder', DayOfWeekEncoder()),\n",
    "                                    ('userdtypescasting', CastToUserDtypes()),\n",
    "                                    ('unseenvalueschecker', CheckForUnseenValues()),\n",
    "                                    ('featureremoval', FeatureRemover()),\n",
    "                                    ('dicttransformer', DfToDict()),\n",
    "                                    ('ohe', DictVectorizer()),\n",
    "                                    ('imputation', Imputer(missing_values='NaN', strategy='most_frequent')),\n",
    "                                    ('scaling', StandardScaler(with_mean=False)),\n",
    "                                    ('classifier', RF_clf)])\n",
    "\n",
    "## Isotonic calibration\n",
    "RF_pipeline_isotonic = Pipeline([('whitespaceremoval', WhitespaceRemover()),\n",
    "                                    ('originaldtypescasting', CastToOriginalDtypes()),\n",
    "                                    ('deviceencoder', DeviceEncoder()),\n",
    "                                    ('ageencoder', AgeEncoder()),\n",
    "                                    ('dayofweekencoder', DayOfWeekEncoder()),\n",
    "                                    ('userdtypescasting', CastToUserDtypes()),\n",
    "                                    ('unseenvalueschecker', CheckForUnseenValues()),\n",
    "                                    ('featureremoval', FeatureRemover()),\n",
    "                                    ('dicttransformer', DfToDict()),\n",
    "                                    ('ohe', DictVectorizer()),\n",
    "                                    ('imputation', Imputer(missing_values='NaN', strategy='most_frequent')),\n",
    "                                    ('scaling', StandardScaler(with_mean=False)),\n",
    "                                    #('classifier', RF_clf)])\n",
    "                                    ('classifier', CalibratedClassifierCV(base_estimator=RF_clf, cv=2, method='isotonic'))])\n",
    "\n",
    "## Sigmoid calibration\n",
    "RF_pipeline_sigmoid = Pipeline([('whitespaceremoval', WhitespaceRemover()),\n",
    "                                    ('originaldtypescasting', CastToOriginalDtypes()),\n",
    "                                    ('deviceencoder', DeviceEncoder()),\n",
    "                                    ('ageencoder', AgeEncoder()),\n",
    "                                    ('dayofweekencoder', DayOfWeekEncoder()),\n",
    "                                    ('userdtypescasting', CastToUserDtypes()),\n",
    "                                    ('unseenvalueschecker', CheckForUnseenValues()),\n",
    "                                    ('featureremoval', FeatureRemover()),\n",
    "                                    ('dicttransformer', DfToDict()),\n",
    "                                    ('ohe', DictVectorizer()),\n",
    "                                    ('imputation', Imputer(missing_values='NaN', strategy='most_frequent')),\n",
    "                                    ('scaling', StandardScaler(with_mean=False)),\n",
    "                                    #('classifier', RF_clf)])\n",
    "                                    ('classifier', CalibratedClassifierCV(base_estimator=RF_clf, cv=2, method='sigmoid'))])\n",
    "                                \n",
    "\n",
    "print('Model training and prediction pipelines set up.')\"\"\""
   ]
  },
  {
   "cell_type": "markdown",
   "metadata": {},
   "source": [
    "# ------------------------------------------------------------------------------------------------------\n",
    "# PART 1\n",
    "## LET'S HAVE A LOOK AT THE DATA"
   ]
  },
  {
   "cell_type": "markdown",
   "metadata": {},
   "source": [
    "### We will be using a modified open-source German credit scoring dataset\n",
    "Original dataset is available under https://www.kaggle.com/uciml/german-credit/data"
   ]
  },
  {
   "cell_type": "code",
   "execution_count": 32,
   "metadata": {},
   "outputs": [],
   "source": [
    "#print('Please select the data file that should be used for model training:')\n",
    "#datafile = FileBrowser()\n",
    "#datafile.widget()"
   ]
  },
  {
   "cell_type": "code",
   "execution_count": 33,
   "metadata": {
    "scrolled": false
   },
   "outputs": [
    {
     "data": {
      "text/plain": [
       "'# Load ORIGINAL full TMA dataset\\nprint(\\'Reading in selected file...\\')\\n# Uncomment the below read_csv statement to load a test sample of the data, for a test run of the notebook\\n#df = pd.read_csv(\\'../data/interim/np_training_2_downsampled.csv\\',\\n#                 parse_dates=[\\'PURCHASE_DATE\\', \\'BIRTHDATE\\'],\\n#                 low_memory=False)\\n\\n# Uncomment the below read_csv statement to load the full TMA dataset\\ndf = pd.read_csv(\\'../data/kaggle_german_credit_data_original_with_label.csv\\',\\n                 #sep=\\'\\t\\',\\n                 #decimal=\\',\\',\\n                 #parse_dates=[\\'PURCHASE_DATE\\', \\'BIRTHDATE\\'],\\n                 #encoding=\\'ISO-8859-1\\',\\n                 low_memory=False)\\n\\nprint(\\'File successfully read in. Analyzing...\\')\\n\\nprint(\\'Table dimensions:\\')\\nprint(\\'Number of rows:\\', df.shape[0])\\nprint(\\'Number of columns:\\', df.shape[1])\\nprint()\\npd.set_option(\"display.max_columns\", df.shape[1])\\npd.set_option(\"display.max_rows\", df.shape[1])\\nprint(\\'Overview of the first five table rows:\\')\\ndisplay(df.head())\\nprint(\\'Overview of the last five table rows:\\')\\ndisplay(df.head())\\n# print(\\'Column datatypes:\\')\\n# print(df.dtypes)'"
      ]
     },
     "execution_count": 33,
     "metadata": {},
     "output_type": "execute_result"
    }
   ],
   "source": [
    "\"\"\"# Load ORIGINAL full TMA dataset\n",
    "print('Reading in selected file...')\n",
    "# Uncomment the below read_csv statement to load a test sample of the data, for a test run of the notebook\n",
    "#df = pd.read_csv('../data/interim/np_training_2_downsampled.csv',\n",
    "#                 parse_dates=['PURCHASE_DATE', 'BIRTHDATE'],\n",
    "#                 low_memory=False)\n",
    "\n",
    "# Uncomment the below read_csv statement to load the full TMA dataset\n",
    "df = pd.read_csv('../data/kaggle_german_credit_data_original_with_label.csv',\n",
    "                 #sep='\\t',\n",
    "                 #decimal=',',\n",
    "                 #parse_dates=['PURCHASE_DATE', 'BIRTHDATE'],\n",
    "                 #encoding='ISO-8859-1',\n",
    "                 low_memory=False)\n",
    "\n",
    "print('File successfully read in. Analyzing...')\n",
    "\n",
    "print('Table dimensions:')\n",
    "print('Number of rows:', df.shape[0])\n",
    "print('Number of columns:', df.shape[1])\n",
    "print()\n",
    "pd.set_option(\"display.max_columns\", df.shape[1])\n",
    "pd.set_option(\"display.max_rows\", df.shape[1])\n",
    "print('Overview of the first five table rows:')\n",
    "display(df.head())\n",
    "print('Overview of the last five table rows:')\n",
    "display(df.head())\n",
    "# print('Column datatypes:')\n",
    "# print(df.dtypes)\"\"\""
   ]
  },
  {
   "cell_type": "code",
   "execution_count": 34,
   "metadata": {},
   "outputs": [
    {
     "data": {
      "text/plain": [
       "\"sns.countplot(y='Risk', data=df)\\nplt.show()\\ndisplay(df['Risk'].value_counts())\""
      ]
     },
     "execution_count": 34,
     "metadata": {},
     "output_type": "execute_result"
    }
   ],
   "source": [
    "\"\"\"sns.countplot(y='Risk', data=df)\n",
    "plt.show()\n",
    "display(df['Risk'].value_counts())\"\"\""
   ]
  },
  {
   "cell_type": "code",
   "execution_count": 35,
   "metadata": {},
   "outputs": [
    {
     "data": {
      "text/plain": [
       "\"df.drop(['Unnamed: 0'], axis=1, inplace=True)\\ndf['Gender'] = df['Sex']\\ndf.drop(['Sex'], axis=1, inplace=True)\\ndf.head()\""
      ]
     },
     "execution_count": 35,
     "metadata": {},
     "output_type": "execute_result"
    }
   ],
   "source": [
    "\"\"\"df.drop(['Unnamed: 0'], axis=1, inplace=True)\n",
    "df['Gender'] = df['Sex']\n",
    "df.drop(['Sex'], axis=1, inplace=True)\n",
    "df.head()\"\"\""
   ]
  },
  {
   "cell_type": "code",
   "execution_count": 36,
   "metadata": {},
   "outputs": [
    {
     "data": {
      "text/plain": [
       "'datetime.datetime.now()'"
      ]
     },
     "execution_count": 36,
     "metadata": {},
     "output_type": "execute_result"
    }
   ],
   "source": [
    "\"\"\"datetime.datetime.now()\"\"\""
   ]
  },
  {
   "cell_type": "code",
   "execution_count": 37,
   "metadata": {},
   "outputs": [
    {
     "data": {
      "text/plain": [
       "\"df['Purchase_date'] = datetime.datetime.now()\""
      ]
     },
     "execution_count": 37,
     "metadata": {},
     "output_type": "execute_result"
    }
   ],
   "source": [
    "\"\"\"df['Purchase_date'] = datetime.datetime.now()\"\"\""
   ]
  },
  {
   "cell_type": "code",
   "execution_count": 38,
   "metadata": {},
   "outputs": [
    {
     "data": {
      "text/plain": [
       "\"def random_dates(start, end, n=1):\\n\\n    start_u = start.value//10**9\\n    end_u = end.value//10**9\\n\\n    return pd.to_datetime(np.random.randint(start_u, end_u, n), unit='s').date[0]\""
      ]
     },
     "execution_count": 38,
     "metadata": {},
     "output_type": "execute_result"
    }
   ],
   "source": [
    "\"\"\"def random_dates(start, end, n=1):\n",
    "\n",
    "    start_u = start.value//10**9\n",
    "    end_u = end.value//10**9\n",
    "\n",
    "    return pd.to_datetime(np.random.randint(start_u, end_u, n), unit='s').date[0]\"\"\""
   ]
  },
  {
   "cell_type": "code",
   "execution_count": 39,
   "metadata": {},
   "outputs": [
    {
     "data": {
      "text/plain": [
       "\"start_date = pd.to_datetime('2020-01-01')\\nend_date = pd.to_datetime('2020-05-15')\\nrandom_dates(start_date, end_date)\""
      ]
     },
     "execution_count": 39,
     "metadata": {},
     "output_type": "execute_result"
    }
   ],
   "source": [
    "\"\"\"start_date = pd.to_datetime('2020-01-01')\n",
    "end_date = pd.to_datetime('2020-05-15')\n",
    "random_dates(start_date, end_date)\"\"\""
   ]
  },
  {
   "cell_type": "code",
   "execution_count": 40,
   "metadata": {},
   "outputs": [
    {
     "data": {
      "text/plain": [
       "\"df['Purchase_date'] = df.apply(lambda row : random_dates(start_date, end_date), axis=1)\\ndf['Purchase_date'] = pd.to_datetime(df['Purchase_date'])\""
      ]
     },
     "execution_count": 40,
     "metadata": {},
     "output_type": "execute_result"
    }
   ],
   "source": [
    "\"\"\"df['Purchase_date'] = df.apply(lambda row : random_dates(start_date, end_date), axis=1)\n",
    "df['Purchase_date'] = pd.to_datetime(df['Purchase_date'])\"\"\""
   ]
  },
  {
   "cell_type": "code",
   "execution_count": 41,
   "metadata": {},
   "outputs": [
    {
     "data": {
      "text/plain": [
       "\"def generate_birth_date(row):\\n    purchase_date = row['Purchase_date']\\n    age_years = row['Age']\\n    \\n    return purchase_date - pd.DateOffset(years=age_years)\\n\\ndf['Birth_date'] = df.apply(lambda row : generate_birth_date(row), axis=1)\\ndf['Birth_date'] = pd.to_datetime(df['Birth_date'])\""
      ]
     },
     "execution_count": 41,
     "metadata": {},
     "output_type": "execute_result"
    }
   ],
   "source": [
    "\"\"\"def generate_birth_date(row):\n",
    "    purchase_date = row['Purchase_date']\n",
    "    age_years = row['Age']\n",
    "    \n",
    "    return purchase_date - pd.DateOffset(years=age_years)\n",
    "\n",
    "df['Birth_date'] = df.apply(lambda row : generate_birth_date(row), axis=1)\n",
    "df['Birth_date'] = pd.to_datetime(df['Birth_date'])\"\"\""
   ]
  },
  {
   "cell_type": "code",
   "execution_count": 42,
   "metadata": {},
   "outputs": [
    {
     "data": {
      "text/plain": [
       "'import random\\ndef allocate_device(device_lst):\\n    return random.choice(device_lst)'"
      ]
     },
     "execution_count": 42,
     "metadata": {},
     "output_type": "execute_result"
    }
   ],
   "source": [
    "\"\"\"import random\n",
    "def allocate_device(device_lst):\n",
    "    return random.choice(device_lst)\"\"\""
   ]
  },
  {
   "cell_type": "code",
   "execution_count": 43,
   "metadata": {},
   "outputs": [
    {
     "data": {
      "text/plain": [
       "\"device_list = [\\n    'iPhone 10 Black',\\n    'iPhone 11 Black',\\n    'iPhone 10 White',\\n    'iPhone 11 Black',\\n    'iPhone 9',\\n    'Samsung Amazing',\\n    'Huawei Great',\\n    'Nokia Old',\\n    'Samsung Fantastic',\\n    'Huawei Fantastic',\\n    'Samsung Awesome',\\n    'Huawei Awesome',\\n    'Nokia Very Old',\\n    'Ericsson Very Old',\\n    'One Plus 8 128 GB',\\n    'OPPO Find X2 256 GB',\\n    'OPPO Reno 2'\\n]\\n\\ndf['Device'] = df.apply(lambda row : allocate_device(device_list), axis=1)\""
      ]
     },
     "execution_count": 43,
     "metadata": {},
     "output_type": "execute_result"
    }
   ],
   "source": [
    "\"\"\"device_list = [\n",
    "    'iPhone 10 Black',\n",
    "    'iPhone 11 Black',\n",
    "    'iPhone 10 White',\n",
    "    'iPhone 11 Black',\n",
    "    'iPhone 9',\n",
    "    'Samsung Amazing',\n",
    "    'Huawei Great',\n",
    "    'Nokia Old',\n",
    "    'Samsung Fantastic',\n",
    "    'Huawei Fantastic',\n",
    "    'Samsung Awesome',\n",
    "    'Huawei Awesome',\n",
    "    'Nokia Very Old',\n",
    "    'Ericsson Very Old',\n",
    "    'One Plus 8 128 GB',\n",
    "    'OPPO Find X2 256 GB',\n",
    "    'OPPO Reno 2'\n",
    "]\n",
    "\n",
    "df['Device'] = df.apply(lambda row : allocate_device(device_list), axis=1)\"\"\""
   ]
  },
  {
   "cell_type": "code",
   "execution_count": 44,
   "metadata": {},
   "outputs": [
    {
     "data": {
      "text/plain": [
       "'df.head(20)'"
      ]
     },
     "execution_count": 44,
     "metadata": {},
     "output_type": "execute_result"
    }
   ],
   "source": [
    "\"\"\"df.head(20)\"\"\""
   ]
  },
  {
   "cell_type": "code",
   "execution_count": 45,
   "metadata": {},
   "outputs": [
    {
     "data": {
      "text/plain": [
       "\"def generate_label(row):\\n    risk = row['Risk']\\n    if risk == 'good':\\n        return 0\\n    else:\\n        return 1\\n\\ndf['Risk_label'] = df.apply(lambda row : generate_label(row), axis=1)\\ndf.head()\""
      ]
     },
     "execution_count": 45,
     "metadata": {},
     "output_type": "execute_result"
    }
   ],
   "source": [
    "\"\"\"def generate_label(row):\n",
    "    risk = row['Risk']\n",
    "    if risk == 'good':\n",
    "        return 0\n",
    "    else:\n",
    "        return 1\n",
    "\n",
    "df['Risk_label'] = df.apply(lambda row : generate_label(row), axis=1)\n",
    "df.head()\"\"\""
   ]
  },
  {
   "cell_type": "code",
   "execution_count": 46,
   "metadata": {},
   "outputs": [
    {
     "data": {
      "text/plain": [
       "\"df.drop(['risk_label', 'Risk'], axis=1, inplace=True)\""
      ]
     },
     "execution_count": 46,
     "metadata": {},
     "output_type": "execute_result"
    }
   ],
   "source": [
    "\"\"\"df.drop(['risk_label', 'Risk'], axis=1, inplace=True)\"\"\""
   ]
  },
  {
   "cell_type": "code",
   "execution_count": 47,
   "metadata": {},
   "outputs": [
    {
     "data": {
      "text/plain": [
       "\"df.drop(['Age'], axis=1, inplace=True)\""
      ]
     },
     "execution_count": 47,
     "metadata": {},
     "output_type": "execute_result"
    }
   ],
   "source": [
    "\"\"\"df.drop(['Age'], axis=1, inplace=True)\"\"\""
   ]
  },
  {
   "cell_type": "code",
   "execution_count": 48,
   "metadata": {},
   "outputs": [
    {
     "data": {
      "text/plain": [
       "\"df.to_csv('../data/kaggle_german_credit_data_modified.csv', index=False)\""
      ]
     },
     "execution_count": 48,
     "metadata": {},
     "output_type": "execute_result"
    }
   ],
   "source": [
    "\"\"\"df.to_csv('../data/kaggle_german_credit_data_modified.csv', index=False)\"\"\""
   ]
  },
  {
   "cell_type": "markdown",
   "metadata": {},
   "source": [
    "# APPROACH 1: STANDARD, BY-THE-BOOK TRAINING OF A MACHINE LEARNING MODEL (SIMPLIFIED)"
   ]
  },
  {
   "cell_type": "markdown",
   "metadata": {},
   "source": [
    "## DATA EXPLORATION\n",
    "### We will be using a modified open-source German credit scoring dataset. This is a \"faked\" dataset, used here for demo purposes only(!)\n",
    "Original dataset is available under https://www.kaggle.com/uciml/german-credit/data"
   ]
  },
  {
   "cell_type": "code",
   "execution_count": 49,
   "metadata": {
    "scrolled": false
   },
   "outputs": [
    {
     "name": "stdout",
     "output_type": "stream",
     "text": [
      "Reading in selected file...\n",
      "File successfully read in. Analyzing...\n",
      "\n",
      "Table dimensions:\n",
      "Number of rows: 1000\n",
      "Number of columns: 12\n",
      "\n",
      "Overview of the first five table rows:\n"
     ]
    },
    {
     "data": {
      "text/html": [
       "<div>\n",
       "<style scoped>\n",
       "    .dataframe tbody tr th:only-of-type {\n",
       "        vertical-align: middle;\n",
       "    }\n",
       "\n",
       "    .dataframe tbody tr th {\n",
       "        vertical-align: top;\n",
       "    }\n",
       "\n",
       "    .dataframe thead th {\n",
       "        text-align: right;\n",
       "    }\n",
       "</style>\n",
       "<table border=\"1\" class=\"dataframe\">\n",
       "  <thead>\n",
       "    <tr style=\"text-align: right;\">\n",
       "      <th></th>\n",
       "      <th>Job</th>\n",
       "      <th>Housing</th>\n",
       "      <th>Saving accounts</th>\n",
       "      <th>Checking account</th>\n",
       "      <th>Credit amount</th>\n",
       "      <th>Duration</th>\n",
       "      <th>Purpose</th>\n",
       "      <th>Gender</th>\n",
       "      <th>Purchase_date</th>\n",
       "      <th>Birth_date</th>\n",
       "      <th>Device</th>\n",
       "      <th>Risk_label</th>\n",
       "    </tr>\n",
       "  </thead>\n",
       "  <tbody>\n",
       "    <tr>\n",
       "      <th>0</th>\n",
       "      <td>2</td>\n",
       "      <td>own</td>\n",
       "      <td>NaN</td>\n",
       "      <td>little</td>\n",
       "      <td>1169</td>\n",
       "      <td>6</td>\n",
       "      <td>radio/TV</td>\n",
       "      <td>male</td>\n",
       "      <td>2020-01-22</td>\n",
       "      <td>1953-01-22</td>\n",
       "      <td>One Plus 8 128 GB</td>\n",
       "      <td>0</td>\n",
       "    </tr>\n",
       "    <tr>\n",
       "      <th>1</th>\n",
       "      <td>2</td>\n",
       "      <td>own</td>\n",
       "      <td>little</td>\n",
       "      <td>moderate</td>\n",
       "      <td>5951</td>\n",
       "      <td>48</td>\n",
       "      <td>radio/TV</td>\n",
       "      <td>female</td>\n",
       "      <td>2020-04-17</td>\n",
       "      <td>1998-04-17</td>\n",
       "      <td>iPhone 10 Black</td>\n",
       "      <td>1</td>\n",
       "    </tr>\n",
       "    <tr>\n",
       "      <th>2</th>\n",
       "      <td>1</td>\n",
       "      <td>own</td>\n",
       "      <td>little</td>\n",
       "      <td>NaN</td>\n",
       "      <td>2096</td>\n",
       "      <td>12</td>\n",
       "      <td>education</td>\n",
       "      <td>male</td>\n",
       "      <td>2020-04-06</td>\n",
       "      <td>1971-04-06</td>\n",
       "      <td>Samsung Fantastic</td>\n",
       "      <td>0</td>\n",
       "    </tr>\n",
       "    <tr>\n",
       "      <th>3</th>\n",
       "      <td>2</td>\n",
       "      <td>free</td>\n",
       "      <td>little</td>\n",
       "      <td>little</td>\n",
       "      <td>7882</td>\n",
       "      <td>42</td>\n",
       "      <td>furniture/equipment</td>\n",
       "      <td>male</td>\n",
       "      <td>2020-01-19</td>\n",
       "      <td>1975-01-19</td>\n",
       "      <td>Samsung Amazing</td>\n",
       "      <td>0</td>\n",
       "    </tr>\n",
       "    <tr>\n",
       "      <th>4</th>\n",
       "      <td>2</td>\n",
       "      <td>free</td>\n",
       "      <td>little</td>\n",
       "      <td>little</td>\n",
       "      <td>4870</td>\n",
       "      <td>24</td>\n",
       "      <td>car</td>\n",
       "      <td>male</td>\n",
       "      <td>2020-01-06</td>\n",
       "      <td>1967-01-06</td>\n",
       "      <td>OPPO Reno 2</td>\n",
       "      <td>1</td>\n",
       "    </tr>\n",
       "  </tbody>\n",
       "</table>\n",
       "</div>"
      ],
      "text/plain": [
       "   Job Housing Saving accounts Checking account  Credit amount  Duration  \\\n",
       "0    2     own             NaN           little           1169         6   \n",
       "1    2     own          little         moderate           5951        48   \n",
       "2    1     own          little              NaN           2096        12   \n",
       "3    2    free          little           little           7882        42   \n",
       "4    2    free          little           little           4870        24   \n",
       "\n",
       "               Purpose  Gender Purchase_date Birth_date             Device  \\\n",
       "0             radio/TV    male    2020-01-22 1953-01-22  One Plus 8 128 GB   \n",
       "1             radio/TV  female    2020-04-17 1998-04-17    iPhone 10 Black   \n",
       "2            education    male    2020-04-06 1971-04-06  Samsung Fantastic   \n",
       "3  furniture/equipment    male    2020-01-19 1975-01-19    Samsung Amazing   \n",
       "4                  car    male    2020-01-06 1967-01-06        OPPO Reno 2   \n",
       "\n",
       "   Risk_label  \n",
       "0           0  \n",
       "1           1  \n",
       "2           0  \n",
       "3           0  \n",
       "4           1  "
      ]
     },
     "metadata": {},
     "output_type": "display_data"
    },
    {
     "name": "stdout",
     "output_type": "stream",
     "text": [
      "\n",
      "Summary of numeric features\n"
     ]
    },
    {
     "data": {
      "text/html": [
       "<div>\n",
       "<style scoped>\n",
       "    .dataframe tbody tr th:only-of-type {\n",
       "        vertical-align: middle;\n",
       "    }\n",
       "\n",
       "    .dataframe tbody tr th {\n",
       "        vertical-align: top;\n",
       "    }\n",
       "\n",
       "    .dataframe thead th {\n",
       "        text-align: right;\n",
       "    }\n",
       "</style>\n",
       "<table border=\"1\" class=\"dataframe\">\n",
       "  <thead>\n",
       "    <tr style=\"text-align: right;\">\n",
       "      <th></th>\n",
       "      <th>Job</th>\n",
       "      <th>Credit amount</th>\n",
       "      <th>Duration</th>\n",
       "      <th>Risk_label</th>\n",
       "    </tr>\n",
       "  </thead>\n",
       "  <tbody>\n",
       "    <tr>\n",
       "      <th>count</th>\n",
       "      <td>1000.000000</td>\n",
       "      <td>1000.000000</td>\n",
       "      <td>1000.000000</td>\n",
       "      <td>1000.000000</td>\n",
       "    </tr>\n",
       "    <tr>\n",
       "      <th>mean</th>\n",
       "      <td>1.904000</td>\n",
       "      <td>3271.258000</td>\n",
       "      <td>20.903000</td>\n",
       "      <td>0.300000</td>\n",
       "    </tr>\n",
       "    <tr>\n",
       "      <th>std</th>\n",
       "      <td>0.653614</td>\n",
       "      <td>2822.736876</td>\n",
       "      <td>12.058814</td>\n",
       "      <td>0.458487</td>\n",
       "    </tr>\n",
       "    <tr>\n",
       "      <th>min</th>\n",
       "      <td>0.000000</td>\n",
       "      <td>250.000000</td>\n",
       "      <td>4.000000</td>\n",
       "      <td>0.000000</td>\n",
       "    </tr>\n",
       "    <tr>\n",
       "      <th>25%</th>\n",
       "      <td>2.000000</td>\n",
       "      <td>1365.500000</td>\n",
       "      <td>12.000000</td>\n",
       "      <td>0.000000</td>\n",
       "    </tr>\n",
       "    <tr>\n",
       "      <th>50%</th>\n",
       "      <td>2.000000</td>\n",
       "      <td>2319.500000</td>\n",
       "      <td>18.000000</td>\n",
       "      <td>0.000000</td>\n",
       "    </tr>\n",
       "    <tr>\n",
       "      <th>75%</th>\n",
       "      <td>2.000000</td>\n",
       "      <td>3972.250000</td>\n",
       "      <td>24.000000</td>\n",
       "      <td>1.000000</td>\n",
       "    </tr>\n",
       "    <tr>\n",
       "      <th>max</th>\n",
       "      <td>3.000000</td>\n",
       "      <td>18424.000000</td>\n",
       "      <td>72.000000</td>\n",
       "      <td>1.000000</td>\n",
       "    </tr>\n",
       "  </tbody>\n",
       "</table>\n",
       "</div>"
      ],
      "text/plain": [
       "               Job  Credit amount     Duration   Risk_label\n",
       "count  1000.000000    1000.000000  1000.000000  1000.000000\n",
       "mean      1.904000    3271.258000    20.903000     0.300000\n",
       "std       0.653614    2822.736876    12.058814     0.458487\n",
       "min       0.000000     250.000000     4.000000     0.000000\n",
       "25%       2.000000    1365.500000    12.000000     0.000000\n",
       "50%       2.000000    2319.500000    18.000000     0.000000\n",
       "75%       2.000000    3972.250000    24.000000     1.000000\n",
       "max       3.000000   18424.000000    72.000000     1.000000"
      ]
     },
     "metadata": {},
     "output_type": "display_data"
    },
    {
     "name": "stdout",
     "output_type": "stream",
     "text": [
      "\n",
      "Summary of categorical features\n"
     ]
    },
    {
     "data": {
      "text/html": [
       "<div>\n",
       "<style scoped>\n",
       "    .dataframe tbody tr th:only-of-type {\n",
       "        vertical-align: middle;\n",
       "    }\n",
       "\n",
       "    .dataframe tbody tr th {\n",
       "        vertical-align: top;\n",
       "    }\n",
       "\n",
       "    .dataframe thead th {\n",
       "        text-align: right;\n",
       "    }\n",
       "</style>\n",
       "<table border=\"1\" class=\"dataframe\">\n",
       "  <thead>\n",
       "    <tr style=\"text-align: right;\">\n",
       "      <th></th>\n",
       "      <th>Housing</th>\n",
       "      <th>Saving accounts</th>\n",
       "      <th>Checking account</th>\n",
       "      <th>Purpose</th>\n",
       "      <th>Gender</th>\n",
       "      <th>Purchase_date</th>\n",
       "      <th>Birth_date</th>\n",
       "      <th>Device</th>\n",
       "    </tr>\n",
       "  </thead>\n",
       "  <tbody>\n",
       "    <tr>\n",
       "      <th>count</th>\n",
       "      <td>1000</td>\n",
       "      <td>817</td>\n",
       "      <td>606</td>\n",
       "      <td>1000</td>\n",
       "      <td>1000</td>\n",
       "      <td>1000</td>\n",
       "      <td>1000</td>\n",
       "      <td>1000</td>\n",
       "    </tr>\n",
       "    <tr>\n",
       "      <th>unique</th>\n",
       "      <td>3</td>\n",
       "      <td>4</td>\n",
       "      <td>3</td>\n",
       "      <td>8</td>\n",
       "      <td>2</td>\n",
       "      <td>134</td>\n",
       "      <td>895</td>\n",
       "      <td>16</td>\n",
       "    </tr>\n",
       "    <tr>\n",
       "      <th>top</th>\n",
       "      <td>own</td>\n",
       "      <td>little</td>\n",
       "      <td>little</td>\n",
       "      <td>car</td>\n",
       "      <td>male</td>\n",
       "      <td>2020-05-07 00:00:00</td>\n",
       "      <td>1997-02-13 00:00:00</td>\n",
       "      <td>iPhone 11 Black</td>\n",
       "    </tr>\n",
       "    <tr>\n",
       "      <th>freq</th>\n",
       "      <td>713</td>\n",
       "      <td>603</td>\n",
       "      <td>274</td>\n",
       "      <td>337</td>\n",
       "      <td>690</td>\n",
       "      <td>14</td>\n",
       "      <td>4</td>\n",
       "      <td>117</td>\n",
       "    </tr>\n",
       "    <tr>\n",
       "      <th>first</th>\n",
       "      <td>NaN</td>\n",
       "      <td>NaN</td>\n",
       "      <td>NaN</td>\n",
       "      <td>NaN</td>\n",
       "      <td>NaN</td>\n",
       "      <td>2020-01-01 00:00:00</td>\n",
       "      <td>1945-01-09 00:00:00</td>\n",
       "      <td>NaN</td>\n",
       "    </tr>\n",
       "    <tr>\n",
       "      <th>last</th>\n",
       "      <td>NaN</td>\n",
       "      <td>NaN</td>\n",
       "      <td>NaN</td>\n",
       "      <td>NaN</td>\n",
       "      <td>NaN</td>\n",
       "      <td>2020-05-14 00:00:00</td>\n",
       "      <td>2001-05-11 00:00:00</td>\n",
       "      <td>NaN</td>\n",
       "    </tr>\n",
       "  </tbody>\n",
       "</table>\n",
       "</div>"
      ],
      "text/plain": [
       "       Housing Saving accounts Checking account Purpose Gender  \\\n",
       "count     1000             817              606    1000   1000   \n",
       "unique       3               4                3       8      2   \n",
       "top        own          little           little     car   male   \n",
       "freq       713             603              274     337    690   \n",
       "first      NaN             NaN              NaN     NaN    NaN   \n",
       "last       NaN             NaN              NaN     NaN    NaN   \n",
       "\n",
       "              Purchase_date           Birth_date           Device  \n",
       "count                  1000                 1000             1000  \n",
       "unique                  134                  895               16  \n",
       "top     2020-05-07 00:00:00  1997-02-13 00:00:00  iPhone 11 Black  \n",
       "freq                     14                    4              117  \n",
       "first   2020-01-01 00:00:00  1945-01-09 00:00:00              NaN  \n",
       "last    2020-05-14 00:00:00  2001-05-11 00:00:00              NaN  "
      ]
     },
     "metadata": {},
     "output_type": "display_data"
    },
    {
     "name": "stdout",
     "output_type": "stream",
     "text": [
      "\n",
      "Number of missing values per column:\n"
     ]
    },
    {
     "data": {
      "text/plain": [
       "Job                   0\n",
       "Housing               0\n",
       "Saving accounts     183\n",
       "Checking account    394\n",
       "Credit amount         0\n",
       "Duration              0\n",
       "Purpose               0\n",
       "Gender                0\n",
       "Purchase_date         0\n",
       "Birth_date            0\n",
       "Device                0\n",
       "Risk_label            0\n",
       "dtype: int64"
      ]
     },
     "metadata": {},
     "output_type": "display_data"
    },
    {
     "name": "stdout",
     "output_type": "stream",
     "text": [
      "\n",
      "Number of high risk (label == 1) vs. low risk (label == 0) applicants:\n"
     ]
    },
    {
     "data": {
      "image/png": "[encoded data removed]",
      "text/plain": [
       "<Figure size 432x288 with 1 Axes>"
      ]
     },
     "metadata": {
      "needs_background": "light"
     },
     "output_type": "display_data"
    },
    {
     "data": {
      "text/plain": [
       "0    700\n",
       "1    300\n",
       "Name: Risk_label, dtype: int64"
      ]
     },
     "metadata": {},
     "output_type": "display_data"
    },
    {
     "name": "stdout",
     "output_type": "stream",
     "text": [
      "\n",
      "Distribution of devices used:\n"
     ]
    },
    {
     "data": {
      "image/png": "[encoded data removed]",
      "text/plain": [
       "<Figure size 432x288 with 1 Axes>"
      ]
     },
     "metadata": {
      "needs_background": "light"
     },
     "output_type": "display_data"
    },
    {
     "name": "stdout",
     "output_type": "stream",
     "text": [
      "\n",
      "Number of unique values in the \"Job\" column:\n"
     ]
    },
    {
     "data": {
      "image/png": "[encoded data removed]",
      "text/plain": [
       "<Figure size 432x288 with 1 Axes>"
      ]
     },
     "metadata": {
      "needs_background": "light"
     },
     "output_type": "display_data"
    }
   ],
   "source": [
    "# Load dataset\n",
    "print('Reading in selected file...')\n",
    "df_original = pd.read_csv('../data/kaggle_german_credit_data_modified.csv',\n",
    "                          parse_dates = ['Purchase_date', 'Birth_date'],\n",
    "                          low_memory=False)\n",
    "\n",
    "df = df_original.copy()\n",
    "print('File successfully read in. Analyzing...')\n",
    "print()\n",
    "print('Table dimensions:')\n",
    "print('Number of rows:', df.shape[0])\n",
    "print('Number of columns:', df.shape[1])\n",
    "print()\n",
    "print('Overview of the first five table rows:')\n",
    "display(df.head())\n",
    "#print('Column datatypes:')\n",
    "#print(df.dtypes)\n",
    "print()\n",
    "print('Summary of numeric features')\n",
    "display(df.describe())\n",
    "print()\n",
    "print('Summary of categorical features')\n",
    "display(df.describe(include=['object', 'datetime']))\n",
    "print()\n",
    "print('Number of missing values per column:')\n",
    "display(df.isna().sum())\n",
    "print()\n",
    "print('Number of high risk (label == 1) vs. low risk (label == 0) applicants:')\n",
    "sns.countplot(y='Risk_label', data=df)\n",
    "plt.show()\n",
    "display(df['Risk_label'].value_counts())\n",
    "print()\n",
    "print('Distribution of devices used:')\n",
    "sns.countplot(y='Device', data=df)\n",
    "plt.show()\n",
    "print()\n",
    "print('Number of unique values in the \"Job\" column:')\n",
    "sns.countplot(y='Job', data=df)\n",
    "plt.show()"
   ]
  },
  {
   "cell_type": "markdown",
   "metadata": {},
   "source": [
    "### --> You would normally take many more data exploration steps, we skip them here for the sake of brevity."
   ]
  },
  {
   "cell_type": "markdown",
   "metadata": {},
   "source": [
    "### Your initial conclusions (example):\n",
    "* I will need to deal with missing values in savings account and checking account columns\n",
    "* Purchase date and birth date columns have very high cardinality, and in general dates should not be used as-is in model training. I will need to recode these columns into something useful.\n",
    "* A credit risk analyst told me that the risk profile of iPhone users is different than that of people using other devices. I want to recode the Device column in iPhone vs. other devices.\n",
    "* The job column looks like an integer-encoded categorical feature\n",
    "* ..."
   ]
  },
  {
   "cell_type": "markdown",
   "metadata": {},
   "source": [
    "## DATA CLEANING"
   ]
  },
  {
   "cell_type": "markdown",
   "metadata": {},
   "source": [
    "#### Fill missing values in savings account and checking account columns"
   ]
  },
  {
   "cell_type": "code",
   "execution_count": 50,
   "metadata": {},
   "outputs": [
    {
     "name": "stdout",
     "output_type": "stream",
     "text": [
      "Number of missing values in savings account and checking account columns:\n"
     ]
    },
    {
     "data": {
      "text/plain": [
       "Saving accounts     183\n",
       "Checking account    394\n",
       "dtype: int64"
      ]
     },
     "metadata": {},
     "output_type": "display_data"
    }
   ],
   "source": [
    "print('Number of missing values in savings account and checking account columns:')\n",
    "display(df[['Saving accounts', 'Checking account']].isna().sum())"
   ]
  },
  {
   "cell_type": "code",
   "execution_count": 51,
   "metadata": {},
   "outputs": [
    {
     "name": "stdout",
     "output_type": "stream",
     "text": [
      "Filling missing values...\n",
      "Done.\n"
     ]
    }
   ],
   "source": [
    "print('Filling missing values...')\n",
    "for column in df[['Saving accounts', 'Checking account']]:\n",
    "    df[column] = df[column].fillna('Missing')\n",
    "\n",
    "print('Done.')"
   ]
  },
  {
   "cell_type": "code",
   "execution_count": 52,
   "metadata": {},
   "outputs": [
    {
     "name": "stdout",
     "output_type": "stream",
     "text": [
      "Number of missing values in savings account and checking account columns:\n"
     ]
    },
    {
     "data": {
      "text/plain": [
       "Saving accounts     0\n",
       "Checking account    0\n",
       "dtype: int64"
      ]
     },
     "metadata": {},
     "output_type": "display_data"
    }
   ],
   "source": [
    "print('Number of missing values in savings account and checking account columns:')\n",
    "display(df[['Saving accounts', 'Checking account']].isna().sum())"
   ]
  },
  {
   "cell_type": "markdown",
   "metadata": {},
   "source": [
    "#### Cast integer-encoded \"Job\" column to string (all non-numeric features will be one-hot encoded at a later stage)"
   ]
  },
  {
   "cell_type": "code",
   "execution_count": 53,
   "metadata": {},
   "outputs": [
    {
     "name": "stdout",
     "output_type": "stream",
     "text": [
      "Dtype of the \"Job\" column:\n"
     ]
    },
    {
     "data": {
      "text/plain": [
       "dtype('int64')"
      ]
     },
     "metadata": {},
     "output_type": "display_data"
    }
   ],
   "source": [
    "print('Dtype of the \"Job\" column:')\n",
    "display(df['Job'].dtype)"
   ]
  },
  {
   "cell_type": "code",
   "execution_count": 54,
   "metadata": {},
   "outputs": [
    {
     "name": "stdout",
     "output_type": "stream",
     "text": [
      "Casting \"Job\" column to string...\n",
      "Done.\n"
     ]
    }
   ],
   "source": [
    "print('Casting \"Job\" column to string...')\n",
    "df['Job'] = df['Job'].astype(str)\n",
    "print('Done.')"
   ]
  },
  {
   "cell_type": "code",
   "execution_count": 55,
   "metadata": {},
   "outputs": [
    {
     "name": "stdout",
     "output_type": "stream",
     "text": [
      "Dtype of the \"Job\" column:\n"
     ]
    },
    {
     "data": {
      "text/plain": [
       "dtype('O')"
      ]
     },
     "metadata": {},
     "output_type": "display_data"
    }
   ],
   "source": [
    "print('Dtype of the \"Job\" column:')\n",
    "display(df['Job'].dtype)"
   ]
  },
  {
   "cell_type": "markdown",
   "metadata": {},
   "source": [
    "## FEATURE ENGINEERING"
   ]
  },
  {
   "cell_type": "markdown",
   "metadata": {},
   "source": [
    "#### Engineer age feature (based on purchase date and date of birth)"
   ]
  },
  {
   "cell_type": "code",
   "execution_count": 56,
   "metadata": {},
   "outputs": [
    {
     "data": {
      "text/html": [
       "<div>\n",
       "<style scoped>\n",
       "    .dataframe tbody tr th:only-of-type {\n",
       "        vertical-align: middle;\n",
       "    }\n",
       "\n",
       "    .dataframe tbody tr th {\n",
       "        vertical-align: top;\n",
       "    }\n",
       "\n",
       "    .dataframe thead th {\n",
       "        text-align: right;\n",
       "    }\n",
       "</style>\n",
       "<table border=\"1\" class=\"dataframe\">\n",
       "  <thead>\n",
       "    <tr style=\"text-align: right;\">\n",
       "      <th></th>\n",
       "      <th>Job</th>\n",
       "      <th>Housing</th>\n",
       "      <th>Saving accounts</th>\n",
       "      <th>Checking account</th>\n",
       "      <th>Credit amount</th>\n",
       "      <th>Duration</th>\n",
       "      <th>Purpose</th>\n",
       "      <th>Gender</th>\n",
       "      <th>Purchase_date</th>\n",
       "      <th>Birth_date</th>\n",
       "      <th>Device</th>\n",
       "      <th>Risk_label</th>\n",
       "      <th>Age</th>\n",
       "    </tr>\n",
       "  </thead>\n",
       "  <tbody>\n",
       "    <tr>\n",
       "      <th>0</th>\n",
       "      <td>2</td>\n",
       "      <td>own</td>\n",
       "      <td>Missing</td>\n",
       "      <td>little</td>\n",
       "      <td>1169</td>\n",
       "      <td>6</td>\n",
       "      <td>radio/TV</td>\n",
       "      <td>male</td>\n",
       "      <td>2020-01-22</td>\n",
       "      <td>1953-01-22</td>\n",
       "      <td>One Plus 8 128 GB</td>\n",
       "      <td>0</td>\n",
       "      <td>66</td>\n",
       "    </tr>\n",
       "    <tr>\n",
       "      <th>1</th>\n",
       "      <td>2</td>\n",
       "      <td>own</td>\n",
       "      <td>little</td>\n",
       "      <td>moderate</td>\n",
       "      <td>5951</td>\n",
       "      <td>48</td>\n",
       "      <td>radio/TV</td>\n",
       "      <td>female</td>\n",
       "      <td>2020-04-17</td>\n",
       "      <td>1998-04-17</td>\n",
       "      <td>iPhone 10 Black</td>\n",
       "      <td>1</td>\n",
       "      <td>22</td>\n",
       "    </tr>\n",
       "    <tr>\n",
       "      <th>2</th>\n",
       "      <td>1</td>\n",
       "      <td>own</td>\n",
       "      <td>little</td>\n",
       "      <td>Missing</td>\n",
       "      <td>2096</td>\n",
       "      <td>12</td>\n",
       "      <td>education</td>\n",
       "      <td>male</td>\n",
       "      <td>2020-04-06</td>\n",
       "      <td>1971-04-06</td>\n",
       "      <td>Samsung Fantastic</td>\n",
       "      <td>0</td>\n",
       "      <td>49</td>\n",
       "    </tr>\n",
       "    <tr>\n",
       "      <th>3</th>\n",
       "      <td>2</td>\n",
       "      <td>free</td>\n",
       "      <td>little</td>\n",
       "      <td>little</td>\n",
       "      <td>7882</td>\n",
       "      <td>42</td>\n",
       "      <td>furniture/equipment</td>\n",
       "      <td>male</td>\n",
       "      <td>2020-01-19</td>\n",
       "      <td>1975-01-19</td>\n",
       "      <td>Samsung Amazing</td>\n",
       "      <td>0</td>\n",
       "      <td>45</td>\n",
       "    </tr>\n",
       "    <tr>\n",
       "      <th>4</th>\n",
       "      <td>2</td>\n",
       "      <td>free</td>\n",
       "      <td>little</td>\n",
       "      <td>little</td>\n",
       "      <td>4870</td>\n",
       "      <td>24</td>\n",
       "      <td>car</td>\n",
       "      <td>male</td>\n",
       "      <td>2020-01-06</td>\n",
       "      <td>1967-01-06</td>\n",
       "      <td>OPPO Reno 2</td>\n",
       "      <td>1</td>\n",
       "      <td>53</td>\n",
       "    </tr>\n",
       "  </tbody>\n",
       "</table>\n",
       "</div>"
      ],
      "text/plain": [
       "  Job Housing Saving accounts Checking account  Credit amount  Duration  \\\n",
       "0   2     own         Missing           little           1169         6   \n",
       "1   2     own          little         moderate           5951        48   \n",
       "2   1     own          little          Missing           2096        12   \n",
       "3   2    free          little           little           7882        42   \n",
       "4   2    free          little           little           4870        24   \n",
       "\n",
       "               Purpose  Gender Purchase_date Birth_date             Device  \\\n",
       "0             radio/TV    male    2020-01-22 1953-01-22  One Plus 8 128 GB   \n",
       "1             radio/TV  female    2020-04-17 1998-04-17    iPhone 10 Black   \n",
       "2            education    male    2020-04-06 1971-04-06  Samsung Fantastic   \n",
       "3  furniture/equipment    male    2020-01-19 1975-01-19    Samsung Amazing   \n",
       "4                  car    male    2020-01-06 1967-01-06        OPPO Reno 2   \n",
       "\n",
       "   Risk_label  Age  \n",
       "0           0   66  \n",
       "1           1   22  \n",
       "2           0   49  \n",
       "3           0   45  \n",
       "4           1   53  "
      ]
     },
     "execution_count": 56,
     "metadata": {},
     "output_type": "execute_result"
    }
   ],
   "source": [
    "def calculate_age(reference_date, birth_date):\n",
    "    days_in_year = 365.2425\n",
    "    try:\n",
    "        age = int((pd.to_datetime(reference_date, infer_datetime_format=True) - pd.to_datetime(birth_date, infer_datetime_format=True)).days / days_in_year)\n",
    "    except:\n",
    "        age = None\n",
    "\n",
    "    return age\n",
    "\n",
    "def create_age_column(row, reference_date_column, birth_date_column):\n",
    "    return calculate_age(row[reference_date_column], row[birth_date_column])\n",
    "\n",
    "reference_date_column = 'Purchase_date'\n",
    "birth_date_column = 'Birth_date'\n",
    "\n",
    "df['Age'] = df.apply(lambda row: create_age_column(row, reference_date_column, birth_date_column), axis=1)\n",
    "df.head()"
   ]
  },
  {
   "cell_type": "markdown",
   "metadata": {},
   "source": [
    "#### --> Normally, you would probably additionally bin the \"Age\" into a handful of categories, but we are skipping this step here for the sake of brevity."
   ]
  },
  {
   "cell_type": "markdown",
   "metadata": {},
   "source": [
    "#### Engineer day of the week feature (based on purchase date) "
   ]
  },
  {
   "cell_type": "code",
   "execution_count": 57,
   "metadata": {},
   "outputs": [
    {
     "data": {
      "text/html": [
       "<div>\n",
       "<style scoped>\n",
       "    .dataframe tbody tr th:only-of-type {\n",
       "        vertical-align: middle;\n",
       "    }\n",
       "\n",
       "    .dataframe tbody tr th {\n",
       "        vertical-align: top;\n",
       "    }\n",
       "\n",
       "    .dataframe thead th {\n",
       "        text-align: right;\n",
       "    }\n",
       "</style>\n",
       "<table border=\"1\" class=\"dataframe\">\n",
       "  <thead>\n",
       "    <tr style=\"text-align: right;\">\n",
       "      <th></th>\n",
       "      <th>Job</th>\n",
       "      <th>Housing</th>\n",
       "      <th>Saving accounts</th>\n",
       "      <th>Checking account</th>\n",
       "      <th>Credit amount</th>\n",
       "      <th>Duration</th>\n",
       "      <th>Purpose</th>\n",
       "      <th>Gender</th>\n",
       "      <th>Purchase_date</th>\n",
       "      <th>Birth_date</th>\n",
       "      <th>Device</th>\n",
       "      <th>Risk_label</th>\n",
       "      <th>Age</th>\n",
       "      <th>Purchase_weekday</th>\n",
       "    </tr>\n",
       "  </thead>\n",
       "  <tbody>\n",
       "    <tr>\n",
       "      <th>0</th>\n",
       "      <td>2</td>\n",
       "      <td>own</td>\n",
       "      <td>Missing</td>\n",
       "      <td>little</td>\n",
       "      <td>1169</td>\n",
       "      <td>6</td>\n",
       "      <td>radio/TV</td>\n",
       "      <td>male</td>\n",
       "      <td>2020-01-22</td>\n",
       "      <td>1953-01-22</td>\n",
       "      <td>One Plus 8 128 GB</td>\n",
       "      <td>0</td>\n",
       "      <td>66</td>\n",
       "      <td>Wednesday</td>\n",
       "    </tr>\n",
       "    <tr>\n",
       "      <th>1</th>\n",
       "      <td>2</td>\n",
       "      <td>own</td>\n",
       "      <td>little</td>\n",
       "      <td>moderate</td>\n",
       "      <td>5951</td>\n",
       "      <td>48</td>\n",
       "      <td>radio/TV</td>\n",
       "      <td>female</td>\n",
       "      <td>2020-04-17</td>\n",
       "      <td>1998-04-17</td>\n",
       "      <td>iPhone 10 Black</td>\n",
       "      <td>1</td>\n",
       "      <td>22</td>\n",
       "      <td>Friday</td>\n",
       "    </tr>\n",
       "    <tr>\n",
       "      <th>2</th>\n",
       "      <td>1</td>\n",
       "      <td>own</td>\n",
       "      <td>little</td>\n",
       "      <td>Missing</td>\n",
       "      <td>2096</td>\n",
       "      <td>12</td>\n",
       "      <td>education</td>\n",
       "      <td>male</td>\n",
       "      <td>2020-04-06</td>\n",
       "      <td>1971-04-06</td>\n",
       "      <td>Samsung Fantastic</td>\n",
       "      <td>0</td>\n",
       "      <td>49</td>\n",
       "      <td>Monday</td>\n",
       "    </tr>\n",
       "    <tr>\n",
       "      <th>3</th>\n",
       "      <td>2</td>\n",
       "      <td>free</td>\n",
       "      <td>little</td>\n",
       "      <td>little</td>\n",
       "      <td>7882</td>\n",
       "      <td>42</td>\n",
       "      <td>furniture/equipment</td>\n",
       "      <td>male</td>\n",
       "      <td>2020-01-19</td>\n",
       "      <td>1975-01-19</td>\n",
       "      <td>Samsung Amazing</td>\n",
       "      <td>0</td>\n",
       "      <td>45</td>\n",
       "      <td>Sunday</td>\n",
       "    </tr>\n",
       "    <tr>\n",
       "      <th>4</th>\n",
       "      <td>2</td>\n",
       "      <td>free</td>\n",
       "      <td>little</td>\n",
       "      <td>little</td>\n",
       "      <td>4870</td>\n",
       "      <td>24</td>\n",
       "      <td>car</td>\n",
       "      <td>male</td>\n",
       "      <td>2020-01-06</td>\n",
       "      <td>1967-01-06</td>\n",
       "      <td>OPPO Reno 2</td>\n",
       "      <td>1</td>\n",
       "      <td>53</td>\n",
       "      <td>Monday</td>\n",
       "    </tr>\n",
       "  </tbody>\n",
       "</table>\n",
       "</div>"
      ],
      "text/plain": [
       "  Job Housing Saving accounts Checking account  Credit amount  Duration  \\\n",
       "0   2     own         Missing           little           1169         6   \n",
       "1   2     own          little         moderate           5951        48   \n",
       "2   1     own          little          Missing           2096        12   \n",
       "3   2    free          little           little           7882        42   \n",
       "4   2    free          little           little           4870        24   \n",
       "\n",
       "               Purpose  Gender Purchase_date Birth_date             Device  \\\n",
       "0             radio/TV    male    2020-01-22 1953-01-22  One Plus 8 128 GB   \n",
       "1             radio/TV  female    2020-04-17 1998-04-17    iPhone 10 Black   \n",
       "2            education    male    2020-04-06 1971-04-06  Samsung Fantastic   \n",
       "3  furniture/equipment    male    2020-01-19 1975-01-19    Samsung Amazing   \n",
       "4                  car    male    2020-01-06 1967-01-06        OPPO Reno 2   \n",
       "\n",
       "   Risk_label  Age Purchase_weekday  \n",
       "0           0   66        Wednesday  \n",
       "1           1   22           Friday  \n",
       "2           0   49           Monday  \n",
       "3           0   45           Sunday  \n",
       "4           1   53           Monday  "
      ]
     },
     "execution_count": 57,
     "metadata": {},
     "output_type": "execute_result"
    }
   ],
   "source": [
    "def find_day_of_week(date_string):\n",
    "    recognized_date = pd.to_datetime(date_string, infer_datetime_format=True)\n",
    "\n",
    "    return calendar.day_name[recognized_date.weekday()]\n",
    "\n",
    "df['Purchase_weekday'] = df['Purchase_date'].map(lambda x: find_day_of_week(x))\n",
    "df.head()"
   ]
  },
  {
   "cell_type": "markdown",
   "metadata": {},
   "source": [
    "#### Engineer binary \"iPhone\" vs. \"other device\" feature"
   ]
  },
  {
   "cell_type": "code",
   "execution_count": 58,
   "metadata": {},
   "outputs": [
    {
     "data": {
      "text/html": [
       "<div>\n",
       "<style scoped>\n",
       "    .dataframe tbody tr th:only-of-type {\n",
       "        vertical-align: middle;\n",
       "    }\n",
       "\n",
       "    .dataframe tbody tr th {\n",
       "        vertical-align: top;\n",
       "    }\n",
       "\n",
       "    .dataframe thead th {\n",
       "        text-align: right;\n",
       "    }\n",
       "</style>\n",
       "<table border=\"1\" class=\"dataframe\">\n",
       "  <thead>\n",
       "    <tr style=\"text-align: right;\">\n",
       "      <th></th>\n",
       "      <th>Job</th>\n",
       "      <th>Housing</th>\n",
       "      <th>Saving accounts</th>\n",
       "      <th>Checking account</th>\n",
       "      <th>Credit amount</th>\n",
       "      <th>Duration</th>\n",
       "      <th>Purpose</th>\n",
       "      <th>Gender</th>\n",
       "      <th>Purchase_date</th>\n",
       "      <th>Birth_date</th>\n",
       "      <th>Device</th>\n",
       "      <th>Risk_label</th>\n",
       "      <th>Age</th>\n",
       "      <th>Purchase_weekday</th>\n",
       "    </tr>\n",
       "  </thead>\n",
       "  <tbody>\n",
       "    <tr>\n",
       "      <th>0</th>\n",
       "      <td>2</td>\n",
       "      <td>own</td>\n",
       "      <td>Missing</td>\n",
       "      <td>little</td>\n",
       "      <td>1169</td>\n",
       "      <td>6</td>\n",
       "      <td>radio/TV</td>\n",
       "      <td>male</td>\n",
       "      <td>2020-01-22</td>\n",
       "      <td>1953-01-22</td>\n",
       "      <td>Other</td>\n",
       "      <td>0</td>\n",
       "      <td>66</td>\n",
       "      <td>Wednesday</td>\n",
       "    </tr>\n",
       "    <tr>\n",
       "      <th>1</th>\n",
       "      <td>2</td>\n",
       "      <td>own</td>\n",
       "      <td>little</td>\n",
       "      <td>moderate</td>\n",
       "      <td>5951</td>\n",
       "      <td>48</td>\n",
       "      <td>radio/TV</td>\n",
       "      <td>female</td>\n",
       "      <td>2020-04-17</td>\n",
       "      <td>1998-04-17</td>\n",
       "      <td>iPhone</td>\n",
       "      <td>1</td>\n",
       "      <td>22</td>\n",
       "      <td>Friday</td>\n",
       "    </tr>\n",
       "    <tr>\n",
       "      <th>2</th>\n",
       "      <td>1</td>\n",
       "      <td>own</td>\n",
       "      <td>little</td>\n",
       "      <td>Missing</td>\n",
       "      <td>2096</td>\n",
       "      <td>12</td>\n",
       "      <td>education</td>\n",
       "      <td>male</td>\n",
       "      <td>2020-04-06</td>\n",
       "      <td>1971-04-06</td>\n",
       "      <td>Other</td>\n",
       "      <td>0</td>\n",
       "      <td>49</td>\n",
       "      <td>Monday</td>\n",
       "    </tr>\n",
       "    <tr>\n",
       "      <th>3</th>\n",
       "      <td>2</td>\n",
       "      <td>free</td>\n",
       "      <td>little</td>\n",
       "      <td>little</td>\n",
       "      <td>7882</td>\n",
       "      <td>42</td>\n",
       "      <td>furniture/equipment</td>\n",
       "      <td>male</td>\n",
       "      <td>2020-01-19</td>\n",
       "      <td>1975-01-19</td>\n",
       "      <td>Other</td>\n",
       "      <td>0</td>\n",
       "      <td>45</td>\n",
       "      <td>Sunday</td>\n",
       "    </tr>\n",
       "    <tr>\n",
       "      <th>4</th>\n",
       "      <td>2</td>\n",
       "      <td>free</td>\n",
       "      <td>little</td>\n",
       "      <td>little</td>\n",
       "      <td>4870</td>\n",
       "      <td>24</td>\n",
       "      <td>car</td>\n",
       "      <td>male</td>\n",
       "      <td>2020-01-06</td>\n",
       "      <td>1967-01-06</td>\n",
       "      <td>Other</td>\n",
       "      <td>1</td>\n",
       "      <td>53</td>\n",
       "      <td>Monday</td>\n",
       "    </tr>\n",
       "    <tr>\n",
       "      <th>5</th>\n",
       "      <td>1</td>\n",
       "      <td>free</td>\n",
       "      <td>Missing</td>\n",
       "      <td>Missing</td>\n",
       "      <td>9055</td>\n",
       "      <td>36</td>\n",
       "      <td>education</td>\n",
       "      <td>male</td>\n",
       "      <td>2020-01-27</td>\n",
       "      <td>1985-01-27</td>\n",
       "      <td>iPhone</td>\n",
       "      <td>0</td>\n",
       "      <td>34</td>\n",
       "      <td>Monday</td>\n",
       "    </tr>\n",
       "    <tr>\n",
       "      <th>6</th>\n",
       "      <td>2</td>\n",
       "      <td>own</td>\n",
       "      <td>quite rich</td>\n",
       "      <td>Missing</td>\n",
       "      <td>2835</td>\n",
       "      <td>24</td>\n",
       "      <td>furniture/equipment</td>\n",
       "      <td>male</td>\n",
       "      <td>2020-03-15</td>\n",
       "      <td>1967-03-15</td>\n",
       "      <td>iPhone</td>\n",
       "      <td>0</td>\n",
       "      <td>53</td>\n",
       "      <td>Sunday</td>\n",
       "    </tr>\n",
       "    <tr>\n",
       "      <th>7</th>\n",
       "      <td>3</td>\n",
       "      <td>rent</td>\n",
       "      <td>little</td>\n",
       "      <td>moderate</td>\n",
       "      <td>6948</td>\n",
       "      <td>36</td>\n",
       "      <td>car</td>\n",
       "      <td>male</td>\n",
       "      <td>2020-03-24</td>\n",
       "      <td>1985-03-24</td>\n",
       "      <td>Other</td>\n",
       "      <td>0</td>\n",
       "      <td>35</td>\n",
       "      <td>Tuesday</td>\n",
       "    </tr>\n",
       "    <tr>\n",
       "      <th>8</th>\n",
       "      <td>1</td>\n",
       "      <td>own</td>\n",
       "      <td>rich</td>\n",
       "      <td>Missing</td>\n",
       "      <td>3059</td>\n",
       "      <td>12</td>\n",
       "      <td>radio/TV</td>\n",
       "      <td>male</td>\n",
       "      <td>2020-02-20</td>\n",
       "      <td>1959-02-20</td>\n",
       "      <td>iPhone</td>\n",
       "      <td>0</td>\n",
       "      <td>61</td>\n",
       "      <td>Thursday</td>\n",
       "    </tr>\n",
       "    <tr>\n",
       "      <th>9</th>\n",
       "      <td>3</td>\n",
       "      <td>own</td>\n",
       "      <td>little</td>\n",
       "      <td>moderate</td>\n",
       "      <td>5234</td>\n",
       "      <td>30</td>\n",
       "      <td>car</td>\n",
       "      <td>male</td>\n",
       "      <td>2020-02-28</td>\n",
       "      <td>1992-02-28</td>\n",
       "      <td>iPhone</td>\n",
       "      <td>1</td>\n",
       "      <td>28</td>\n",
       "      <td>Friday</td>\n",
       "    </tr>\n",
       "  </tbody>\n",
       "</table>\n",
       "</div>"
      ],
      "text/plain": [
       "  Job Housing Saving accounts Checking account  Credit amount  Duration  \\\n",
       "0   2     own         Missing           little           1169         6   \n",
       "1   2     own          little         moderate           5951        48   \n",
       "2   1     own          little          Missing           2096        12   \n",
       "3   2    free          little           little           7882        42   \n",
       "4   2    free          little           little           4870        24   \n",
       "5   1    free         Missing          Missing           9055        36   \n",
       "6   2     own      quite rich          Missing           2835        24   \n",
       "7   3    rent          little         moderate           6948        36   \n",
       "8   1     own            rich          Missing           3059        12   \n",
       "9   3     own          little         moderate           5234        30   \n",
       "\n",
       "               Purpose  Gender Purchase_date Birth_date  Device  Risk_label  \\\n",
       "0             radio/TV    male    2020-01-22 1953-01-22   Other           0   \n",
       "1             radio/TV  female    2020-04-17 1998-04-17  iPhone           1   \n",
       "2            education    male    2020-04-06 1971-04-06   Other           0   \n",
       "3  furniture/equipment    male    2020-01-19 1975-01-19   Other           0   \n",
       "4                  car    male    2020-01-06 1967-01-06   Other           1   \n",
       "5            education    male    2020-01-27 1985-01-27  iPhone           0   \n",
       "6  furniture/equipment    male    2020-03-15 1967-03-15  iPhone           0   \n",
       "7                  car    male    2020-03-24 1985-03-24   Other           0   \n",
       "8             radio/TV    male    2020-02-20 1959-02-20  iPhone           0   \n",
       "9                  car    male    2020-02-28 1992-02-28  iPhone           1   \n",
       "\n",
       "   Age Purchase_weekday  \n",
       "0   66        Wednesday  \n",
       "1   22           Friday  \n",
       "2   49           Monday  \n",
       "3   45           Sunday  \n",
       "4   53           Monday  \n",
       "5   34           Monday  \n",
       "6   53           Sunday  \n",
       "7   35          Tuesday  \n",
       "8   61         Thursday  \n",
       "9   28           Friday  "
      ]
     },
     "execution_count": 58,
     "metadata": {},
     "output_type": "execute_result"
    }
   ],
   "source": [
    "def identify_device(string):\n",
    "    if 'iphone' in string.lower():\n",
    "        return 'iPhone'\n",
    "    else:\n",
    "        return 'Other'\n",
    "\n",
    "df['Device'] = df['Device'].map(lambda x: identify_device(str(x)))\n",
    "df.head(10)"
   ]
  },
  {
   "cell_type": "markdown",
   "metadata": {},
   "source": [
    "## MODEL TRAINING & EVALUATION"
   ]
  },
  {
   "cell_type": "code",
   "execution_count": 59,
   "metadata": {},
   "outputs": [
    {
     "name": "stdout",
     "output_type": "stream",
     "text": [
      "Drop purchase date and birth date columns.\n"
     ]
    },
    {
     "data": {
      "text/html": [
       "<div>\n",
       "<style scoped>\n",
       "    .dataframe tbody tr th:only-of-type {\n",
       "        vertical-align: middle;\n",
       "    }\n",
       "\n",
       "    .dataframe tbody tr th {\n",
       "        vertical-align: top;\n",
       "    }\n",
       "\n",
       "    .dataframe thead th {\n",
       "        text-align: right;\n",
       "    }\n",
       "</style>\n",
       "<table border=\"1\" class=\"dataframe\">\n",
       "  <thead>\n",
       "    <tr style=\"text-align: right;\">\n",
       "      <th></th>\n",
       "      <th>Job</th>\n",
       "      <th>Housing</th>\n",
       "      <th>Saving accounts</th>\n",
       "      <th>Checking account</th>\n",
       "      <th>Credit amount</th>\n",
       "      <th>Duration</th>\n",
       "      <th>Purpose</th>\n",
       "      <th>Gender</th>\n",
       "      <th>Device</th>\n",
       "      <th>Risk_label</th>\n",
       "      <th>Age</th>\n",
       "      <th>Purchase_weekday</th>\n",
       "    </tr>\n",
       "  </thead>\n",
       "  <tbody>\n",
       "    <tr>\n",
       "      <th>0</th>\n",
       "      <td>2</td>\n",
       "      <td>own</td>\n",
       "      <td>Missing</td>\n",
       "      <td>little</td>\n",
       "      <td>1169</td>\n",
       "      <td>6</td>\n",
       "      <td>radio/TV</td>\n",
       "      <td>male</td>\n",
       "      <td>Other</td>\n",
       "      <td>0</td>\n",
       "      <td>66</td>\n",
       "      <td>Wednesday</td>\n",
       "    </tr>\n",
       "    <tr>\n",
       "      <th>1</th>\n",
       "      <td>2</td>\n",
       "      <td>own</td>\n",
       "      <td>little</td>\n",
       "      <td>moderate</td>\n",
       "      <td>5951</td>\n",
       "      <td>48</td>\n",
       "      <td>radio/TV</td>\n",
       "      <td>female</td>\n",
       "      <td>iPhone</td>\n",
       "      <td>1</td>\n",
       "      <td>22</td>\n",
       "      <td>Friday</td>\n",
       "    </tr>\n",
       "    <tr>\n",
       "      <th>2</th>\n",
       "      <td>1</td>\n",
       "      <td>own</td>\n",
       "      <td>little</td>\n",
       "      <td>Missing</td>\n",
       "      <td>2096</td>\n",
       "      <td>12</td>\n",
       "      <td>education</td>\n",
       "      <td>male</td>\n",
       "      <td>Other</td>\n",
       "      <td>0</td>\n",
       "      <td>49</td>\n",
       "      <td>Monday</td>\n",
       "    </tr>\n",
       "    <tr>\n",
       "      <th>3</th>\n",
       "      <td>2</td>\n",
       "      <td>free</td>\n",
       "      <td>little</td>\n",
       "      <td>little</td>\n",
       "      <td>7882</td>\n",
       "      <td>42</td>\n",
       "      <td>furniture/equipment</td>\n",
       "      <td>male</td>\n",
       "      <td>Other</td>\n",
       "      <td>0</td>\n",
       "      <td>45</td>\n",
       "      <td>Sunday</td>\n",
       "    </tr>\n",
       "    <tr>\n",
       "      <th>4</th>\n",
       "      <td>2</td>\n",
       "      <td>free</td>\n",
       "      <td>little</td>\n",
       "      <td>little</td>\n",
       "      <td>4870</td>\n",
       "      <td>24</td>\n",
       "      <td>car</td>\n",
       "      <td>male</td>\n",
       "      <td>Other</td>\n",
       "      <td>1</td>\n",
       "      <td>53</td>\n",
       "      <td>Monday</td>\n",
       "    </tr>\n",
       "  </tbody>\n",
       "</table>\n",
       "</div>"
      ],
      "text/plain": [
       "  Job Housing Saving accounts Checking account  Credit amount  Duration  \\\n",
       "0   2     own         Missing           little           1169         6   \n",
       "1   2     own          little         moderate           5951        48   \n",
       "2   1     own          little          Missing           2096        12   \n",
       "3   2    free          little           little           7882        42   \n",
       "4   2    free          little           little           4870        24   \n",
       "\n",
       "               Purpose  Gender  Device  Risk_label  Age Purchase_weekday  \n",
       "0             radio/TV    male   Other           0   66        Wednesday  \n",
       "1             radio/TV  female  iPhone           1   22           Friday  \n",
       "2            education    male   Other           0   49           Monday  \n",
       "3  furniture/equipment    male   Other           0   45           Sunday  \n",
       "4                  car    male   Other           1   53           Monday  "
      ]
     },
     "execution_count": 59,
     "metadata": {},
     "output_type": "execute_result"
    }
   ],
   "source": [
    "print('Drop purchase date and birth date columns.')\n",
    "df.drop(['Purchase_date', 'Birth_date'], axis=1, inplace=True)\n",
    "df.head()"
   ]
  },
  {
   "cell_type": "markdown",
   "metadata": {},
   "source": [
    "#### Split the dataset into train and test sets"
   ]
  },
  {
   "cell_type": "code",
   "execution_count": 60,
   "metadata": {},
   "outputs": [
    {
     "name": "stdout",
     "output_type": "stream",
     "text": [
      "Split the dataset.\n"
     ]
    }
   ],
   "source": [
    "print('Split the dataset.')\n",
    "df = shuffle(df, random_state=123)\n",
    "# Create separate object for target variable\n",
    "y = df['Risk_label']\n",
    "# Create separate object for input features\n",
    "X = df.drop('Risk_label', axis=1)\n",
    "\n",
    "# Split X and y into train and test sets\n",
    "X_train, X_test, y_train, y_test = train_test_split(X, y, test_size=0.25, random_state=123)"
   ]
  },
  {
   "cell_type": "markdown",
   "metadata": {},
   "source": [
    "#### One-hot encode with DictVectorizer"
   ]
  },
  {
   "cell_type": "code",
   "execution_count": 61,
   "metadata": {},
   "outputs": [
    {
     "data": {
      "text/html": [
       "<div>\n",
       "<style scoped>\n",
       "    .dataframe tbody tr th:only-of-type {\n",
       "        vertical-align: middle;\n",
       "    }\n",
       "\n",
       "    .dataframe tbody tr th {\n",
       "        vertical-align: top;\n",
       "    }\n",
       "\n",
       "    .dataframe thead th {\n",
       "        text-align: right;\n",
       "    }\n",
       "</style>\n",
       "<table border=\"1\" class=\"dataframe\">\n",
       "  <thead>\n",
       "    <tr style=\"text-align: right;\">\n",
       "      <th></th>\n",
       "      <th>Job</th>\n",
       "      <th>Housing</th>\n",
       "      <th>Saving accounts</th>\n",
       "      <th>Checking account</th>\n",
       "      <th>Credit amount</th>\n",
       "      <th>Duration</th>\n",
       "      <th>Purpose</th>\n",
       "      <th>Gender</th>\n",
       "      <th>Device</th>\n",
       "      <th>Age</th>\n",
       "      <th>Purchase_weekday</th>\n",
       "    </tr>\n",
       "  </thead>\n",
       "  <tbody>\n",
       "    <tr>\n",
       "      <th>67</th>\n",
       "      <td>2</td>\n",
       "      <td>own</td>\n",
       "      <td>rich</td>\n",
       "      <td>moderate</td>\n",
       "      <td>1007</td>\n",
       "      <td>12</td>\n",
       "      <td>car</td>\n",
       "      <td>male</td>\n",
       "      <td>iPhone</td>\n",
       "      <td>21</td>\n",
       "      <td>Friday</td>\n",
       "    </tr>\n",
       "    <tr>\n",
       "      <th>899</th>\n",
       "      <td>2</td>\n",
       "      <td>own</td>\n",
       "      <td>little</td>\n",
       "      <td>little</td>\n",
       "      <td>4153</td>\n",
       "      <td>18</td>\n",
       "      <td>furniture/equipment</td>\n",
       "      <td>male</td>\n",
       "      <td>iPhone</td>\n",
       "      <td>42</td>\n",
       "      <td>Saturday</td>\n",
       "    </tr>\n",
       "    <tr>\n",
       "      <th>752</th>\n",
       "      <td>1</td>\n",
       "      <td>rent</td>\n",
       "      <td>moderate</td>\n",
       "      <td>moderate</td>\n",
       "      <td>841</td>\n",
       "      <td>12</td>\n",
       "      <td>business</td>\n",
       "      <td>female</td>\n",
       "      <td>Other</td>\n",
       "      <td>22</td>\n",
       "      <td>Thursday</td>\n",
       "    </tr>\n",
       "    <tr>\n",
       "      <th>26</th>\n",
       "      <td>1</td>\n",
       "      <td>own</td>\n",
       "      <td>little</td>\n",
       "      <td>Missing</td>\n",
       "      <td>426</td>\n",
       "      <td>6</td>\n",
       "      <td>radio/TV</td>\n",
       "      <td>male</td>\n",
       "      <td>Other</td>\n",
       "      <td>39</td>\n",
       "      <td>Sunday</td>\n",
       "    </tr>\n",
       "    <tr>\n",
       "      <th>159</th>\n",
       "      <td>1</td>\n",
       "      <td>own</td>\n",
       "      <td>Missing</td>\n",
       "      <td>Missing</td>\n",
       "      <td>1898</td>\n",
       "      <td>6</td>\n",
       "      <td>radio/TV</td>\n",
       "      <td>male</td>\n",
       "      <td>Other</td>\n",
       "      <td>33</td>\n",
       "      <td>Sunday</td>\n",
       "    </tr>\n",
       "  </tbody>\n",
       "</table>\n",
       "</div>"
      ],
      "text/plain": [
       "    Job Housing Saving accounts Checking account  Credit amount  Duration  \\\n",
       "67    2     own            rich         moderate           1007        12   \n",
       "899   2     own          little           little           4153        18   \n",
       "752   1    rent        moderate         moderate            841        12   \n",
       "26    1     own          little          Missing            426         6   \n",
       "159   1     own         Missing          Missing           1898         6   \n",
       "\n",
       "                 Purpose  Gender  Device  Age Purchase_weekday  \n",
       "67                   car    male  iPhone   21           Friday  \n",
       "899  furniture/equipment    male  iPhone   42         Saturday  \n",
       "752             business  female   Other   22         Thursday  \n",
       "26              radio/TV    male   Other   39           Sunday  \n",
       "159             radio/TV    male   Other   33           Sunday  "
      ]
     },
     "metadata": {},
     "output_type": "display_data"
    },
    {
     "data": {
      "text/plain": [
       "array([[21.,  0.,  0., ...,  0.,  0.,  1.],\n",
       "       [42.,  0.,  1., ...,  0.,  0.,  0.],\n",
       "       [22.,  0.,  0., ...,  1.,  0.,  0.],\n",
       "       ...,\n",
       "       [24.,  0.,  0., ...,  0.,  0.,  1.],\n",
       "       [33.,  0.,  0., ...,  0.,  0.,  0.],\n",
       "       [74.,  0.,  0., ...,  0.,  0.,  0.]])"
      ]
     },
     "metadata": {},
     "output_type": "display_data"
    },
    {
     "data": {
      "text/plain": [
       "(750, 38)"
      ]
     },
     "metadata": {},
     "output_type": "display_data"
    }
   ],
   "source": [
    "## Convert feature df to a dict\n",
    "X_train_ohe = X_train.to_dict(orient='records')\n",
    "X_test_ohe = X_test.to_dict(orient='records')\n",
    "\n",
    "# Instantiate DictVectorizer\n",
    "dict_vec = DictVectorizer(sparse=False)\n",
    "\n",
    "# apply dv_X on X_dict\n",
    "X_train_ohe = dict_vec.fit_transform(X_train_ohe)\n",
    "X_test_ohe = dict_vec.transform(X_test_ohe)\n",
    "\n",
    "display(X_train.head())\n",
    "display(X_train_ohe)\n",
    "display(X_train_ohe.shape)\n",
    "#display(dict_vec.vocabulary_)"
   ]
  },
  {
   "cell_type": "markdown",
   "metadata": {},
   "source": [
    "#### Add imputation of missing values and feature scaling"
   ]
  },
  {
   "cell_type": "code",
   "execution_count": 62,
   "metadata": {},
   "outputs": [],
   "source": [
    "my_imputer = SimpleImputer(missing_values=np.nan, strategy='most_frequent')\n",
    "my_scaler = StandardScaler(with_mean=False)\n",
    "\n",
    "X_train_ohe = my_imputer.fit_transform(X_train_ohe)\n",
    "X_train_ohe = my_scaler.fit_transform(X_train_ohe)\n",
    "\n",
    "X_test_ohe = my_imputer.transform(X_test_ohe)\n",
    "X_test_ohe = my_scaler.transform(X_test_ohe)"
   ]
  },
  {
   "cell_type": "markdown",
   "metadata": {},
   "source": [
    "#### Define and fit a classifier"
   ]
  },
  {
   "cell_type": "code",
   "execution_count": 63,
   "metadata": {},
   "outputs": [],
   "source": [
    "# Create random forest classifier object\n",
    "RF_clf = RandomForestClassifier(n_estimators=100)"
   ]
  },
  {
   "cell_type": "code",
   "execution_count": 64,
   "metadata": {},
   "outputs": [
    {
     "data": {
      "text/plain": [
       "RandomForestClassifier(bootstrap=True, class_weight=None, criterion='gini',\n",
       "            max_depth=None, max_features='auto', max_leaf_nodes=None,\n",
       "            min_impurity_decrease=0.0, min_impurity_split=None,\n",
       "            min_samples_leaf=1, min_samples_split=2,\n",
       "            min_weight_fraction_leaf=0.0, n_estimators=100, n_jobs=None,\n",
       "            oob_score=False, random_state=None, verbose=0,\n",
       "            warm_start=False)"
      ]
     },
     "execution_count": 64,
     "metadata": {},
     "output_type": "execute_result"
    }
   ],
   "source": [
    "RF_clf.fit(X_train_ohe, y_train)"
   ]
  },
  {
   "cell_type": "markdown",
   "metadata": {},
   "source": [
    "#### Evaluate the fitted classifier"
   ]
  },
  {
   "cell_type": "code",
   "execution_count": 65,
   "metadata": {},
   "outputs": [
    {
     "name": "stdout",
     "output_type": "stream",
     "text": [
      "area_under_curve: 0.709\n",
      "accuracy: 0.736\n",
      "log_loss: 0.545\n",
      "precision: 0.545\n",
      "recall: 0.343\n",
      "specificity: 0.889\n",
      "f1_score: 0.421\n",
      "\n",
      "confusion_matrix:\n",
      "[[160, 20], [46, 24]]\n",
      "\n",
      "roc_curve:\n"
     ]
    },
    {
     "data": {
      "image/png": "[encoded data removed]",
      "text/plain": [
       "<Figure size 432x288 with 1 Axes>"
      ]
     },
     "metadata": {
      "needs_background": "light"
     },
     "output_type": "display_data"
    },
    {
     "name": "stdout",
     "output_type": "stream",
     "text": [
      "\n",
      "precision_recall_curve:\n"
     ]
    },
    {
     "data": {
      "text/plain": [
       "<Figure size 432x288 with 0 Axes>"
      ]
     },
     "metadata": {},
     "output_type": "display_data"
    },
    {
     "data": {
      "image/png": "[encoded data removed]",
      "text/plain": [
       "<Figure size 432x288 with 1 Axes>"
      ]
     },
     "metadata": {
      "needs_background": "light"
     },
     "output_type": "display_data"
    },
    {
     "data": {
      "text/plain": [
       "<Figure size 432x288 with 0 Axes>"
      ]
     },
     "metadata": {},
     "output_type": "display_data"
    }
   ],
   "source": [
    "validate(RF_clf, X_test_ohe, y_test)"
   ]
  },
  {
   "cell_type": "markdown",
   "metadata": {},
   "source": [
    "#### --> Normally you would evaluate multiple feature engineering approaches, classifiers and hyperparameter settings with K-fold cross-validation / GridSearchCV / automl. We keep it simple for the sake of brevity here."
   ]
  },
  {
   "cell_type": "code",
   "execution_count": 66,
   "metadata": {},
   "outputs": [
    {
     "data": {
      "text/plain": [
       "\"\\n# Create random forest classifier object\\nRF_clf = RandomForestClassifier(n_estimators=100, # different than default, default = 10\\n                                criterion='gini',\\n                                max_depth=None, # Changed to 100 to limit the depth of each tree..\\n                                min_samples_split=2,\\n                                min_samples_leaf=1,\\n                                min_weight_fraction_leaf=0.0,\\n                                max_features=1, # different than default, default = 'auto'\\n                                max_leaf_nodes=None,\\n                                bootstrap=True,\\n                                oob_score=False,\\n                                n_jobs=-1, # use all available cores\\n                                random_state=0, # define random state for reproducibility of results\\n                                verbose=0,\\n                                warm_start=False,\\n                                class_weight=None)\\n\\n## Create pipeline - no calibration\\nRF_pipeline_uncalibrated = Pipeline([('whitespaceremoval', WhitespaceRemover()),\\n                                    ('originaldtypescasting', CastToOriginalDtypes()),\\n                                    ('deviceencoder', DeviceEncoder()),\\n                                    ('ageencoder', AgeEncoder()),\\n                                    ('dayofweekencoder', DayOfWeekEncoder()),\\n                                    ('userdtypescasting', CastToUserDtypes()),\\n                                    ('unseenvalueschecker', CheckForUnseenValues()),\\n                                    ('featureremoval', FeatureRemover()),\\n                                    ('dicttransformer', DfToDict()),\\n                                    ('ohe', DictVectorizer()),\\n                                    ('imputation', Imputer(missing_values='NaN', strategy='most_frequent')),\\n                                    ('scaling', StandardScaler(with_mean=False)),\\n                                    ('classifier', RF_clf)])\""
      ]
     },
     "execution_count": 66,
     "metadata": {},
     "output_type": "execute_result"
    }
   ],
   "source": [
    "\"\"\"\n",
    "# Create random forest classifier object\n",
    "RF_clf = RandomForestClassifier(n_estimators=100, # different than default, default = 10\n",
    "                                criterion='gini',\n",
    "                                max_depth=None, # Changed to 100 to limit the depth of each tree..\n",
    "                                min_samples_split=2,\n",
    "                                min_samples_leaf=1,\n",
    "                                min_weight_fraction_leaf=0.0,\n",
    "                                max_features=1, # different than default, default = 'auto'\n",
    "                                max_leaf_nodes=None,\n",
    "                                bootstrap=True,\n",
    "                                oob_score=False,\n",
    "                                n_jobs=-1, # use all available cores\n",
    "                                random_state=0, # define random state for reproducibility of results\n",
    "                                verbose=0,\n",
    "                                warm_start=False,\n",
    "                                class_weight=None)\n",
    "\n",
    "## Create pipeline - no calibration\n",
    "RF_pipeline_uncalibrated = Pipeline([('whitespaceremoval', WhitespaceRemover()),\n",
    "                                    ('originaldtypescasting', CastToOriginalDtypes()),\n",
    "                                    ('deviceencoder', DeviceEncoder()),\n",
    "                                    ('ageencoder', AgeEncoder()),\n",
    "                                    ('dayofweekencoder', DayOfWeekEncoder()),\n",
    "                                    ('userdtypescasting', CastToUserDtypes()),\n",
    "                                    ('unseenvalueschecker', CheckForUnseenValues()),\n",
    "                                    ('featureremoval', FeatureRemover()),\n",
    "                                    ('dicttransformer', DfToDict()),\n",
    "                                    ('ohe', DictVectorizer()),\n",
    "                                    ('imputation', Imputer(missing_values='NaN', strategy='most_frequent')),\n",
    "                                    ('scaling', StandardScaler(with_mean=False)),\n",
    "                                    ('classifier', RF_clf)])\"\"\""
   ]
  },
  {
   "cell_type": "markdown",
   "metadata": {},
   "source": [
    "## HOW DO I REPRODUCE THESE STEPS IN NEAR-REAL-TIME IN THE PRODUCTION ENVIRONMENT?"
   ]
  },
  {
   "cell_type": "code",
   "execution_count": 67,
   "metadata": {},
   "outputs": [
    {
     "name": "stdout",
     "output_type": "stream",
     "text": [
      "At the time of prediction, the data streamed into our classifier .predict() method will look like this:\n"
     ]
    },
    {
     "data": {
      "text/html": [
       "<div>\n",
       "<style scoped>\n",
       "    .dataframe tbody tr th:only-of-type {\n",
       "        vertical-align: middle;\n",
       "    }\n",
       "\n",
       "    .dataframe tbody tr th {\n",
       "        vertical-align: top;\n",
       "    }\n",
       "\n",
       "    .dataframe thead th {\n",
       "        text-align: right;\n",
       "    }\n",
       "</style>\n",
       "<table border=\"1\" class=\"dataframe\">\n",
       "  <thead>\n",
       "    <tr style=\"text-align: right;\">\n",
       "      <th></th>\n",
       "      <th>Job</th>\n",
       "      <th>Housing</th>\n",
       "      <th>Saving accounts</th>\n",
       "      <th>Checking account</th>\n",
       "      <th>Credit amount</th>\n",
       "      <th>Duration</th>\n",
       "      <th>Purpose</th>\n",
       "      <th>Gender</th>\n",
       "      <th>Purchase_date</th>\n",
       "      <th>Birth_date</th>\n",
       "      <th>Device</th>\n",
       "    </tr>\n",
       "  </thead>\n",
       "  <tbody>\n",
       "    <tr>\n",
       "      <th>0</th>\n",
       "      <td>2</td>\n",
       "      <td>own</td>\n",
       "      <td>NaN</td>\n",
       "      <td>little</td>\n",
       "      <td>1169</td>\n",
       "      <td>6</td>\n",
       "      <td>radio/TV</td>\n",
       "      <td>male</td>\n",
       "      <td>2020-01-22</td>\n",
       "      <td>1953-01-22</td>\n",
       "      <td>One Plus 8 128 GB</td>\n",
       "    </tr>\n",
       "  </tbody>\n",
       "</table>\n",
       "</div>"
      ],
      "text/plain": [
       "   Job Housing Saving accounts Checking account  Credit amount  Duration  \\\n",
       "0    2     own             NaN           little           1169         6   \n",
       "\n",
       "    Purpose Gender Purchase_date Birth_date             Device  \n",
       "0  radio/TV   male    2020-01-22 1953-01-22  One Plus 8 128 GB  "
      ]
     },
     "metadata": {},
     "output_type": "display_data"
    },
    {
     "name": "stdout",
     "output_type": "stream",
     "text": [
      "...missing values, purchase date instead of day of the week, birth date instead of age, full device model name, not one-hot encoded, etc., etc.\n"
     ]
    }
   ],
   "source": [
    "print('At the time of prediction, the data streamed into our classifier .predict() method will look like this:')\n",
    "display(df_original.iloc[:,:-1].head(1))\n",
    "print('...missing values, purchase date instead of day of the week, birth date instead of age, full device model name, not one-hot encoded, etc., etc.')"
   ]
  },
  {
   "cell_type": "code",
   "execution_count": 68,
   "metadata": {},
   "outputs": [
    {
     "name": "stdout",
     "output_type": "stream",
     "text": [
      "Model training completed on  2020-May-18_17-43-17 .\n",
      "Creating dedicated output directory...\n",
      "Directory  ../output/2020-May-18_17-43-17/ successfully created.\n"
     ]
    }
   ],
   "source": [
    "# Utility step: create a dedicated output directory - we can skip it since we during the session we don't need to really save generated objects and code\n",
    "model_training_timestamp = '{:%Y-%b-%d_%H-%M-%S}'.format(datetime.datetime.now())\n",
    "print('Model training completed on ', model_training_timestamp,'.')\n",
    "print('Creating dedicated output directory...')\n",
    "dirName = '../output/%s/' % (model_training_timestamp)\n",
    " \n",
    "try:\n",
    "    # Create target directory\n",
    "    os.mkdir(dirName)\n",
    "    os.mkdir(dirName+'one_by_one')\n",
    "    os.mkdir(dirName+'standard_pipeline')\n",
    "    os.mkdir(dirName+'e2e_pipeline')\n",
    "    print(\"Directory \" , dirName ,  \"successfully created.\")\n",
    "except FileExistsError:\n",
    "    print(\"ERROR: Directory \" , dirName ,  \"already exists!\")"
   ]
  },
  {
   "cell_type": "markdown",
   "metadata": {},
   "source": [
    "### Method 1: Reproduce all above steps one by one in the production code (NOT RECOMMENDED)"
   ]
  },
  {
   "cell_type": "code",
   "execution_count": 69,
   "metadata": {},
   "outputs": [
    {
     "name": "stdout",
     "output_type": "stream",
     "text": [
      "Saving all fitted preprecessors...\n",
      "Saved in  ../output/2020-May-18_17-43-17/ .\n"
     ]
    }
   ],
   "source": [
    "# Save all the fitted preprocessors to a directory\n",
    "print('Saving all fitted preprecessors...')\n",
    "joblib.dump(dict_vec, dirName+'one_by_one/dict_vec.pkl')\n",
    "joblib.dump(my_imputer, dirName+'one_by_one/my_imputer.pkl')\n",
    "joblib.dump(my_scaler, dirName+'one_by_one/my_scaler.pkl')\n",
    "joblib.dump(RF_clf, dirName+'one_by_one/RF_clf.pkl')\n",
    "print('Saved in ', dirName, '.')"
   ]
  },
  {
   "cell_type": "code",
   "execution_count": 70,
   "metadata": {},
   "outputs": [],
   "source": [
    "### Create a code snippet / .py module that does all the preprocessing and prediction in one go - something like the code below.\n",
    "\n",
    "# Read in saved objects from the production \"output\" directory\n",
    "dict_vec_prod = joblib.load(dirName+'one_by_one/dict_vec.pkl')\n",
    "my_imputer_prod = joblib.load(dirName+'one_by_one/my_imputer.pkl')\n",
    "my_scaler_prod = joblib.load(dirName+'one_by_one/my_scaler.pkl')\n",
    "RF_clf_prod = joblib.load(dirName+'one_by_one/RF_clf.pkl')\n",
    "\n",
    "# Define a predict function with all the preprocessing steps\n",
    "def predict(df):\n",
    "    print('Filling missing values...')\n",
    "    for column in df[['Saving accounts', 'Checking account']]:\n",
    "        df[column] = df[column].fillna('Missing')\n",
    "    \n",
    "    print('Done.')\n",
    "    \n",
    "    print('Casting \"Job\" column to string...')\n",
    "    df['Job'] = df['Job'].astype(str)\n",
    "    print('Done.')\n",
    "    \n",
    "    print('Engineering \"Age\" feature...') # Don't forget to import create_age_column() and calculate_age() methods into production environment too ;)\n",
    "    reference_date_column = 'Purchase_date'\n",
    "    birth_date_column = 'Birth_date'\n",
    "    df['Age'] = df.apply(lambda row: create_age_column(row, reference_date_column, birth_date_column), axis=1)\n",
    "    print('Done.')\n",
    "    \n",
    "    print('Engineering day of week feature...')\n",
    "    df['Purchase_weekday'] = df['Purchase_date'].map(lambda x: find_day_of_week(x))\n",
    "    print('Done.')\n",
    "    \n",
    "    print('Engineering binary iPhone-Other device feature...')\n",
    "    df['Device'] = df['Device'].map(lambda x: identify_device(str(x)))\n",
    "    print('Done.')\n",
    "    \n",
    "    print('Dropping purchase date and birth date columns.')\n",
    "    df.drop(['Purchase_date', 'Birth_date'], axis=1, inplace=True)\n",
    "    print('Done.')\n",
    "    \n",
    "    print('One-hot encoding...')\n",
    "    df_ohe = df.to_dict(orient='records')\n",
    "    df_ohe = dict_vec_prod.transform(df_ohe)\n",
    "    print('Done.')\n",
    "    \n",
    "    print('Imputation of missing values and feature scaling...')\n",
    "    df_ohe = my_imputer_prod.transform(df_ohe)\n",
    "    df_ohe = my_scaler_prod.transform(df_ohe)\n",
    "    print('Done.')\n",
    "    \n",
    "    print('Making a prediction...')\n",
    "    pred = RF_clf_prod.predict_proba(df_ohe)\n",
    "    print()\n",
    "    \n",
    "    return pred\n",
    "\n",
    "\n",
    "def calculate_age(reference_date, birth_date):\n",
    "    days_in_year = 365.2425\n",
    "    try:\n",
    "        age = int((pd.to_datetime(reference_date, infer_datetime_format=True) - pd.to_datetime(birth_date, infer_datetime_format=True)).days / days_in_year)\n",
    "    except:\n",
    "        age = None\n",
    "\n",
    "    return age\n",
    "\n",
    "\n",
    "def create_age_column(row, reference_date_column, birth_date_column):\n",
    "    return calculate_age(row[reference_date_column], row[birth_date_column])\n",
    "\n",
    "\n",
    "def find_day_of_week(date_string):\n",
    "    recognized_date = pd.to_datetime(date_string, infer_datetime_format=True)\n",
    "\n",
    "    return calendar.day_name[recognized_date.weekday()]\n",
    "\n",
    "\n",
    "def identify_device(string):\n",
    "    if 'iphone' in string.lower():\n",
    "        return 'iPhone'\n",
    "    else:\n",
    "        return 'Other'"
   ]
  },
  {
   "cell_type": "markdown",
   "metadata": {},
   "source": [
    "#### Let's try to make a prediction. Will it work?"
   ]
  },
  {
   "cell_type": "code",
   "execution_count": 71,
   "metadata": {},
   "outputs": [
    {
     "name": "stdout",
     "output_type": "stream",
     "text": [
      "Let's try to make a prediction. Will it work?\n",
      "Filling missing values...\n",
      "Done.\n",
      "Casting \"Job\" column to string...\n",
      "Done.\n",
      "Engineering \"Age\" feature...\n",
      "Done.\n",
      "Engineering day of week feature...\n",
      "Done.\n",
      "Engineering binary iPhone-Other device feature...\n",
      "Done.\n",
      "Dropping purchase date and birth date columns.\n",
      "Done.\n",
      "One-hot encoding...\n",
      "Done.\n",
      "Imputation of missing values and feature scaling...\n",
      "Done.\n",
      "Making a prediction...\n",
      "\n",
      "Predicted probabilities: [[0.86 0.14]]\n",
      "It worked!\n"
     ]
    }
   ],
   "source": [
    "print('Let\\'s try to make a prediction. Will it work?')\n",
    "input_data = df_original.iloc[:,:-1].head(1)\n",
    "print('Predicted probabilities:', predict(input_data))\n",
    "print('It worked!')"
   ]
  },
  {
   "cell_type": "markdown",
   "metadata": {},
   "source": [
    "#### It worked. However, the above approach is a bad idea. Here's why:\n",
    "* You need to maintain the same code in two places - it's easy to make mistakes and lose consistency between the two.\n",
    "* You need to explain a lot to developers deploying and maintaining your code\n",
    "* The deployment team might modify your code (intentionally or unintentionally)\n",
    "* You directly reveal the entire feature engineering and model tuning know-how to anyone who has access to your code\n",
    "* ...\n",
    "\n",
    "--------"
   ]
  },
  {
   "cell_type": "markdown",
   "metadata": {},
   "source": [
    "### Method 2: Use sklearn pipeline to package the standard sklearn preprocessors into a single \"model pipeline\" object (SLIGHTLY BETTER, BUT STILL NOT GREAT...)"
   ]
  },
  {
   "cell_type": "markdown",
   "metadata": {},
   "source": [
    "According to sklearn documentation (https://scikit-learn.org/stable/modules/compose.html#pipeline-chaining-estimators):\n",
    "\n",
    "**Pipeline** can be used to **chain multiple estimators into one**. This is useful as there is often a fixed sequence of steps in processing the data, for example feature selection, normalization and classification. Pipeline serves multiple purposes here:\n",
    "\n",
    "**Convenience and encapsulation**\n",
    "* You only have to call fit and predict once on your data to fit a whole sequence of estimators.\n",
    "\n",
    "**Joint parameter selection**\n",
    "* You can grid search over parameters of all estimators in the pipeline at once.\n",
    "\n",
    "**Safety**\n",
    "* Pipelines help avoid leaking statistics from your test data into the trained model in cross-validation, by ensuring that the same samples are used to train the transformers and predictors."
   ]
  },
  {
   "cell_type": "markdown",
   "metadata": {},
   "source": [
    "Sklearn pipeline **works out of the box for preprocessors included in the sklearn library**, such as DictVectorizer(), Imputer() or StandardScaler(), and many others.\n",
    "\n",
    "Let's give it a try!"
   ]
  },
  {
   "cell_type": "markdown",
   "metadata": {},
   "source": [
    "#### Define pipeline steps"
   ]
  },
  {
   "cell_type": "code",
   "execution_count": 72,
   "metadata": {},
   "outputs": [],
   "source": [
    "# We can chain together the last four steps of our \"predict\" workflow into a single pipeline like this:\n",
    "standard_pipeline = Pipeline([('ohe', DictVectorizer()),\n",
    "                              ('imputation', SimpleImputer(missing_values=np.nan, strategy='most_frequent')),\n",
    "                              ('scaling', StandardScaler(with_mean=False)),\n",
    "                              ('classifier', RF_clf)])"
   ]
  },
  {
   "cell_type": "markdown",
   "metadata": {},
   "source": [
    "#### Fit (train) the pipeline on the training set"
   ]
  },
  {
   "cell_type": "code",
   "execution_count": 73,
   "metadata": {},
   "outputs": [
    {
     "data": {
      "text/plain": [
       "Pipeline(memory=None,\n",
       "     steps=[('ohe', DictVectorizer(dtype=<class 'numpy.float64'>, separator='=', sort=True,\n",
       "        sparse=True)), ('imputation', SimpleImputer(copy=True, fill_value=None, missing_values=nan,\n",
       "       strategy='most_frequent', verbose=0)), ('scaling', StandardScaler(copy=True, with_mean=False, with_std=Tru...obs=None,\n",
       "            oob_score=False, random_state=None, verbose=0,\n",
       "            warm_start=False))])"
      ]
     },
     "execution_count": 73,
     "metadata": {},
     "output_type": "execute_result"
    }
   ],
   "source": [
    "# We can then fit (train) the pipeline on our training data - directly after having done the train/test split:\n",
    "standard_pipeline.fit(X_train.to_dict(orient='records'), y_train)"
   ]
  },
  {
   "cell_type": "markdown",
   "metadata": {},
   "source": [
    "#### Evaluate the pipeline on the test set"
   ]
  },
  {
   "cell_type": "code",
   "execution_count": 74,
   "metadata": {},
   "outputs": [
    {
     "name": "stdout",
     "output_type": "stream",
     "text": [
      "area_under_curve: 0.708\n",
      "accuracy: 0.728\n",
      "log_loss: 0.543\n",
      "precision: 0.521\n",
      "recall: 0.357\n",
      "specificity: 0.872\n",
      "f1_score: 0.424\n",
      "\n",
      "confusion_matrix:\n",
      "[[157, 23], [45, 25]]\n",
      "\n",
      "roc_curve:\n"
     ]
    },
    {
     "data": {
      "image/png": "[encoded data removed]",
      "text/plain": [
       "<Figure size 432x288 with 1 Axes>"
      ]
     },
     "metadata": {
      "needs_background": "light"
     },
     "output_type": "display_data"
    },
    {
     "name": "stdout",
     "output_type": "stream",
     "text": [
      "\n",
      "precision_recall_curve:\n"
     ]
    },
    {
     "data": {
      "text/plain": [
       "<Figure size 432x288 with 0 Axes>"
      ]
     },
     "metadata": {},
     "output_type": "display_data"
    },
    {
     "data": {
      "image/png": "[encoded data removed]",
      "text/plain": [
       "<Figure size 432x288 with 1 Axes>"
      ]
     },
     "metadata": {
      "needs_background": "light"
     },
     "output_type": "display_data"
    },
    {
     "data": {
      "text/plain": [
       "<Figure size 432x288 with 0 Axes>"
      ]
     },
     "metadata": {},
     "output_type": "display_data"
    }
   ],
   "source": [
    "validate(standard_pipeline, X_test.to_dict(orient='records'), y_test)"
   ]
  },
  {
   "cell_type": "markdown",
   "metadata": {},
   "source": [
    "#### We now only need to save one object instead of four"
   ]
  },
  {
   "cell_type": "code",
   "execution_count": 75,
   "metadata": {},
   "outputs": [
    {
     "name": "stdout",
     "output_type": "stream",
     "text": [
      "Saving the fitted pipeline...\n",
      "Saved in  ../output/2020-May-18_17-43-17/ .\n"
     ]
    }
   ],
   "source": [
    "# Save the fitted pipeline to a directory\n",
    "print('Saving the fitted pipeline...')\n",
    "joblib.dump(standard_pipeline, dirName+'standard_pipeline/standard_pipeline.pkl')\n",
    "print('Saved in ', dirName, '.')"
   ]
  },
  {
   "cell_type": "markdown",
   "metadata": {},
   "source": [
    "#### We can also shorten our predict() function"
   ]
  },
  {
   "cell_type": "code",
   "execution_count": 76,
   "metadata": {},
   "outputs": [],
   "source": [
    "### Create a code snippet / .py module that does all the preprocessing and prediction in one go - something like the code below.\n",
    "\n",
    "# Read in saved objects from the production \"output\" directory\n",
    "standard_pipeline_prod = joblib.load(dirName+'standard_pipeline/standard_pipeline.pkl')\n",
    "\n",
    "# Define a predict function with all the preprocessing steps\n",
    "def predict_standard_pipeline(df):\n",
    "    print('Filling missing values...')\n",
    "    for column in df[['Saving accounts', 'Checking account']]:\n",
    "        df[column] = df[column].fillna('Missing')\n",
    "    \n",
    "    print('Done.')\n",
    "    \n",
    "    print('Casting \"Job\" column to string...')\n",
    "    df['Job'] = df['Job'].astype(str)\n",
    "    print('Done.')\n",
    "    \n",
    "    print('Engineering \"Age\" feature...') # Don't forget to import create_age_column() and calculate_age() methods into production environment too ;)\n",
    "    reference_date_column = 'Purchase_date'\n",
    "    birth_date_column = 'Birth_date'\n",
    "    df['Age'] = df.apply(lambda row: create_age_column(row, reference_date_column, birth_date_column), axis=1)\n",
    "    print('Done.')\n",
    "    \n",
    "    print('Engineering day of week feature...')\n",
    "    df['Purchase_weekday'] = df['Purchase_date'].map(lambda x: find_day_of_week(x))\n",
    "    print('Done.')\n",
    "    \n",
    "    print('Engineering binary iPhone-Other device feature...')\n",
    "    df['Device'] = df['Device'].map(lambda x: identify_device(str(x)))\n",
    "    print('Done.')\n",
    "    \n",
    "    print('Dropping purchase date and birth date columns.')\n",
    "    df.drop(['Purchase_date', 'Birth_date'], axis=1, inplace=True)\n",
    "    print('Done.')\n",
    "    \n",
    "    #print('One-hot encoding...')\n",
    "    #df_ohe = df.to_dict(orient='records')\n",
    "    #df_ohe = dict_vec_prod.transform(df_ohe)\n",
    "    #print('Done.')\n",
    "    \n",
    "    #print('Imputation of missing values and feature scaling...')\n",
    "    #df_ohe = my_imputer_prod.transform(df_ohe)\n",
    "    #df_ohe = my_scaler_prod.transform(df_ohe)\n",
    "    #print('Done.')\n",
    "    \n",
    "    print('Making a prediction...')\n",
    "    pred = standard_pipeline_prod.predict_proba(df.to_dict(orient='records'))\n",
    "    print()\n",
    "    \n",
    "    return pred\n",
    "\n",
    "\n",
    "def calculate_age(reference_date, birth_date):\n",
    "    days_in_year = 365.2425\n",
    "    try:\n",
    "        age = int((pd.to_datetime(reference_date, infer_datetime_format=True) - pd.to_datetime(birth_date, infer_datetime_format=True)).days / days_in_year)\n",
    "    except:\n",
    "        age = None\n",
    "\n",
    "    return age\n",
    "\n",
    "\n",
    "def create_age_column(row, reference_date_column, birth_date_column):\n",
    "    return calculate_age(row[reference_date_column], row[birth_date_column])\n",
    "\n",
    "\n",
    "def find_day_of_week(date_string):\n",
    "    recognized_date = pd.to_datetime(date_string, infer_datetime_format=True)\n",
    "\n",
    "    return calendar.day_name[recognized_date.weekday()]\n",
    "\n",
    "\n",
    "def identify_device(string):\n",
    "    if 'iphone' in string.lower():\n",
    "        return 'iPhone'\n",
    "    else:\n",
    "        return 'Other'"
   ]
  },
  {
   "cell_type": "markdown",
   "metadata": {},
   "source": [
    "#### Does it work?"
   ]
  },
  {
   "cell_type": "code",
   "execution_count": 77,
   "metadata": {},
   "outputs": [
    {
     "name": "stdout",
     "output_type": "stream",
     "text": [
      "Let's try to make a prediction. Will it work?\n",
      "Filling missing values...\n",
      "Done.\n",
      "Casting \"Job\" column to string...\n",
      "Done.\n",
      "Engineering \"Age\" feature...\n",
      "Done.\n",
      "Engineering day of week feature...\n",
      "Done.\n",
      "Engineering binary iPhone-Other device feature...\n",
      "Done.\n",
      "Dropping purchase date and birth date columns.\n",
      "Done.\n",
      "Making a prediction...\n",
      "\n",
      "Predicted probabilities: [[0.88 0.12]]\n",
      "It worked!\n"
     ]
    }
   ],
   "source": [
    "print('Let\\'s try to make a prediction. Will it work?')\n",
    "input_data = df_original.iloc[:,:-1].head(1)\n",
    "print('Predicted probabilities:', predict_standard_pipeline(input_data))\n",
    "print('It worked!')"
   ]
  },
  {
   "cell_type": "markdown",
   "metadata": {},
   "source": [
    "#### We still have to maintain data cleaning and feature engineering code in two separate places though.\n",
    "#### Can we somehow embed our customized data cleaning and feature engineering steps into an sklearn pipeline?\n",
    "#### Yes, we can!\n",
    "----------"
   ]
  },
  {
   "cell_type": "markdown",
   "metadata": {},
   "source": [
    "### Method 3: Package data cleaning, feature engineering, preprocessing and final classifier into one single pipeline (MUCH BETTER!)\n",
    "\n",
    "#### We need to somehow package the following steps into a pipeline object:\n",
    "* Filling missing values in the categorical \"saving accounts\" and \"checking account\" columns\n",
    "* Casting \"Job\" column to string\n",
    "* Engineering \"Age\" feature\n",
    "* Engineering \"Day of week\" feature\n",
    "* Engineering binary iPhone-Other device feature\n",
    "* Dropping purchase date and birth date columns\n",
    "\n",
    "#### --> We need to code up our own custom transfomer classes, which can be instantiated and included as objects in an sklearn pipeline\n",
    "\n",
    "#### In practice, it's less difficult than it sounds. Each of our classes needs the following:\n",
    "#### --> inherit from sklearn base `BaseEstimator` and `TransformerMixin` classes (you don't need to understand how these base classes work in detail)\n",
    "#### --> have its own `fit()` and `transform()` methods\n",
    "\n",
    "Let's give it a try!"
   ]
  },
  {
   "cell_type": "code",
   "execution_count": 78,
   "metadata": {},
   "outputs": [],
   "source": [
    "from sklearn.base import BaseEstimator, TransformerMixin\n",
    "\n",
    "# Custom transformer for filling missing values in the categorical \"saving accounts\" and \"checking account\" columns\n",
    "class ḾissingValFiller(BaseEstimator, TransformerMixin):\n",
    "    def __init__(self):\n",
    "        self.cols_to_fill = None\n",
    "\n",
    "    def fit(self, features_df, labels_df=None, columns_to_fill=None):\n",
    "        if columns_to_fill is None:\n",
    "            self.cols_to_fill = ['Saving accounts', 'Checking account']\n",
    "        else:\n",
    "            self.cols_to_fill = columns_to_fill\n",
    "\n",
    "        return self\n",
    "\n",
    "    def transform(self, features_df):\n",
    "        transformed_df = features_df.copy()\n",
    "        for column in transformed_df[self.cols_to_fill]:\n",
    "            transformed_df[column] = transformed_df[column].fillna('Missing')\n",
    "\n",
    "        return transformed_df"
   ]
  },
  {
   "cell_type": "markdown",
   "metadata": {},
   "source": [
    "#### Let's test it on some input"
   ]
  },
  {
   "cell_type": "code",
   "execution_count": 79,
   "metadata": {},
   "outputs": [
    {
     "name": "stdout",
     "output_type": "stream",
     "text": [
      "Original data:\n"
     ]
    },
    {
     "data": {
      "text/html": [
       "<div>\n",
       "<style scoped>\n",
       "    .dataframe tbody tr th:only-of-type {\n",
       "        vertical-align: middle;\n",
       "    }\n",
       "\n",
       "    .dataframe tbody tr th {\n",
       "        vertical-align: top;\n",
       "    }\n",
       "\n",
       "    .dataframe thead th {\n",
       "        text-align: right;\n",
       "    }\n",
       "</style>\n",
       "<table border=\"1\" class=\"dataframe\">\n",
       "  <thead>\n",
       "    <tr style=\"text-align: right;\">\n",
       "      <th></th>\n",
       "      <th>Job</th>\n",
       "      <th>Housing</th>\n",
       "      <th>Saving accounts</th>\n",
       "      <th>Checking account</th>\n",
       "      <th>Credit amount</th>\n",
       "      <th>Duration</th>\n",
       "      <th>Purpose</th>\n",
       "      <th>Gender</th>\n",
       "      <th>Purchase_date</th>\n",
       "      <th>Birth_date</th>\n",
       "      <th>Device</th>\n",
       "    </tr>\n",
       "  </thead>\n",
       "  <tbody>\n",
       "    <tr>\n",
       "      <th>0</th>\n",
       "      <td>2</td>\n",
       "      <td>own</td>\n",
       "      <td>NaN</td>\n",
       "      <td>little</td>\n",
       "      <td>1169</td>\n",
       "      <td>6</td>\n",
       "      <td>radio/TV</td>\n",
       "      <td>male</td>\n",
       "      <td>2020-01-22</td>\n",
       "      <td>1953-01-22</td>\n",
       "      <td>One Plus 8 128 GB</td>\n",
       "    </tr>\n",
       "  </tbody>\n",
       "</table>\n",
       "</div>"
      ],
      "text/plain": [
       "   Job Housing Saving accounts Checking account  Credit amount  Duration  \\\n",
       "0    2     own             NaN           little           1169         6   \n",
       "\n",
       "    Purpose Gender Purchase_date Birth_date             Device  \n",
       "0  radio/TV   male    2020-01-22 1953-01-22  One Plus 8 128 GB  "
      ]
     },
     "metadata": {},
     "output_type": "display_data"
    },
    {
     "name": "stdout",
     "output_type": "stream",
     "text": [
      "Transformed data:\n"
     ]
    },
    {
     "data": {
      "text/html": [
       "<div>\n",
       "<style scoped>\n",
       "    .dataframe tbody tr th:only-of-type {\n",
       "        vertical-align: middle;\n",
       "    }\n",
       "\n",
       "    .dataframe tbody tr th {\n",
       "        vertical-align: top;\n",
       "    }\n",
       "\n",
       "    .dataframe thead th {\n",
       "        text-align: right;\n",
       "    }\n",
       "</style>\n",
       "<table border=\"1\" class=\"dataframe\">\n",
       "  <thead>\n",
       "    <tr style=\"text-align: right;\">\n",
       "      <th></th>\n",
       "      <th>Job</th>\n",
       "      <th>Housing</th>\n",
       "      <th>Saving accounts</th>\n",
       "      <th>Checking account</th>\n",
       "      <th>Credit amount</th>\n",
       "      <th>Duration</th>\n",
       "      <th>Purpose</th>\n",
       "      <th>Gender</th>\n",
       "      <th>Purchase_date</th>\n",
       "      <th>Birth_date</th>\n",
       "      <th>Device</th>\n",
       "    </tr>\n",
       "  </thead>\n",
       "  <tbody>\n",
       "    <tr>\n",
       "      <th>0</th>\n",
       "      <td>2</td>\n",
       "      <td>own</td>\n",
       "      <td>Missing</td>\n",
       "      <td>little</td>\n",
       "      <td>1169</td>\n",
       "      <td>6</td>\n",
       "      <td>radio/TV</td>\n",
       "      <td>male</td>\n",
       "      <td>2020-01-22</td>\n",
       "      <td>1953-01-22</td>\n",
       "      <td>One Plus 8 128 GB</td>\n",
       "    </tr>\n",
       "  </tbody>\n",
       "</table>\n",
       "</div>"
      ],
      "text/plain": [
       "   Job Housing Saving accounts Checking account  Credit amount  Duration  \\\n",
       "0    2     own         Missing           little           1169         6   \n",
       "\n",
       "    Purpose Gender Purchase_date Birth_date             Device  \n",
       "0  radio/TV   male    2020-01-22 1953-01-22  One Plus 8 128 GB  "
      ]
     },
     "metadata": {},
     "output_type": "display_data"
    }
   ],
   "source": [
    "input_data = df_original.iloc[:,:-1].head(1)\n",
    "print('Original data:')\n",
    "display(input_data)\n",
    "\n",
    "test_filler = ḾissingValFiller()\n",
    "test_filler.fit(input_data)\n",
    "transformed_input_data = test_filler.transform(input_data)\n",
    "\n",
    "print('Transformed data:')\n",
    "display(transformed_input_data)"
   ]
  },
  {
   "cell_type": "markdown",
   "metadata": {},
   "source": [
    "#### Great. Now let's code up the rest of the custom transformers!"
   ]
  },
  {
   "cell_type": "code",
   "execution_count": 80,
   "metadata": {},
   "outputs": [],
   "source": [
    "# Custom transformer for casting \"Job\" column to string\n",
    "class StringCaster(BaseEstimator, TransformerMixin):\n",
    "    def __init__(self):\n",
    "        self.cols_to_cast = None\n",
    "\n",
    "    def fit(self, features_df, labels_df=None, columns_to_cast=None):\n",
    "        if columns_to_cast is None:\n",
    "            self.cols_to_cast = ['Job']\n",
    "        else:\n",
    "            self.cols_to_cast = columns_to_cast\n",
    "\n",
    "        return self\n",
    "\n",
    "    def transform(self, features_df):\n",
    "        transformed_df = features_df.copy()\n",
    "        for column in transformed_df[self.cols_to_cast]:\n",
    "            transformed_df[column] = transformed_df[column].astype(str)\n",
    "\n",
    "        return transformed_df\n",
    "\n",
    "# Custom transformer for engineering \"Age\" feature\n",
    "class AgeEncoder(BaseEstimator, TransformerMixin):\n",
    "    def __init__(self):\n",
    "        self.reference_date_column = None\n",
    "        self.birth_date_column = None\n",
    "\n",
    "    def fit(self, features_df, labels_df=None, r_date_col=None, b_date_col=None):\n",
    "        if r_date_col is None or b_date_col is None:\n",
    "            self.reference_date_column = 'Purchase_date'\n",
    "            self.birth_date_column = 'Birth_date'\n",
    "        else:\n",
    "            self.reference_date_column = r_date_col\n",
    "            self.birth_date_column = b_date_col\n",
    "\n",
    "        return self\n",
    "\n",
    "    def transform(self, features_df):\n",
    "        transformed_df = features_df.copy()\n",
    "        transformed_df['Age'] = transformed_df.apply(lambda row: self.create_age_column(row), axis=1)\n",
    "        transformed_df.drop([self.birth_date_column], axis=1, inplace=True)\n",
    "\n",
    "        return transformed_df\n",
    "\n",
    "    def calculate_age(self, referenceDate, birthDate):\n",
    "        days_in_year = 365.2425\n",
    "        try:\n",
    "            age = int((pd.to_datetime(referenceDate, infer_datetime_format=True) - pd.to_datetime(str(birthDate), infer_datetime_format=True)).days / days_in_year)\n",
    "        except:\n",
    "            age = None\n",
    "\n",
    "        return age\n",
    "\n",
    "    def create_age_column(self, row):\n",
    "        return self.calculate_age(row[self.reference_date_column], row[self.birth_date_column])\n",
    "\n",
    "\n",
    "# Customer transformer for engineering \"Day of week\" feature\n",
    "class DayOfWeekEncoder(BaseEstimator, TransformerMixin):\n",
    "    def __init__(self):\n",
    "        self.date_column = None\n",
    "\n",
    "    def fit(self, features_df, labels_df=None, date_col=None):\n",
    "        if date_col is None:\n",
    "            self.date_column = 'Purchase_date'\n",
    "        else:\n",
    "            self.date_column = date_col\n",
    "\n",
    "        return self\n",
    "\n",
    "    def transform(self, features_df):\n",
    "        transformed_df = features_df.copy()\n",
    "        transformed_df.loc[:, self.date_column] = transformed_df[self.date_column].map(lambda x: self.find_day_of_week(x))\n",
    "        transformed_df.drop([self.date_column], axis=1, inplace=True)\n",
    "\n",
    "        return transformed_df\n",
    "\n",
    "    def find_day_of_week(self, string):\n",
    "        recognized_date = pd.to_datetime(string, infer_datetime_format=True)\n",
    "\n",
    "        return calendar.day_name[recognized_date.weekday()]\n",
    "\n",
    "\n",
    "# Custom transformer for engineering binary iPhone-Other device feature\n",
    "class DeviceEncoder(BaseEstimator, TransformerMixin):\n",
    "    def __init__(self):\n",
    "        self.device_column = None\n",
    "\n",
    "    def fit(self, features_df, labels_df=None, device_col=None):\n",
    "        if device_col is None:\n",
    "            self.device_column = 'Device'\n",
    "        else:\n",
    "            self.device_column = device_col\n",
    "\n",
    "        return self\n",
    "\n",
    "    def transform(self, features_df):\n",
    "        transformed_df = features_df.copy()\n",
    "        transformed_df.loc[:, self.device_column] = transformed_df[self.device_column].map(\n",
    "            lambda x: self.identify_device(str(x)))\n",
    "\n",
    "        return transformed_df\n",
    "\n",
    "    def identify_device(self, string):\n",
    "        if 'iphone' in string.lower():\n",
    "            return 'iPhone'\n",
    "        else:\n",
    "            return 'Other'"
   ]
  },
  {
   "cell_type": "markdown",
   "metadata": {},
   "source": [
    "#### Let's build and test our custom preprocessing pipeline"
   ]
  },
  {
   "cell_type": "code",
   "execution_count": 81,
   "metadata": {},
   "outputs": [
    {
     "name": "stdout",
     "output_type": "stream",
     "text": [
      "Original data:\n"
     ]
    },
    {
     "data": {
      "text/html": [
       "<div>\n",
       "<style scoped>\n",
       "    .dataframe tbody tr th:only-of-type {\n",
       "        vertical-align: middle;\n",
       "    }\n",
       "\n",
       "    .dataframe tbody tr th {\n",
       "        vertical-align: top;\n",
       "    }\n",
       "\n",
       "    .dataframe thead th {\n",
       "        text-align: right;\n",
       "    }\n",
       "</style>\n",
       "<table border=\"1\" class=\"dataframe\">\n",
       "  <thead>\n",
       "    <tr style=\"text-align: right;\">\n",
       "      <th></th>\n",
       "      <th>Job</th>\n",
       "      <th>Housing</th>\n",
       "      <th>Saving accounts</th>\n",
       "      <th>Checking account</th>\n",
       "      <th>Credit amount</th>\n",
       "      <th>Duration</th>\n",
       "      <th>Purpose</th>\n",
       "      <th>Gender</th>\n",
       "      <th>Purchase_date</th>\n",
       "      <th>Birth_date</th>\n",
       "      <th>Device</th>\n",
       "    </tr>\n",
       "  </thead>\n",
       "  <tbody>\n",
       "    <tr>\n",
       "      <th>0</th>\n",
       "      <td>2</td>\n",
       "      <td>own</td>\n",
       "      <td>NaN</td>\n",
       "      <td>little</td>\n",
       "      <td>1169</td>\n",
       "      <td>6</td>\n",
       "      <td>radio/TV</td>\n",
       "      <td>male</td>\n",
       "      <td>2020-01-22</td>\n",
       "      <td>1953-01-22</td>\n",
       "      <td>One Plus 8 128 GB</td>\n",
       "    </tr>\n",
       "  </tbody>\n",
       "</table>\n",
       "</div>"
      ],
      "text/plain": [
       "   Job Housing Saving accounts Checking account  Credit amount  Duration  \\\n",
       "0    2     own             NaN           little           1169         6   \n",
       "\n",
       "    Purpose Gender Purchase_date Birth_date             Device  \n",
       "0  radio/TV   male    2020-01-22 1953-01-22  One Plus 8 128 GB  "
      ]
     },
     "metadata": {},
     "output_type": "display_data"
    },
    {
     "name": "stdout",
     "output_type": "stream",
     "text": [
      "Transformed data:\n"
     ]
    },
    {
     "data": {
      "text/html": [
       "<div>\n",
       "<style scoped>\n",
       "    .dataframe tbody tr th:only-of-type {\n",
       "        vertical-align: middle;\n",
       "    }\n",
       "\n",
       "    .dataframe tbody tr th {\n",
       "        vertical-align: top;\n",
       "    }\n",
       "\n",
       "    .dataframe thead th {\n",
       "        text-align: right;\n",
       "    }\n",
       "</style>\n",
       "<table border=\"1\" class=\"dataframe\">\n",
       "  <thead>\n",
       "    <tr style=\"text-align: right;\">\n",
       "      <th></th>\n",
       "      <th>Job</th>\n",
       "      <th>Housing</th>\n",
       "      <th>Saving accounts</th>\n",
       "      <th>Checking account</th>\n",
       "      <th>Credit amount</th>\n",
       "      <th>Duration</th>\n",
       "      <th>Purpose</th>\n",
       "      <th>Gender</th>\n",
       "      <th>Device</th>\n",
       "      <th>Age</th>\n",
       "    </tr>\n",
       "  </thead>\n",
       "  <tbody>\n",
       "    <tr>\n",
       "      <th>0</th>\n",
       "      <td>2</td>\n",
       "      <td>own</td>\n",
       "      <td>Missing</td>\n",
       "      <td>little</td>\n",
       "      <td>1169</td>\n",
       "      <td>6</td>\n",
       "      <td>radio/TV</td>\n",
       "      <td>male</td>\n",
       "      <td>Other</td>\n",
       "      <td>66</td>\n",
       "    </tr>\n",
       "  </tbody>\n",
       "</table>\n",
       "</div>"
      ],
      "text/plain": [
       "  Job Housing Saving accounts Checking account  Credit amount  Duration  \\\n",
       "0   2     own         Missing           little           1169         6   \n",
       "\n",
       "    Purpose Gender Device  Age  \n",
       "0  radio/TV   male  Other   66  "
      ]
     },
     "metadata": {},
     "output_type": "display_data"
    },
    {
     "name": "stdout",
     "output_type": "stream",
     "text": [
      "\n",
      "It works!\n"
     ]
    }
   ],
   "source": [
    "test_preprocessing_pipeline = Pipeline([\n",
    "    ('value_filler', ḾissingValFiller()),\n",
    "    ('string_caster', StringCaster()),\n",
    "    ('age_encoder', AgeEncoder()),\n",
    "    ('day_of_week_encoder', DayOfWeekEncoder()),\n",
    "    ('device_encoder', DeviceEncoder())\n",
    "])\n",
    "\n",
    "input_data = df_original.iloc[:,:-1].head(1)\n",
    "print('Original data:')\n",
    "display(input_data)\n",
    "\n",
    "test_preprocessing_pipeline.fit(input_data)\n",
    "transformed_input_data = test_preprocessing_pipeline.transform(input_data)\n",
    "\n",
    "print('Transformed data:')\n",
    "display(transformed_input_data)\n",
    "print()\n",
    "print('It works!')"
   ]
  },
  {
   "cell_type": "markdown",
   "metadata": {},
   "source": [
    "#### Let's build a final e2e pipeline."
   ]
  },
  {
   "cell_type": "code",
   "execution_count": 82,
   "metadata": {},
   "outputs": [],
   "source": [
    "### Before doing so, we need to define one more utility transformer class...\n",
    "# Transformer for transforming df to a dict (needed input format for DictVectorizer)\n",
    "class DfDict(BaseEstimator, TransformerMixin):\n",
    "    def __init__(self):\n",
    "        pass\n",
    "\n",
    "    def fit(self, features_df, labels_df=None):\n",
    "        return self\n",
    "\n",
    "    def transform(self, features_df):\n",
    "        return features_df.to_dict('records')"
   ]
  },
  {
   "cell_type": "code",
   "execution_count": 86,
   "metadata": {},
   "outputs": [
    {
     "data": {
      "text/plain": [
       "Pipeline(memory=None,\n",
       "     steps=[('value_filler', ḾissingValFiller()), ('string_caster', StringCaster()), ('age_encoder', AgeEncoder()), ('day_of_week_encoder', DayOfWeekEncoder()), ('device_encoder', DeviceEncoder()), ('df_dict', DfDict()), ('dict_vec', DictVectorizer(dtype=<class 'numpy.float64'>, separator='=', sort=True,...obs=None,\n",
       "            oob_score=False, random_state=None, verbose=0,\n",
       "            warm_start=False))])"
      ]
     },
     "execution_count": 86,
     "metadata": {},
     "output_type": "execute_result"
    }
   ],
   "source": [
    "e2e_pipeline = Pipeline([\n",
    "    ('value_filler', ḾissingValFiller()),\n",
    "    ('string_caster', StringCaster()),\n",
    "    ('age_encoder', AgeEncoder()),\n",
    "    ('day_of_week_encoder', DayOfWeekEncoder()),\n",
    "    ('device_encoder', DeviceEncoder()),\n",
    "    ('df_dict', DfDict()),\n",
    "    ('dict_vec', DictVectorizer()),\n",
    "  ('imputation', SimpleImputer(missing_values=np.nan, strategy='most_frequent')),\n",
    "  ('scaling', StandardScaler(with_mean=False)),\n",
    "  ('classifier', RF_clf)\n",
    "])\n",
    "\n",
    "# We can then fit (train) the pipeline on our training data - directly after having done the train/test split:\n",
    "e2e_pipeline.fit(df_original.iloc[:,:-1].head(5), df_original.iloc[:,-1:].head(5).values.ravel())"
   ]
  },
  {
   "cell_type": "code",
   "execution_count": 87,
   "metadata": {},
   "outputs": [
    {
     "name": "stdout",
     "output_type": "stream",
     "text": [
      "area_under_curve: 1.000\n",
      "accuracy: 1.000\n",
      "log_loss: 0.265\n",
      "precision: 1.000\n",
      "recall: 1.000\n",
      "specificity: 1.000\n",
      "f1_score: 1.000\n",
      "\n",
      "confusion_matrix:\n",
      "[[3, 0], [0, 2]]\n",
      "\n",
      "roc_curve:\n"
     ]
    },
    {
     "data": {
      "image/png": "[encoded data removed]",
      "text/plain": [
       "<Figure size 432x288 with 1 Axes>"
      ]
     },
     "metadata": {
      "needs_background": "light"
     },
     "output_type": "display_data"
    },
    {
     "name": "stdout",
     "output_type": "stream",
     "text": [
      "\n",
      "precision_recall_curve:\n"
     ]
    },
    {
     "data": {
      "text/plain": [
       "<Figure size 432x288 with 0 Axes>"
      ]
     },
     "metadata": {},
     "output_type": "display_data"
    },
    {
     "data": {
      "image/png": "[encoded data removed]",
      "text/plain": [
       "<Figure size 432x288 with 1 Axes>"
      ]
     },
     "metadata": {
      "needs_background": "light"
     },
     "output_type": "display_data"
    },
    {
     "data": {
      "text/plain": [
       "<Figure size 432x288 with 0 Axes>"
      ]
     },
     "metadata": {},
     "output_type": "display_data"
    }
   ],
   "source": [
    "validate(e2e_pipeline, df_original.iloc[:,:-1].head(5), df_original.iloc[:,-1:].head(5))"
   ]
  },
  {
   "cell_type": "markdown",
   "metadata": {},
   "source": [
    "## HOW ABOUT ADDITIONAL ERROR HANDLING ON THE FLY?"
   ]
  },
  {
   "cell_type": "markdown",
   "metadata": {},
   "source": [
    "#### Two sample production deployment errors / issues:\n",
    "\n",
    "#### --> string data is entered with a preceding or trailing whitespaces, e.g. \" iPhone\" instead of \"iPhone\"\n",
    "\n",
    "#### --> data sent to the API (e.g. in json format) has a different type than the original training data (e.g. integer instead of float, string intead of integer, etc.) \n",
    "\n",
    "#### Luckily, we can code up custom transformers to deal with these (and many other) issues!"
   ]
  },
  {
   "cell_type": "code",
   "execution_count": null,
   "metadata": {},
   "outputs": [],
   "source": [
    "# Transformer for preceding and trailing whitespaces\n",
    "class WhitespaceRemover(BaseEstimator, TransformerMixin):\n",
    "    # def __init__(self):\n",
    "    # no variables to be initialized\n",
    "\n",
    "    def remove_whitespace(self, features_df):\n",
    "        for col in features_df:\n",
    "            if features_df[col].dtype == 'object':\n",
    "                features_df[col] = features_df[col].str.strip()\n",
    "        return features_df\n",
    "\n",
    "    def fit(self, features_df=None, labels_df=None):\n",
    "        return self\n",
    "\n",
    "    def transform(self, features_df):\n",
    "        transformed_df = features_df.copy()\n",
    "        transformed_df = self.remove_whitespace(transformed_df)\n",
    "        return transformed_df\n",
    "\n",
    "\n",
    "# Transformer for casting into pandas automatically recognized dtypes\n",
    "class OriginalDtypesCaster(BaseEstimator, TransformerMixin):\n",
    "    def __init__(self):\n",
    "        self.column_types = {}\n",
    "\n",
    "    def fit(self, features_df, labels_df=None):\n",
    "        dtypes = features_df.dtypes\n",
    "        dtypes_col = dtypes.index\n",
    "        dtypes_type = [i.name for i in dtypes.values]\n",
    "        self.column_types = dict(zip(dtypes_col, dtypes_type))\n",
    "\n",
    "        return self\n",
    "\n",
    "    def transform(self, features_df):\n",
    "        transformed_df = features_df.copy()\n",
    "        transformed_df = transformed_df.astype(self.column_types)\n",
    "\n",
    "        return transformed_df"
   ]
  },
  {
   "cell_type": "code",
   "execution_count": null,
   "metadata": {},
   "outputs": [],
   "source": []
  },
  {
   "cell_type": "markdown",
   "metadata": {},
   "source": [
    "## [OPTIONAL / HOMEWORK] PACKAGE YOUR PIPELINE INTO A REST API WITH FLASK AND DOCKER"
   ]
  },
  {
   "cell_type": "markdown",
   "metadata": {},
   "source": []
  },
  {
   "cell_type": "code",
   "execution_count": null,
   "metadata": {},
   "outputs": [],
   "source": [
    "#pd.to_datetime(df['BIRTHDATE'].replace('nan', np.nan))\n",
    "#df['BIRTHDATE'].sort_values(ascending=False).replace('nan', np.nan).head(14270)\n",
    "#df.loc[df['BIRTHDATE'] == '01.07.50']\n",
    "\n",
    "#for index, row in df.iterrows():\n",
    "#    try:\n",
    "#        pd.to_datetime(row['BIRTHDATE'])\n",
    "#    except:\n",
    "#        print(index)\n",
    "#        print(row)"
   ]
  },
  {
   "cell_type": "code",
   "execution_count": null,
   "metadata": {},
   "outputs": [],
   "source": [
    "#from sklearn.utils import resample\n",
    "#df_downsampled = resample(df, n_samples=10000, replace=False, random_state=0)\n",
    "#df_downsampled.to_csv('../data/interim/np_training_2_downsampled.csv', index=False)"
   ]
  },
  {
   "cell_type": "markdown",
   "metadata": {},
   "source": [
    "## STEP 1\n",
    "### Check for and remove duplicates"
   ]
  },
  {
   "cell_type": "code",
   "execution_count": null,
   "metadata": {},
   "outputs": [],
   "source": [
    "# Check for duplicates\n",
    "# Select duplicate rows except first occurrence based on all columns\n",
    "\n",
    "print('Checking for duplicates...')\n",
    "duplicateRowsDF = df[df.duplicated()]\n",
    "if duplicateRowsDF.shape[0] == 0:\n",
    "    print(\"Good news - no duplicates found.\")\n",
    "else:\n",
    "    print('Duplicate rows found!')\n",
    "    print('Number of duplicate rows:', duplicateRowsDF.shape[0])\n",
    "    duplicateRowsDF = df[df.duplicated(keep=False)]\n",
    "    duplicateRowsIndices = duplicateRowsDF.index\n",
    "    #duplicateRowsIndices = duplicateRowsDF.groupby(duplicateRowsDF.columns.tolist()).apply(lambda x: tuple(x.index)).tolist()\n",
    "    print('Indices of duplicate rows:')\n",
    "    print(duplicateRowsIndices)\n",
    "    print('Removing duplicate rows except for the first occurrence...')\n",
    "    df.drop_duplicates(subset=None, keep='first', inplace=True)\n",
    "    print('Done.')\n",
    "    print('After removing duplicates, the table now has', df.shape[0], 'rows.')"
   ]
  },
  {
   "cell_type": "code",
   "execution_count": null,
   "metadata": {},
   "outputs": [],
   "source": [
    "# TODO: Potentially add some more sanity checks here"
   ]
  },
  {
   "cell_type": "markdown",
   "metadata": {},
   "source": [
    "## STEP 2\n",
    "### Remove customers who didn't accept the offer / didn't sign the contract"
   ]
  },
  {
   "cell_type": "code",
   "execution_count": null,
   "metadata": {},
   "outputs": [],
   "source": [
    "# Count customers per status\n",
    "print('Checking what customer status is available in the data - overview of potential status codes:')\n",
    "print('5 = zurückgelegt (customer did not accept the offer / did not sign the contract')\n",
    "print('15 = abgelehnt (customer REJECTED)')\n",
    "print('100, 110 = freigeschalten (customer ACCEPTED)')\n",
    "print('75 = ?')\n",
    "sns.countplot(y=\"STATUS_ID\", data=df)\n",
    "plt.show()\n",
    "display(df['STATUS_ID'].value_counts())"
   ]
  },
  {
   "cell_type": "code",
   "execution_count": null,
   "metadata": {},
   "outputs": [],
   "source": [
    "# Remove status \"5\" customers (status == 5) and ALSO status == 75\n",
    "print('Removing customers with status == 5 and status == 75...')\n",
    "df_relevant = df[~df['STATUS_ID'].isin([5, 75])].copy()\n",
    "\n",
    "# Count customers per status\n",
    "print('Overview of the status codes after removing 5 and 75:')\n",
    "sns.countplot(y=\"STATUS_ID\", data=df_relevant)\n",
    "plt.show()\n",
    "display(df_relevant['STATUS_ID'].value_counts())"
   ]
  },
  {
   "cell_type": "markdown",
   "metadata": {},
   "source": [
    "## STEP 3\n",
    "### Remove labels for the rejected customers (critical!)"
   ]
  },
  {
   "cell_type": "code",
   "execution_count": null,
   "metadata": {},
   "outputs": [],
   "source": [
    "## Remove labels for the rejected customers\n",
    "print('Original number of defaulters and non-defaulters:')\n",
    "display(df_relevant['NEVERPAYER'].value_counts())\n",
    "print('Removing labels for rejected customers...')\n",
    "df_relevant_empty_labels = df_relevant.copy()\n",
    "df_relevant_empty_labels['NEVERPAYER'] = np.where(df_relevant_empty_labels['STATUS_ID']==15, np.nan, df_relevant_empty_labels['NEVERPAYER'])\n",
    "print('Number of defaulters and non-defaulters after ensuring rejected customers have empty label values:')\n",
    "display(df_relevant_empty_labels['NEVERPAYER'].value_counts())"
   ]
  },
  {
   "cell_type": "markdown",
   "metadata": {},
   "source": [
    "## STEP 4\n",
    "### Create \"BIRTH_MONTH\" column - based on the \"BIRTHDATE\" column - to support column name and to format known to CRIF"
   ]
  },
  {
   "cell_type": "code",
   "execution_count": null,
   "metadata": {},
   "outputs": [],
   "source": [
    "df_relevant_empty_labels['BIRTHDATE'] = pd.to_datetime(df_relevant_empty_labels['BIRTHDATE'])\n",
    "#df['BIRTHDATE'].sort_values(ascending=False).replace('nan', np.nan).head(14270)\n",
    "#df.loc[df['BIRTHDATE'] == '01.07.50']\n",
    "\n",
    "#for index, row in df.iterrows():\n",
    "#   try:\n",
    "#        pd.to_datetime(row['BIRTHDATE'])\n",
    "#    except:\n",
    "#        print(index)\n",
    "#        print(row)"
   ]
  },
  {
   "cell_type": "code",
   "execution_count": null,
   "metadata": {},
   "outputs": [],
   "source": [
    "#df_relevant_empty_labels.info()"
   ]
  },
  {
   "cell_type": "code",
   "execution_count": null,
   "metadata": {},
   "outputs": [],
   "source": [
    "print('Creating the BIRTH_MONTH column in format YYYY.MM instead of YYYY-MM-DD...')\n",
    "df_relevant_empty_labels['BIRTH_MONTH'] = df_relevant_empty_labels['BIRTHDATE'].map(lambda x: (100*x.year + x.month)/100)\n",
    "print('Done.')\n",
    "print('Overview of first 5 rows including the new BIRTH_MONTH column')\n",
    "display(df_relevant_empty_labels.head())"
   ]
  },
  {
   "cell_type": "markdown",
   "metadata": {},
   "source": [
    "## STEP 5\n",
    "### Add \"TAC\" column - which is not available in the current data, but will be used in the future and is required as an input by CRIF. This column will be filled with a dummy value."
   ]
  },
  {
   "cell_type": "code",
   "execution_count": null,
   "metadata": {},
   "outputs": [],
   "source": [
    "print('Adding \"TAC\" column and filling it with dummy data...')\n",
    "df_relevant_empty_labels.loc[:, 'TAC'] = '35602508'\n",
    "print('Done.')\n",
    "print('Overview of first 5 rows including the new TAC column')\n",
    "display(df_relevant_empty_labels.head())"
   ]
  },
  {
   "cell_type": "markdown",
   "metadata": {},
   "source": [
    "## STEP 6\n",
    "### Selecting columns which should be used for model training, i.e. are available in CRIF production environment"
   ]
  },
  {
   "cell_type": "code",
   "execution_count": null,
   "metadata": {},
   "outputs": [],
   "source": [
    "print('Selecting columns...')\n",
    "df_final_tool_input = df_relevant_empty_labels[['AKZ', # Erweiterung\n",
    "                                               'DEVICE_PRICE', # Erweiterung\n",
    "                                               'MNP_YN', # Erweiterung\n",
    "                                               'COUNTRY', # CRIF\n",
    "                                               'IDENTIFICATION_TYPE', # CRIF\n",
    "                                               #'CNT_NOFEE_OPTIONS', # NOT ON LIST\n",
    "                                               #'INSTALLMENT_TYPE', # NOT ON LIST\n",
    "                                               'ISO', # CRIF\n",
    "                                               #'CNT_FEE_OPTIONS', # NOT ON LIST\n",
    "                                               'BIN', # CRIF\n",
    "                                               'ZIP', # CRIF\n",
    "                                               'GENDER', # CRIF\n",
    "                                               #'KAUTION', # gestrichen\n",
    "                                               'PURCHASE_HOUR', # Erweiterung\n",
    "                                               'BILL_ONLINE_YN', # Erweiterung\n",
    "                                               #'VALUE_NONREC_FEE', # NOT ON LIST\n",
    "                                               'LIABILITY', # Erweiterung\n",
    "                                               'TARIF_FEE', # Erweiterung\n",
    "                                               'PURCHASE_DATE', # Erweiterung - NO PREDICTIVE VALUE IN THIS FORMAT, TOO MANY UNIQUE VALUES\n",
    "                                               'BIRTH_MONTH', # CRIF, TO BE CLARIFIED, format is just the month number\n",
    "                                               #'BIRTHDATE', # NOT ON LIST, TO BE CLARIFIED, format is a full date (not year)\n",
    "                                               'STATUS_ID', # gestrichen, but we keep it for benchmarking purposes\n",
    "                                               'MVD_MONTHS', # Erweiterung\n",
    "                                               #'CNT_INSURANCE', # NOT ON LIST\n",
    "                                               'DEALER_CODE', # CRIF\n",
    "                                               #'VALUE_INSURANCE_FEE', # NOT ON LIST\n",
    "                                               #'SIMLOCK_FLAG', # NOT ON LIST\n",
    "                                               'DEVICE_MODEL_TYPE', # Erweiterung\n",
    "                                               'SEGMENT_TARIF', # Erweiterung\n",
    "                                               'TARIF_ID', # CRIF\n",
    "                                               #'CNT_INTERLOCK', # NOT ON LIST\n",
    "                                               'MEMORY_SIZE', # Erweiterung\n",
    "                                               'VOLLJAEHRIG', # CRIF\n",
    "                                               'AUSWEISVORH', # CRIF\n",
    "                                               'CITY', # CRIF - think about some smart encoding here\n",
    "                                               #'VALUE_RECURRING_FEE', # NOT ON LIST\n",
    "                                               #'CRIF_DECISION', # NOT ON LIST\n",
    "                                               'KLAX_MAX_UMSTEIGER_PRE2POST', # Erweiterung\n",
    "                                               'PAYMENT', # CRIF\n",
    "                                               'DEVICE_INFO', # Erweiterung - consider smart encoding or removing\n",
    "                                               'REDUKTION', # Erweiterung\n",
    "                                               'CRIF_SCORE', # CRIF\n",
    "                                               'CONTRACT_INFO', # Erweiterung\n",
    "                                               'BRAND', # CRIF\n",
    "                                               'DEPOSIT', # Erweiterung\n",
    "                                               'NEVERPAYER', # LABEL\n",
    "                                               'TAC']].copy() # New colunn with dummy data - column required by CRIF\n",
    "\n",
    "print('Done.')\n",
    "print('Final table with only columns that will be used for model training - first five rows:')\n",
    "display(df_final_tool_input.head())"
   ]
  },
  {
   "cell_type": "markdown",
   "metadata": {},
   "source": [
    "## STEP 7\n",
    "### Specifying decision column and label column"
   ]
  },
  {
   "cell_type": "code",
   "execution_count": null,
   "metadata": {},
   "outputs": [],
   "source": [
    "print('Specifying decision column and label column...')\n",
    "## Decision column assumed to not exist unless specified by the user\n",
    "decision_column = None\n",
    "label_column = None\n",
    "\n",
    "## User specifies which column is the decision column\n",
    "decision_column = 'STATUS_ID'\n",
    "label_column = 'NEVERPAYER'\n",
    "print('Done.')"
   ]
  },
  {
   "cell_type": "code",
   "execution_count": null,
   "metadata": {},
   "outputs": [],
   "source": [
    "# Create \"lean\" dataframe that will be used in next steps\n",
    "#print('Creating lean dataframe including only columns needed for model training and evaluation...')\n",
    "#input_cols.extend(decision_columns)\n",
    "#input_cols.extend([label_column])\n",
    "#df_relevant = df[input_cols].copy()\n",
    "#print('Done.')\n",
    "\n",
    "# TODO: for model retraining, \n",
    "# a cross-check whether column names and dtypes are the same as in the first training should be included"
   ]
  },
  {
   "cell_type": "code",
   "execution_count": null,
   "metadata": {},
   "outputs": [],
   "source": [
    "### Removing completely empty columns:\n",
    "# Number of missing values per column\n",
    "#print('Checking whether there are empty columns...')\n",
    "#completely_empty_cols = []\n",
    "#for index, value in df.isnull().sum().iteritems():\n",
    "#    if value == df.shape[0]:\n",
    "#        completely_empty_cols.append(index)\n",
    "        \n",
    "#print('Completely empty columns found. They are going to be removed:')\n",
    "#print(completely_empty_cols)\n",
    "#print('Removing empty columns...')\n",
    "#df_relevant.drop(completely_empty_cols, inplace=True, axis=1)\n",
    "#print('Done.')"
   ]
  },
  {
   "cell_type": "code",
   "execution_count": null,
   "metadata": {},
   "outputs": [],
   "source": [
    "#display(df_relevant.head())"
   ]
  },
  {
   "cell_type": "markdown",
   "metadata": {},
   "source": [
    "# ------------------------------------------------------------------------------------------------------\n",
    "# PART 2\n",
    "## DATA PREPROCESSING AND MODEL TRAINING"
   ]
  },
  {
   "cell_type": "code",
   "execution_count": null,
   "metadata": {},
   "outputs": [],
   "source": [
    "#df_final_tool_input = df_relevant.copy()\n",
    "print('Overview of the number of defaulters (label = 1) vs good customers (label = 0)')\n",
    "sns.countplot(y=label_column, data=df_final_tool_input)\n",
    "plt.show()"
   ]
  },
  {
   "cell_type": "markdown",
   "metadata": {},
   "source": [
    "------------------\n",
    "## STEP 1\n",
    "### Split data into \"model_data\" (to be used for model training and biz case) and \"bc_only_data\" (biz case only)"
   ]
  },
  {
   "cell_type": "code",
   "execution_count": null,
   "metadata": {},
   "outputs": [],
   "source": [
    "## Updated MLB flow - only if decision_column is not None(!). Otherwise standard training as before.\n",
    "\n",
    "## Step 1: Split data into \"model_data\" and \"bc_only_data\"\n",
    "print('Splitting data into \"model_data\" and \"bc_only_data\"...')\n",
    "\n",
    "# model_data == data which has a label (might include some rejected customers)\n",
    "model_data = df_final_tool_input[df_final_tool_input[label_column].notnull()]\n",
    "print('Number of rows in the \"model_data\":', model_data.shape[0])\n",
    "#display(model_data.shape)\n",
    "\n",
    "# bc_only_data == data which has no label (assumed to be only rejected customers)\n",
    "bc_only_data = df_final_tool_input[df_final_tool_input[label_column].isnull()]\n",
    "print('Number of rows in the \"bc_only_data\":', bc_only_data.shape[0])\n",
    "#display(bc_only_data.shape)"
   ]
  },
  {
   "cell_type": "markdown",
   "metadata": {},
   "source": [
    "--------------\n",
    "## STEP 2\n",
    "### Split \"model data\" into training and testing set\n",
    "#### NOTE: TEST SET SIZE = 25% OF \"MODEL_DATA\" RECOMMENDED "
   ]
  },
  {
   "cell_type": "code",
   "execution_count": null,
   "metadata": {},
   "outputs": [],
   "source": [
    "## Step 2: Train-test split model data\n",
    "print('Splitting \"model_data\" into training and testing set...')\n",
    "train_set, test_set = train_test_split(model_data, test_size=0.25, random_state=42)\n",
    "print('Done.')\n",
    "\n",
    "# At this point we have three data subsets: training data, test data (for evaluating the model),\n",
    "# bc_only data (data without labels, for business case purposes only)\n",
    "# Next, we use the first two subsets to run MLB training and testing - with minor modifications due to decision column."
   ]
  },
  {
   "cell_type": "markdown",
   "metadata": {},
   "source": [
    "------------------\n",
    "## STEP 3\n",
    "### Upsample the minority class in the training set\n",
    "#### (this step is not appllied to TMA dataset due to its incompatibility with probability calibration)"
   ]
  },
  {
   "cell_type": "code",
   "execution_count": null,
   "metadata": {},
   "outputs": [],
   "source": [
    "'''\n",
    "## Step 3: Upsample the minority class in the training set\n",
    "print('Upsampling the minority class (neverpayers) in the training set...')\n",
    "# Check how many neverpayers and payers we have\n",
    "print('Training set - before upsampling - number of labels 0 and 1:')\n",
    "display(train_set[label_column].value_counts())\n",
    "print()\n",
    "print('Test set:')\n",
    "display(test_set[label_column].value_counts())\n",
    "print()\n",
    "\n",
    "# Separate majority and minority classes\n",
    "train_majority = train_set[train_set[label_column]==0]\n",
    "train_minority = train_set[train_set[label_column]==1]\n",
    " \n",
    "# Upsample minority class\n",
    "train_minority_upsampled = resample(train_minority, \n",
    "                                    replace=True,     # sample with replacement\n",
    "                                    n_samples=train_majority.shape[0],  # to match majority class\n",
    "                                    random_state=42) # reproducible results\n",
    " \n",
    "# Combine majority class with upsampled minority class\n",
    "train_set_upsampled = pd.concat([train_majority, train_minority_upsampled])\n",
    " \n",
    "# Display new class counts\n",
    "print('Training set - after upsampling:')\n",
    "display(train_set_upsampled[label_column].value_counts())\n",
    "\n",
    "print('Upsampling completed.')\n",
    "'''"
   ]
  },
  {
   "cell_type": "markdown",
   "metadata": {},
   "source": [
    "------------------\n",
    "## STEP 4\n",
    "### Read in feature types (defined manually here, normally to be specified on the frontend by the user)"
   ]
  },
  {
   "cell_type": "code",
   "execution_count": null,
   "metadata": {},
   "outputs": [],
   "source": [
    "# TODO: Build a widget that allows the user to change feature type allocation (not relevant for model retraining)\n",
    "### Step 4 - define feature types - NORMALLY THIS COMES FROM THE FRONTEND\n",
    "print('Specifying feature types...')\n",
    "\n",
    "feature_types_df = pd.DataFrame(index = df_final_tool_input.nunique().index, columns = ['feature_type'])\n",
    "\n",
    "categorical_features = df_final_tool_input.select_dtypes(include=['object']).nunique().index.values\n",
    "numerical_features = df_final_tool_input.select_dtypes(exclude=['object']).nunique().index.values\n",
    "\n",
    "#display(categorical_features)\n",
    "#display(numerical_features)\n",
    "\n",
    "for index in feature_types_df.index.values:\n",
    "    if index in categorical_features:\n",
    "        feature_types_df.loc[index, 'feature_type'] = 'categorical'\n",
    "    elif index in numerical_features:\n",
    "        feature_types_df.loc[index, 'feature_type'] = 'numerical'\n",
    "    else:\n",
    "        print('ERROR')\n",
    "\n",
    "# Drop label_column and decision_column from feature list\n",
    "cols_to_drop = [decision_column, label_column]\n",
    "feature_types_df.drop(cols_to_drop, inplace = True)\n",
    "\n",
    "#display(feature_types_df)\n",
    "#print()\n",
    "\n",
    "## Manually change some of feature types\n",
    "feature_types_df.loc['COUNTRY', 'feature_type'] = 'categorical'\n",
    "feature_types_df.loc['GENDER', 'feature_type'] = 'categorical'\n",
    "feature_types_df.loc['PURCHASE_DATE', 'feature_type'] = 'categorical'\n",
    "feature_types_df.loc['TARIF_ID', 'feature_type'] = 'categorical'\n",
    "feature_types_df.loc['SEGMENT_TARIF', 'feature_type'] = 'categorical'\n",
    "\n",
    "feature_types = feature_types_df.to_dict()['feature_type']\n",
    "#display(feature_types)\n",
    "\n",
    "## Generate a few lists which will be useful later on\n",
    "feature_names_list = list(feature_types.keys())\n",
    "feature_types_list = list(feature_types.values())\n",
    "\n",
    "#display(feature_names_list)\n",
    "#display(feature_types_list)\n",
    "\n",
    "categorical_features = []\n",
    "numerical_features = []\n",
    "categorical_feature_indices = []\n",
    "\n",
    "for feature_index, feature_type in enumerate(feature_types_list):\n",
    "    if feature_type == 'categorical':\n",
    "        categorical_features.append(feature_names_list[feature_index])\n",
    "        categorical_feature_indices.append(feature_index)\n",
    "    else:\n",
    "        numerical_features.append(feature_names_list[feature_index])\n",
    "\n",
    "print('Categorical features:')\n",
    "display(categorical_features)\n",
    "print()\n",
    "print('Numeric features:')\n",
    "display(numerical_features)\n",
    "print('Feature types specified.')"
   ]
  },
  {
   "cell_type": "code",
   "execution_count": null,
   "metadata": {},
   "outputs": [],
   "source": [
    "### OPTIONAL: Generate feature types metadata (to be used in the prediction API later on)\n",
    "#count = 0\n",
    "#features_metadata = []\n",
    "#for index in feature_types_df.index.values:\n",
    "#    features_metadata.append({\n",
    "#        'name': index,\n",
    "#        'type': feature_types_df.loc[index, 'feature_type'],\n",
    "#        'index': count\n",
    "#    })\n",
    "#    count += 1\n",
    "#display(features_metadata)\n",
    "\n",
    "#import json\n",
    "#json_dump = json.dumps(features_metadata)\n",
    "#print(json_dump)"
   ]
  },
  {
   "cell_type": "markdown",
   "metadata": {},
   "source": [
    "---------------\n",
    "## STEPS 5, 6, 7\n",
    "### Prepare data for training, fit the pipeline (train model), test the pipeline (evaluate model)"
   ]
  },
  {
   "cell_type": "code",
   "execution_count": null,
   "metadata": {},
   "outputs": [],
   "source": [
    "### Step 5: Prepare data for training in dataframe format - this is the format from which conversion to a dict is easy\n",
    "print('Splitting the data into features and labels...')\n",
    "\n",
    "# With upsampling:\n",
    "#features_train = train_set_upsampled.drop(cols_to_drop, axis=1)\n",
    "#labels_train = train_set_upsampled[[label_column]]\n",
    "\n",
    "# Without upsampling\n",
    "features_train = train_set.drop(cols_to_drop, axis=1)\n",
    "labels_train = train_set[[label_column]]\n",
    "\n",
    "features_test = test_set.drop(cols_to_drop, axis=1)\n",
    "labels_test = test_set[[label_column]]\n",
    "\n",
    "print('Done.')"
   ]
  },
  {
   "cell_type": "code",
   "execution_count": null,
   "metadata": {},
   "outputs": [],
   "source": [
    "def fit_and_validate(pipeline):\n",
    "    ### Step 6: Fit the pipeline\n",
    "    print('Fitting the pipeline (model training)... ')\n",
    "    print('This can take around 20-40 mins on TMA dataset depending on available computing power...')\n",
    "    pipeline.fit(features_train,\n",
    "                labels_train.values.ravel(),\n",
    "                userdtypescasting__feature_types=feature_types_list,\n",
    "                unseenvalueschecker__feature_types=feature_types_list)\n",
    "    print('Pipeline fitting completed.')\n",
    "\n",
    "    ### Step 7: Test the pipeline by making predictions and computing metrics\n",
    "    print('Validating the pipeline (evaluating the model)...')\n",
    "    print('Model evaluation results:')\n",
    "    validate(pipeline, features_test, labels_test)\n",
    "    print('Pipeline validated.')"
   ]
  },
  {
   "cell_type": "code",
   "execution_count": null,
   "metadata": {},
   "outputs": [],
   "source": [
    "%%time\n",
    "### Run model training and evaluation - this can take some time\n",
    "# TODO: Consider adding progress / countdown widget / stopclock\n",
    "fit_and_validate(RF_pipeline_uncalibrated)"
   ]
  },
  {
   "cell_type": "code",
   "execution_count": null,
   "metadata": {},
   "outputs": [],
   "source": [
    "%%time\n",
    "### Run model training and evaluation - this can take some time\n",
    "# TODO: Consider adding progress / countdown widget / stopclock\n",
    "fit_and_validate(RF_pipeline_isotonic)"
   ]
  },
  {
   "cell_type": "code",
   "execution_count": null,
   "metadata": {},
   "outputs": [],
   "source": [
    "%%time\n",
    "### Run model training and evaluation - this can take some time\n",
    "# TODO: Consider adding progress / countdown widget / stopclock\n",
    "fit_and_validate(RF_pipeline_sigmoid)"
   ]
  },
  {
   "cell_type": "code",
   "execution_count": null,
   "metadata": {},
   "outputs": [],
   "source": [
    "# #############################################################################\n",
    "# Plot calibration plots\n",
    "\n",
    "plt.figure(figsize=(10, 10))\n",
    "ax1 = plt.subplot2grid((3, 1), (0, 0), rowspan=2)\n",
    "ax2 = plt.subplot2grid((3, 1), (2, 0))\n",
    "\n",
    "ax1.plot([0, 1], [0, 1], \"k:\", label=\"Perfectly calibrated\")\n",
    "for clf, name in [(RF_pipeline_uncalibrated, 'Uncalibrated'),\n",
    "                  (RF_pipeline_isotonic, 'Isotonic calibration'),\n",
    "                  (RF_pipeline_sigmoid, 'Sigmoid calibration')]:\n",
    "    if hasattr(clf, \"predict_proba\"):\n",
    "        prob_pos = clf.predict_proba(features_test)[:, 1]\n",
    "    else:  # use decision function\n",
    "        prob_pos = clf.decision_function(features_test)\n",
    "        prob_pos = \\\n",
    "            (prob_pos - prob_pos.min()) / (prob_pos.max() - prob_pos.min())\n",
    "    fraction_of_positives, mean_predicted_value = \\\n",
    "        calibration_curve(labels_test, prob_pos, n_bins=20)\n",
    "\n",
    "    ax1.plot(mean_predicted_value, fraction_of_positives, \"s-\",\n",
    "             label=\"%s\" % (name, ))\n",
    "\n",
    "    ax2.hist(prob_pos, range=(0, 1), bins=20, label=name,\n",
    "             histtype=\"step\", lw=2)\n",
    "\n",
    "ax1.set_ylabel(\"Fraction of positives\")\n",
    "ax1.set_ylim([-0.05, 1.05])\n",
    "ax1.legend(loc=\"lower right\")\n",
    "ax1.set_title('Calibration plots  (reliability curve)')\n",
    "\n",
    "ax2.set_xlabel(\"Mean predicted value\")\n",
    "ax2.set_ylabel(\"Count\")\n",
    "ax2.legend(loc=\"upper center\", ncol=2)\n",
    "\n",
    "plt.tight_layout()\n",
    "plt.show()"
   ]
  },
  {
   "cell_type": "code",
   "execution_count": null,
   "metadata": {},
   "outputs": [],
   "source": [
    "#### TO JUST COMPARE CALIBRATION RESULTS STOP RUNNING CODE HERE"
   ]
  },
  {
   "cell_type": "code",
   "execution_count": null,
   "metadata": {},
   "outputs": [],
   "source": [
    "model_training_timestamp = '{:%Y-%b-%d_%H:%M:%S}'.format(datetime.datetime.now())\n",
    "print('Model training completed on ', model_training_timestamp,'.')\n",
    "print('Creating dedicated output directory...')\n",
    "dirName = '../output/%s/' % (model_training_timestamp)\n",
    " \n",
    "try:\n",
    "    # Create target Directory\n",
    "    os.mkdir(dirName)\n",
    "    os.mkdir(dirName+'standalone-deployment')\n",
    "    os.mkdir(dirName+'business-case-data')\n",
    "    print(\"Directory \" , dirName ,  \"successfully created.\")\n",
    "except FileExistsError:\n",
    "    print(\"ERROR: Directory \" , dirName ,  \"already exists!\")"
   ]
  },
  {
   "cell_type": "code",
   "execution_count": null,
   "metadata": {},
   "outputs": [],
   "source": [
    "### Assign generic name \"RF_pipeline\" to selected pipeline\n",
    "# For the initial deployment, the uncalibrated model version was used.\n",
    "# However, in the future, the calibrated version might do a better job\n",
    "RF_pipeline = RF_pipeline_uncalibrated"
   ]
  },
  {
   "cell_type": "code",
   "execution_count": null,
   "metadata": {},
   "outputs": [],
   "source": [
    "### Persist model, and model training and validation data\n",
    "# TODO: Make sure old model doesn't get overwritten in case someone is retraining the model\n",
    "print('Saving model and auxiliary data into ', dirName)\n",
    "#joblib.dump(RF_pipeline_uncalibrated, dirName+'standalone-deployment/RF_pipeline_uncalibrated.pkl')\n",
    "#joblib.dump(RF_pipeline_isotonic, dirName+'standalone-deployment/RF_pipeline_isotonic.pkl')\n",
    "joblib.dump(RF_pipeline, dirName+'standalone-deployment/RF_pipeline.pkl')\n",
    "#joblib.dump(features_train, '../output/sample_features_train.pkl')\n",
    "#joblib.dump(labels_train, '../output/sample_labels_train.pkl')\n",
    "#joblib.dump(features_test, '../output/sample_features_test.pkl')\n",
    "#joblib.dump(labels_test, '../output/sample_labels_test.pkl')"
   ]
  },
  {
   "cell_type": "code",
   "execution_count": null,
   "metadata": {},
   "outputs": [],
   "source": [
    "### Read-in model\n",
    "# Uncomment the below code if you want to read in the already saved model\n",
    "#RF_pipeline = joblib.load('../output/2019-Aug-22_21:38:03/standalone-deployment/RF_pipeline.pkl')"
   ]
  },
  {
   "cell_type": "markdown",
   "metadata": {},
   "source": [
    "--------------\n",
    "## STEP 8\n",
    "### Make probability predictions on test data"
   ]
  },
  {
   "cell_type": "code",
   "execution_count": null,
   "metadata": {
    "scrolled": true
   },
   "outputs": [],
   "source": [
    "### Step 8: Make probability predictions on test data\n",
    "print('Making predictions on test data...')\n",
    "test_set_predictions = RF_pipeline.predict_proba(features_test)[:,1]\n",
    "print('Done.')\n",
    "print('Distribution of predicted probabilities:')\n",
    "sns.violinplot(test_set_predictions)\n",
    "plt.show()"
   ]
  },
  {
   "cell_type": "markdown",
   "metadata": {},
   "source": [
    "------------------\n",
    "## STEP 9\n",
    "### Make probability predictions on \"bc_only\" data"
   ]
  },
  {
   "cell_type": "code",
   "execution_count": null,
   "metadata": {},
   "outputs": [],
   "source": [
    "### Step 9: Make probability predictions on \"bc_only\" data\n",
    "print('Making predictions on bc_only data...')\n",
    "features_bc_data_only = bc_only_data.drop([label_column], axis=1)\n",
    "print('Done.')\n",
    "print('Distribution of predicted probabilities:')\n",
    "bc_only_data_predictions = RF_pipeline.predict_proba(features_bc_data_only)[:,1]\n",
    "sns.violinplot(bc_only_data_predictions)\n",
    "plt.show()"
   ]
  },
  {
   "cell_type": "markdown",
   "metadata": {},
   "source": [
    "-----------------\n",
    "## STEP 10\n",
    "### Combine predictions with respective original data subsets (i.e. assign samples to predictions)"
   ]
  },
  {
   "cell_type": "code",
   "execution_count": null,
   "metadata": {},
   "outputs": [],
   "source": [
    "## Step 10: Combine predictions with respective data subsets\n",
    "print('Combining predictions with test and bc_only datasets...')\n",
    "test_set_with_predictions = test_set.copy()\n",
    "test_set_with_predictions['MLB_PD'] = test_set_predictions\n",
    "#display(test_set_with_predictions.head())\n",
    "\n",
    "bc_only_data_with_predictions = bc_only_data.copy()\n",
    "bc_only_data_with_predictions['MLB_PD'] = bc_only_data_predictions\n",
    "#display(bc_only_data_with_predictions.head())\n",
    "\n",
    "print('Done.')"
   ]
  },
  {
   "cell_type": "markdown",
   "metadata": {},
   "source": [
    "-------------------\n",
    "## STEP 11\n",
    "### Upsample test set x4 (to be in correct relation to the \"bc_only\" data)\n",
    "#### Note: BASED ON THE ASSUMPTION TEST SET SIZE == 25% MODEL_DATA SIZE (!!!)"
   ]
  },
  {
   "cell_type": "code",
   "execution_count": null,
   "metadata": {},
   "outputs": [],
   "source": [
    "### Step 11: Upsample test set x4 (to be in correct relation to the \"bc_only\" data)\n",
    "print('Upsampling test set x4...')\n",
    "print('Size of the test set before upsampling:')\n",
    "display(test_set_with_predictions.shape)\n",
    "test_set_with_predictions_upsampled = test_set_with_predictions.copy()\n",
    "for i in range(3):\n",
    "    test_set_with_predictions_upsampled = test_set_with_predictions_upsampled.append(test_set_with_predictions)\n",
    "\n",
    "print('Size of the test set after upsampling:')\n",
    "display(test_set_with_predictions_upsampled.shape)\n",
    "print('Upsampling completed.')"
   ]
  },
  {
   "cell_type": "markdown",
   "metadata": {},
   "source": [
    "---------------\n",
    "## STEP 12\n",
    "### Generate final bc data table with probability predictions per sample"
   ]
  },
  {
   "cell_type": "code",
   "execution_count": null,
   "metadata": {},
   "outputs": [],
   "source": [
    "### Step 12: Generate the final table with predictions\n",
    "print('Generating the final bc table...')\n",
    "output_data_upsampled = test_set_with_predictions_upsampled.copy()\n",
    "output_data_upsampled = output_data_upsampled.append(bc_only_data_with_predictions)\n",
    "print('Final bc table - upsampled - table dimensions:')\n",
    "display(output_data_upsampled.shape)\n",
    "print('Final bc table - upsampled - first five rows of data:')\n",
    "display(output_data_upsampled.head())\n",
    "\n",
    "output_data_without_upsampling = test_set_with_predictions.copy()\n",
    "output_data_without_upsampling = output_data_without_upsampling.append(bc_only_data_with_predictions)\n",
    "print('Final bc table - without upsampling - table dimensions:')\n",
    "display(output_data_without_upsampling.shape)\n",
    "print('Final bc table - without upsampling - first five rows of data:')\n",
    "display(output_data_without_upsampling.head())\n",
    "print('Final bc table successfully generated.')"
   ]
  },
  {
   "cell_type": "markdown",
   "metadata": {},
   "source": [
    "------------------\n",
    "## STEP 13\n",
    "### Save the bc data table"
   ]
  },
  {
   "cell_type": "code",
   "execution_count": null,
   "metadata": {},
   "outputs": [],
   "source": [
    "### Step 13: Save (output) the created table\n",
    "print('Saving bc table into', dirName,'...')\n",
    "output_data_upsampled.to_csv(dirName+'business-case-data/bc_data_table_upsampled.csv',\n",
    "                             index=True)\n",
    "output_data_without_upsampling.to_csv(dirName+'business-case-data/bc_data_table_without_upsampling.csv',\n",
    "                                      index=True)\n",
    "print('Done.')"
   ]
  },
  {
   "cell_type": "markdown",
   "metadata": {},
   "source": [
    "------------------\n",
    "## STEP 14\n",
    "### Generate outputs for deployment testing"
   ]
  },
  {
   "cell_type": "code",
   "execution_count": null,
   "metadata": {},
   "outputs": [],
   "source": [
    "# Generate and persist predictions on test features\n",
    "print('Generating and saving downsampled test predictions and test features into', dirName)\n",
    "predictions_test = RF_pipeline.predict_proba(features_test)\n",
    "pred_test = pd.DataFrame(predictions_test, columns=['probability_of_nondefault', 'probability_of_default'])\n",
    "\n",
    "features_test_with_predictions = features_test.copy()\n",
    "features_test_with_predictions['probability_of_nondefault'] = pred_test['probability_of_nondefault'].values\n",
    "features_test_with_predictions['probability_of_default'] = pred_test['probability_of_default'].values\n",
    "\n",
    "features_test_with_predictions_downsampled = resample(features_test_with_predictions, \n",
    "                                                replace=False,     # sample without replacement\n",
    "                                                n_samples=1000,\n",
    "                                                random_state=42) # reproducible results\n",
    "\n",
    "features_test_downsampled = features_test_with_predictions_downsampled.drop(['probability_of_nondefault', 'probability_of_default'], axis=1)\n",
    "pred_test_downsampled = features_test_with_predictions_downsampled[['probability_of_nondefault', 'probability_of_default']]\n",
    "\n",
    "# Persist test features and test labels for future reuse, e.g. model testing prior to deployment\n",
    "\n",
    "features_test_downsampled.to_csv(dirName+'standalone-deployment/test_features.csv', index=False, float_format='%.4f')\n",
    "pred_test_downsampled.to_csv(dirName+'standalone-deployment/test_predictions.csv', index=False, float_format='%.3f')\n",
    "print('Done.')"
   ]
  },
  {
   "cell_type": "code",
   "execution_count": null,
   "metadata": {},
   "outputs": [],
   "source": [
    "## Save categorical values and numeric ranges\n",
    "print('Generating and saving unique values of categorical features and ranges of numeric features into', dirName)\n",
    "categorical_values = {}\n",
    "numeric_ranges = {}\n",
    "\n",
    "for feature_name in categorical_features:\n",
    "    feature_unique_values = features_train[feature_name].unique().tolist()\n",
    "    categorical_values.update({feature_name : feature_unique_values})\n",
    "        \n",
    "for feature_name in numerical_features:\n",
    "    feature_range = [float(features_train.loc[:, feature_name].min()), float(features_train.loc[:, feature_name].max())]\n",
    "    numeric_ranges.update({feature_name : feature_range})\n",
    "\n",
    "with open(dirName+'standalone-deployment/categorical_values.json', 'w') as fp:\n",
    "    json.dump(categorical_values, fp, sort_keys=True, indent=2)\n",
    "with open(dirName+'standalone-deployment/numeric_ranges.json', 'w') as fp:\n",
    "    json.dump(numeric_ranges, fp, sort_keys=True, indent=2)\n",
    "    \n",
    "print('Done.')"
   ]
  },
  {
   "cell_type": "code",
   "execution_count": null,
   "metadata": {},
   "outputs": [],
   "source": [
    "print('Copying the latest version of pipeline_components.py into', dirName)\n",
    "print('These module defines custom data transformations and is needed for production deployment.')\n",
    "print('For details, please refer to the deployment manual.')\n",
    "print('...')\n",
    "copyfile('../src/library/pipeline_components.py', dirName+'standalone-deployment/pipeline_components.py')\n",
    "print('Done.')"
   ]
  },
  {
   "cell_type": "code",
   "execution_count": null,
   "metadata": {},
   "outputs": [],
   "source": [
    "print('Generating and saving required features list into', dirName)\n",
    "required_features = features_train.columns.to_list()\n",
    "\n",
    "with open(dirName+'standalone-deployment/required_features.json', 'w') as fp:\n",
    "    json.dump(required_features, fp, sort_keys=True, indent=2)\n",
    "\n",
    "print('Done.')"
   ]
  },
  {
   "cell_type": "code",
   "execution_count": null,
   "metadata": {},
   "outputs": [],
   "source": [
    "print('Generating and saving features datatypes into', dirName)\n",
    "features_dtypes = features_train.dtypes.apply(lambda x: x.name).to_dict()\n",
    "#print(features_dtypes)\n",
    "\n",
    "with open(dirName+'standalone-deployment/features_dtypes.json', 'w') as fp:\n",
    "    json.dump(features_dtypes, fp, sort_keys=True, indent=2)\n",
    "\n",
    "print('Done.')"
   ]
  },
  {
   "cell_type": "code",
   "execution_count": null,
   "metadata": {},
   "outputs": [],
   "source": [
    "print('Saving system type and versions of key dependencies for deployment reference:')"
   ]
  },
  {
   "cell_type": "code",
   "execution_count": null,
   "metadata": {},
   "outputs": [],
   "source": [
    "%%capture cap\n",
    "print('Configuration of the system and key dependencies in the environment in which the model was trained:')\n",
    "print()\n",
    "print('Operating system:', platform.system())\n",
    "print('OS release:', platform.release())\n",
    "print('Machine:', platform.machine())\n",
    "print('Platform:', platform.platform())\n",
    "print('Version:', platform.version())\n",
    "print()\n",
    "print('Python version: {}'.format(sys.version))\n",
    "print('Pandas version: {}'.format(pd.__version__))\n",
    "print('Numpy version: {}'.format(np.__version__))\n",
    "print('Scikit-learn version: {}'.format(sklearn.__version__))"
   ]
  },
  {
   "cell_type": "code",
   "execution_count": null,
   "metadata": {},
   "outputs": [],
   "source": [
    "with open(dirName+'standalone-deployment/system_and_dependencies.txt', 'w') as f:\n",
    "    f.write(cap.stdout)"
   ]
  },
  {
   "cell_type": "code",
   "execution_count": null,
   "metadata": {},
   "outputs": [],
   "source": [
    "print('Done.')"
   ]
  },
  {
   "cell_type": "code",
   "execution_count": null,
   "metadata": {},
   "outputs": [],
   "source": [
    "print('Copying the latest version of DEPLOYMENT_HINTS.md into', dirName)\n",
    "copyfile('../DEPLOYMENT_HINTS.md', dirName+'standalone-deployment/DEPLOYMENT_HINTS.md')\n",
    "print('Done.')"
   ]
  },
  {
   "cell_type": "code",
   "execution_count": null,
   "metadata": {},
   "outputs": [],
   "source": [
    "print('Copying the latest version of validation_script.py into', dirName)\n",
    "copyfile('../validation_script.py', dirName+'standalone-deployment/validation_script.py')\n",
    "print('Done.')"
   ]
  },
  {
   "cell_type": "code",
   "execution_count": null,
   "metadata": {},
   "outputs": [],
   "source": [
    "print('Copying prediction-api files into', dirName)\n",
    "copytree('../prediction-api', dirName+'prediction-api')\n",
    "print('Done.')"
   ]
  },
  {
   "cell_type": "code",
   "execution_count": null,
   "metadata": {},
   "outputs": [],
   "source": [
    "### Generate feature types metadata (to be used in the prediction API later on)\n",
    "print('Saving model into ', dirName+'prediction-api/data/model.pkl')\n",
    "joblib.dump(RF_pipeline, dirName+'prediction-api/data/model.pkl')\n",
    "print('Done.')"
   ]
  },
  {
   "cell_type": "code",
   "execution_count": null,
   "metadata": {},
   "outputs": [],
   "source": [
    "### Generate feature types metadata (to be used in the prediction API)\n",
    "print('Generating feature types metadata for prediction API and saving them into', dirName+'prediction-api/data')\n",
    "\n",
    "meta_data_dict = {}\n",
    "meta_data_dict['label'] = label_column\n",
    "count = 0\n",
    "\n",
    "features_metadata = []\n",
    "for index in feature_types_df.index.values:\n",
    "    features_metadata.append({\n",
    "        'name': index,\n",
    "        'type': feature_types_df.loc[index, 'feature_type'],\n",
    "        'index': count\n",
    "    })\n",
    "    count += 1\n",
    "\n",
    "meta_data_dict['features'] = features_metadata\n",
    "\n",
    "#display(meta_data_dict)\n",
    "\n",
    "with open(dirName+'prediction-api/data/meta_data.json', 'w') as fp:\n",
    "    json.dump(meta_data_dict, fp, sort_keys=True, indent=2)\n",
    "\n",
    "print('Done.')"
   ]
  },
  {
   "cell_type": "code",
   "execution_count": null,
   "metadata": {},
   "outputs": [],
   "source": [
    "print('Saving features datatypes into', dirName+'prediction-api/data')\n",
    "\n",
    "with open(dirName+'prediction-api/data/features_dtypes.json', 'w') as fp:\n",
    "    json.dump(features_dtypes, fp, sort_keys=True, indent=2)\n",
    "\n",
    "print('Done.')"
   ]
  },
  {
   "cell_type": "code",
   "execution_count": null,
   "metadata": {},
   "outputs": [],
   "source": [
    "### Generate test data for API\n",
    "print('Generating test request and test response for prediction API and saving them into', dirName+'prediction-api/documentation')\n",
    "smoke_test_features = features_test.head(10)\n",
    "#display(smoke_test_features)\n",
    "\n",
    "with open(dirName+'prediction-api/documentation/test_request_body.json', 'w') as fp:\n",
    "    json.dump(smoke_test_features.to_dict(orient='records'),\n",
    "              fp,\n",
    "              sort_keys=True,\n",
    "              indent=2,\n",
    "              default=str)\n",
    "\n",
    "#print('Done.')"
   ]
  },
  {
   "cell_type": "code",
   "execution_count": null,
   "metadata": {},
   "outputs": [],
   "source": [
    "smoke_predictions_array = RF_pipeline.predict_proba(smoke_test_features)\n",
    "smoke_predictions_list = []\n",
    "for index in range(0, smoke_predictions_array.shape[0]):\n",
    "    smoke_predictions_list.append({\n",
    "        'nondefault': {\n",
    "            'probability': smoke_predictions_array[index, 0]\n",
    "        },\n",
    "        'default': {\n",
    "            'probability': smoke_predictions_array[index, 1]\n",
    "        }\n",
    "    })\n",
    "\n",
    "#display(smoke_predictions_list)\n",
    "\n",
    "with open(dirName+'prediction-api/documentation/test_response_body.json', 'w') as fp:\n",
    "    json.dump(smoke_predictions_list, fp, sort_keys=True, indent=2)\n",
    "\n",
    "print('Done.')"
   ]
  },
  {
   "cell_type": "code",
   "execution_count": null,
   "metadata": {},
   "outputs": [],
   "source": [
    "print('Copying the latest version of SRC module into', dirName+'prediction-api/modules/src')\n",
    "print('This module defines custom data transformations and is needed for production deployment.')\n",
    "print('...')\n",
    "if os.path.exists(dirName+'prediction-api/modules/src'):\n",
    "    rmtree(dirName+'prediction-api/modules/src')\n",
    "    \n",
    "copytree('../src', dirName+'prediction-api/modules/src')\n",
    "print('Done.')"
   ]
  },
  {
   "cell_type": "code",
   "execution_count": null,
   "metadata": {},
   "outputs": [],
   "source": []
  }
 ],
 "metadata": {
  "kernelspec": {
   "display_name": "Python [conda env:credit-scoring-tma]",
   "language": "python",
   "name": "conda-env-credit-scoring-tma-py"
  },
  "language_info": {
   "codemirror_mode": {
    "name": "ipython",
    "version": 3
   },
   "file_extension": ".py",
   "mimetype": "text/x-python",
   "name": "python",
   "nbconvert_exporter": "python",
   "pygments_lexer": "ipython3",
   "version": "3.7.3"
  },
  "toc": {
   "base_numbering": 1,
   "nav_menu": {},
   "number_sections": true,
   "sideBar": true,
   "skip_h1_title": false,
   "title_cell": "Table of Contents",
   "title_sidebar": "Contents",
   "toc_cell": false,
   "toc_position": {},
   "toc_section_display": "block",
   "toc_window_display": false
  }
 },
 "nbformat": 4,
 "nbformat_minor": 2
}
