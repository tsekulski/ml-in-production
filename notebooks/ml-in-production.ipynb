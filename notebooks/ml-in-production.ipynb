{
 "cells": [
  {
   "cell_type": "code",
   "execution_count": 6,
   "metadata": {},
   "outputs": [
    {
     "data": {
      "text/html": [
       "<style>.container { width:100% !important; }</style>"
      ],
      "text/plain": [
       "<IPython.core.display.HTML object>"
      ]
     },
     "metadata": {},
     "output_type": "display_data"
    },
    {
     "data": {
      "text/html": [
       "<script>\n",
       "code_show=true; \n",
       "function code_toggle() {\n",
       " if (code_show){\n",
       " $('div.input').hide();\n",
       " } else {\n",
       " $('div.input').show();\n",
       " }\n",
       " code_show = !code_show\n",
       "} \n",
       "$( document ).ready(code_toggle);\n",
       "</script>\n",
       "The raw code in this IPython notebook is by default hidden for easier reading.\n",
       "To toggle on/off the raw code, click <a href=\"javascript:code_toggle()\">here</a>."
      ],
      "text/plain": [
       "<IPython.core.display.HTML object>"
      ]
     },
     "execution_count": 6,
     "metadata": {},
     "output_type": "execute_result"
    }
   ],
   "source": [
    "from IPython.core.display import display, HTML\n",
    "\n",
    "# Set jupyter screen width to 100% and some pandas options\n",
    "display(HTML(\"<style>.container { width:100% !important; }</style>\"))\n",
    "\n",
    "# Add a button for toggling code on and off\n",
    "HTML('''<script>\n",
    "code_show=true; \n",
    "function code_toggle() {\n",
    " if (code_show){\n",
    " $('div.input').hide();\n",
    " } else {\n",
    " $('div.input').show();\n",
    " }\n",
    " code_show = !code_show\n",
    "} \n",
    "$( document ).ready(code_toggle);\n",
    "</script>\n",
    "The raw code in this IPython notebook is by default hidden for easier reading.\n",
    "To toggle on/off the raw code, click <a href=\"javascript:code_toggle()\">here</a>.''')"
   ]
  },
  {
   "cell_type": "markdown",
   "metadata": {},
   "source": [
    "# Preparing machine learning models for real-time scoring in production environment with sklearn pipelines and Flask\n",
    "\n",
    "## We are going to cover the following:\n",
    "### --> Typical sequence of data cleaning, feature engineering, model training steps in a machine learning project\n",
    "### --> The challenge of trying to reproduce these steps in real-time in the live scoring environment\n",
    "### --> Standard sklearn pipeline: how can it help us address this challenge - but only partly\n",
    "### --> Customizing sklearn pipeline to build solve our challenge in an e2e fashion\n",
    "### --> Using Flask to serve a ML model as a REST API"
   ]
  },
  {
   "cell_type": "markdown",
   "metadata": {},
   "source": [
    "# ------------------------------------------------------------------------------------------------------\n",
    "# PART 0\n",
    "## LOADING PACKAGES"
   ]
  },
  {
   "cell_type": "code",
   "execution_count": 7,
   "metadata": {
    "scrolled": true
   },
   "outputs": [
    {
     "name": "stdout",
     "output_type": "stream",
     "text": [
      "Loading standard Python packages...\n",
      "Standard Python packages successfully loaded.\n"
     ]
    }
   ],
   "source": [
    "### Load necessary packages\n",
    "print('Loading standard Python packages...')\n",
    "\n",
    "# General, data handling and visualization\n",
    "import platform\n",
    "import os\n",
    "import sys\n",
    "from shutil import copyfile, copytree, rmtree\n",
    "import time\n",
    "import pandas as pd\n",
    "import numpy as np\n",
    "import seaborn as sns\n",
    "import matplotlib.pyplot as plt\n",
    "from IPython.display import display\n",
    "import json\n",
    "%matplotlib inline\n",
    "\n",
    "# Data preprocessing, ML model training & validation\n",
    "#from sklearn.utils import resample\n",
    "from sklearn.preprocessing import StandardScaler\n",
    "from sklearn.impute import SimpleImputer\n",
    "from sklearn.feature_extraction import DictVectorizer\n",
    "from sklearn.model_selection import train_test_split\n",
    "from sklearn.utils import shuffle\n",
    "from sklearn.ensemble import RandomForestClassifier\n",
    "import sklearn.metrics\n",
    "from sklearn.externals import joblib # to save models\n",
    "\n",
    "# Pipelining\n",
    "from sklearn.base import BaseEstimator, TransformerMixin # for definition of custom transformers\n",
    "from sklearn.pipeline import Pipeline\n",
    "\n",
    "# Datetime conversions\n",
    "import datetime\n",
    "import calendar\n",
    "\n",
    "# Set some pandas options\n",
    "pd.set_option('display.max_columns', 999)\n",
    "pd.set_option('display.max_rows', 999)\n",
    "\n",
    "print('Standard Python packages successfully loaded.')"
   ]
  },
  {
   "cell_type": "code",
   "execution_count": 8,
   "metadata": {},
   "outputs": [
    {
     "name": "stdout",
     "output_type": "stream",
     "text": [
      "Importing custom helper functions...\n",
      "Helper functions imported.\n"
     ]
    }
   ],
   "source": [
    "### Load helper functions\n",
    "print('Importing custom helper functions...')\n",
    "\n",
    "# OPTIONAL: Load the \"autoreload\" extension so that code can change\n",
    "%load_ext autoreload\n",
    "\n",
    "# OPTIONAL: always reload modules so that as you change code in src, it gets loaded\n",
    "%autoreload 2\n",
    "\n",
    "from src.helper_functions import predict, validate, plot_ROC_curve, plot_precision_recall_curve\n",
    "\n",
    "print('Helper functions imported.')"
   ]
  },
  {
   "cell_type": "markdown",
   "metadata": {},
   "source": [
    "# ------------------------------------------------------------------------------------------------------\n",
    "# PART 1\n",
    "## BUSINESS PROBLEM AND AVAILABLE DATA"
   ]
  },
  {
   "cell_type": "markdown",
   "metadata": {},
   "source": [
    "### The task:\n",
    "### --> Develop a machine learning model that predicts probability of default of credit applicants\n",
    "### --> Deliver the model in a format that can be used for scoring of credit applications in real-time\n",
    "\n",
    "### The dataset:\n",
    "### --> We will be using a modified open-source German credit scoring dataset. This is a \"faked\" dataset, used here for demo purposes only(!)\n",
    "### --> Original dataset is available under https://www.kaggle.com/uciml/german-credit/data"
   ]
  },
  {
   "cell_type": "markdown",
   "metadata": {},
   "source": [
    "## DATA EXPLORATION"
   ]
  },
  {
   "cell_type": "code",
   "execution_count": 9,
   "metadata": {
    "scrolled": false
   },
   "outputs": [
    {
     "name": "stdout",
     "output_type": "stream",
     "text": [
      "Reading in selected file...\n",
      "File successfully read in. Analyzing...\n",
      "\n",
      "Table dimensions:\n",
      "Number of rows: 1000\n",
      "Number of columns: 12\n",
      "\n",
      "Overview of the first five table rows:\n"
     ]
    },
    {
     "data": {
      "text/html": [
       "<div>\n",
       "<style scoped>\n",
       "    .dataframe tbody tr th:only-of-type {\n",
       "        vertical-align: middle;\n",
       "    }\n",
       "\n",
       "    .dataframe tbody tr th {\n",
       "        vertical-align: top;\n",
       "    }\n",
       "\n",
       "    .dataframe thead th {\n",
       "        text-align: right;\n",
       "    }\n",
       "</style>\n",
       "<table border=\"1\" class=\"dataframe\">\n",
       "  <thead>\n",
       "    <tr style=\"text-align: right;\">\n",
       "      <th></th>\n",
       "      <th>Job</th>\n",
       "      <th>Housing</th>\n",
       "      <th>Saving accounts</th>\n",
       "      <th>Checking account</th>\n",
       "      <th>Credit amount</th>\n",
       "      <th>Duration</th>\n",
       "      <th>Purpose</th>\n",
       "      <th>Gender</th>\n",
       "      <th>Purchase_date</th>\n",
       "      <th>Birth_date</th>\n",
       "      <th>Device</th>\n",
       "      <th>Risk_label</th>\n",
       "    </tr>\n",
       "  </thead>\n",
       "  <tbody>\n",
       "    <tr>\n",
       "      <th>131</th>\n",
       "      <td>2</td>\n",
       "      <td>own</td>\n",
       "      <td>little</td>\n",
       "      <td>little</td>\n",
       "      <td>6887</td>\n",
       "      <td>36</td>\n",
       "      <td>education</td>\n",
       "      <td>male</td>\n",
       "      <td>2020-03-12</td>\n",
       "      <td>1991-03-12</td>\n",
       "      <td>Samsung Fantastic</td>\n",
       "      <td>1</td>\n",
       "    </tr>\n",
       "    <tr>\n",
       "      <th>203</th>\n",
       "      <td>2</td>\n",
       "      <td>rent</td>\n",
       "      <td>little</td>\n",
       "      <td>little</td>\n",
       "      <td>902</td>\n",
       "      <td>12</td>\n",
       "      <td>education</td>\n",
       "      <td>male</td>\n",
       "      <td>2020-02-24</td>\n",
       "      <td>1999-02-24</td>\n",
       "      <td>Ericsson Very Old</td>\n",
       "      <td>1</td>\n",
       "    </tr>\n",
       "    <tr>\n",
       "      <th>50</th>\n",
       "      <td>1</td>\n",
       "      <td>own</td>\n",
       "      <td>NaN</td>\n",
       "      <td>moderate</td>\n",
       "      <td>2333</td>\n",
       "      <td>24</td>\n",
       "      <td>furniture/equipment</td>\n",
       "      <td>male</td>\n",
       "      <td>2020-04-26</td>\n",
       "      <td>1991-04-26</td>\n",
       "      <td>Nokia Old</td>\n",
       "      <td>0</td>\n",
       "    </tr>\n",
       "    <tr>\n",
       "      <th>585</th>\n",
       "      <td>2</td>\n",
       "      <td>rent</td>\n",
       "      <td>little</td>\n",
       "      <td>little</td>\n",
       "      <td>2039</td>\n",
       "      <td>18</td>\n",
       "      <td>furniture/equipment</td>\n",
       "      <td>female</td>\n",
       "      <td>2020-02-02</td>\n",
       "      <td>2000-02-02</td>\n",
       "      <td>Huawei Awesome</td>\n",
       "      <td>1</td>\n",
       "    </tr>\n",
       "    <tr>\n",
       "      <th>138</th>\n",
       "      <td>2</td>\n",
       "      <td>own</td>\n",
       "      <td>NaN</td>\n",
       "      <td>moderate</td>\n",
       "      <td>2728</td>\n",
       "      <td>15</td>\n",
       "      <td>radio/TV</td>\n",
       "      <td>male</td>\n",
       "      <td>2020-01-16</td>\n",
       "      <td>1985-01-16</td>\n",
       "      <td>iPhone 9</td>\n",
       "      <td>0</td>\n",
       "    </tr>\n",
       "  </tbody>\n",
       "</table>\n",
       "</div>"
      ],
      "text/plain": [
       "     Job Housing Saving accounts Checking account  Credit amount  Duration  \\\n",
       "131    2     own          little           little           6887        36   \n",
       "203    2    rent          little           little            902        12   \n",
       "50     1     own             NaN         moderate           2333        24   \n",
       "585    2    rent          little           little           2039        18   \n",
       "138    2     own             NaN         moderate           2728        15   \n",
       "\n",
       "                 Purpose  Gender Purchase_date Birth_date             Device  \\\n",
       "131            education    male    2020-03-12 1991-03-12  Samsung Fantastic   \n",
       "203            education    male    2020-02-24 1999-02-24  Ericsson Very Old   \n",
       "50   furniture/equipment    male    2020-04-26 1991-04-26          Nokia Old   \n",
       "585  furniture/equipment  female    2020-02-02 2000-02-02     Huawei Awesome   \n",
       "138             radio/TV    male    2020-01-16 1985-01-16           iPhone 9   \n",
       "\n",
       "     Risk_label  \n",
       "131           1  \n",
       "203           1  \n",
       "50            0  \n",
       "585           1  \n",
       "138           0  "
      ]
     },
     "metadata": {},
     "output_type": "display_data"
    },
    {
     "name": "stdout",
     "output_type": "stream",
     "text": [
      "\n",
      "Summary of numeric features\n"
     ]
    },
    {
     "data": {
      "text/html": [
       "<div>\n",
       "<style scoped>\n",
       "    .dataframe tbody tr th:only-of-type {\n",
       "        vertical-align: middle;\n",
       "    }\n",
       "\n",
       "    .dataframe tbody tr th {\n",
       "        vertical-align: top;\n",
       "    }\n",
       "\n",
       "    .dataframe thead th {\n",
       "        text-align: right;\n",
       "    }\n",
       "</style>\n",
       "<table border=\"1\" class=\"dataframe\">\n",
       "  <thead>\n",
       "    <tr style=\"text-align: right;\">\n",
       "      <th></th>\n",
       "      <th>Job</th>\n",
       "      <th>Credit amount</th>\n",
       "      <th>Duration</th>\n",
       "      <th>Risk_label</th>\n",
       "    </tr>\n",
       "  </thead>\n",
       "  <tbody>\n",
       "    <tr>\n",
       "      <th>count</th>\n",
       "      <td>1000.000000</td>\n",
       "      <td>1000.000000</td>\n",
       "      <td>1000.000000</td>\n",
       "      <td>1000.000000</td>\n",
       "    </tr>\n",
       "    <tr>\n",
       "      <th>mean</th>\n",
       "      <td>1.904000</td>\n",
       "      <td>3271.258000</td>\n",
       "      <td>20.903000</td>\n",
       "      <td>0.300000</td>\n",
       "    </tr>\n",
       "    <tr>\n",
       "      <th>std</th>\n",
       "      <td>0.653614</td>\n",
       "      <td>2822.736876</td>\n",
       "      <td>12.058814</td>\n",
       "      <td>0.458487</td>\n",
       "    </tr>\n",
       "    <tr>\n",
       "      <th>min</th>\n",
       "      <td>0.000000</td>\n",
       "      <td>250.000000</td>\n",
       "      <td>4.000000</td>\n",
       "      <td>0.000000</td>\n",
       "    </tr>\n",
       "    <tr>\n",
       "      <th>25%</th>\n",
       "      <td>2.000000</td>\n",
       "      <td>1365.500000</td>\n",
       "      <td>12.000000</td>\n",
       "      <td>0.000000</td>\n",
       "    </tr>\n",
       "    <tr>\n",
       "      <th>50%</th>\n",
       "      <td>2.000000</td>\n",
       "      <td>2319.500000</td>\n",
       "      <td>18.000000</td>\n",
       "      <td>0.000000</td>\n",
       "    </tr>\n",
       "    <tr>\n",
       "      <th>75%</th>\n",
       "      <td>2.000000</td>\n",
       "      <td>3972.250000</td>\n",
       "      <td>24.000000</td>\n",
       "      <td>1.000000</td>\n",
       "    </tr>\n",
       "    <tr>\n",
       "      <th>max</th>\n",
       "      <td>3.000000</td>\n",
       "      <td>18424.000000</td>\n",
       "      <td>72.000000</td>\n",
       "      <td>1.000000</td>\n",
       "    </tr>\n",
       "  </tbody>\n",
       "</table>\n",
       "</div>"
      ],
      "text/plain": [
       "               Job  Credit amount     Duration   Risk_label\n",
       "count  1000.000000    1000.000000  1000.000000  1000.000000\n",
       "mean      1.904000    3271.258000    20.903000     0.300000\n",
       "std       0.653614    2822.736876    12.058814     0.458487\n",
       "min       0.000000     250.000000     4.000000     0.000000\n",
       "25%       2.000000    1365.500000    12.000000     0.000000\n",
       "50%       2.000000    2319.500000    18.000000     0.000000\n",
       "75%       2.000000    3972.250000    24.000000     1.000000\n",
       "max       3.000000   18424.000000    72.000000     1.000000"
      ]
     },
     "metadata": {},
     "output_type": "display_data"
    },
    {
     "name": "stdout",
     "output_type": "stream",
     "text": [
      "\n",
      "Summary of categorical features\n"
     ]
    },
    {
     "data": {
      "text/html": [
       "<div>\n",
       "<style scoped>\n",
       "    .dataframe tbody tr th:only-of-type {\n",
       "        vertical-align: middle;\n",
       "    }\n",
       "\n",
       "    .dataframe tbody tr th {\n",
       "        vertical-align: top;\n",
       "    }\n",
       "\n",
       "    .dataframe thead th {\n",
       "        text-align: right;\n",
       "    }\n",
       "</style>\n",
       "<table border=\"1\" class=\"dataframe\">\n",
       "  <thead>\n",
       "    <tr style=\"text-align: right;\">\n",
       "      <th></th>\n",
       "      <th>Housing</th>\n",
       "      <th>Saving accounts</th>\n",
       "      <th>Checking account</th>\n",
       "      <th>Purpose</th>\n",
       "      <th>Gender</th>\n",
       "      <th>Purchase_date</th>\n",
       "      <th>Birth_date</th>\n",
       "      <th>Device</th>\n",
       "    </tr>\n",
       "  </thead>\n",
       "  <tbody>\n",
       "    <tr>\n",
       "      <th>count</th>\n",
       "      <td>1000</td>\n",
       "      <td>817</td>\n",
       "      <td>606</td>\n",
       "      <td>1000</td>\n",
       "      <td>1000</td>\n",
       "      <td>1000</td>\n",
       "      <td>1000</td>\n",
       "      <td>1000</td>\n",
       "    </tr>\n",
       "    <tr>\n",
       "      <th>unique</th>\n",
       "      <td>3</td>\n",
       "      <td>4</td>\n",
       "      <td>3</td>\n",
       "      <td>8</td>\n",
       "      <td>2</td>\n",
       "      <td>134</td>\n",
       "      <td>895</td>\n",
       "      <td>16</td>\n",
       "    </tr>\n",
       "    <tr>\n",
       "      <th>top</th>\n",
       "      <td>own</td>\n",
       "      <td>little</td>\n",
       "      <td>little</td>\n",
       "      <td>car</td>\n",
       "      <td>male</td>\n",
       "      <td>2020-05-07 00:00:00</td>\n",
       "      <td>1997-02-13 00:00:00</td>\n",
       "      <td>iPhone 11 Black</td>\n",
       "    </tr>\n",
       "    <tr>\n",
       "      <th>freq</th>\n",
       "      <td>713</td>\n",
       "      <td>603</td>\n",
       "      <td>274</td>\n",
       "      <td>337</td>\n",
       "      <td>690</td>\n",
       "      <td>14</td>\n",
       "      <td>4</td>\n",
       "      <td>117</td>\n",
       "    </tr>\n",
       "    <tr>\n",
       "      <th>first</th>\n",
       "      <td>NaN</td>\n",
       "      <td>NaN</td>\n",
       "      <td>NaN</td>\n",
       "      <td>NaN</td>\n",
       "      <td>NaN</td>\n",
       "      <td>2020-01-01 00:00:00</td>\n",
       "      <td>1945-01-09 00:00:00</td>\n",
       "      <td>NaN</td>\n",
       "    </tr>\n",
       "    <tr>\n",
       "      <th>last</th>\n",
       "      <td>NaN</td>\n",
       "      <td>NaN</td>\n",
       "      <td>NaN</td>\n",
       "      <td>NaN</td>\n",
       "      <td>NaN</td>\n",
       "      <td>2020-05-14 00:00:00</td>\n",
       "      <td>2001-05-11 00:00:00</td>\n",
       "      <td>NaN</td>\n",
       "    </tr>\n",
       "  </tbody>\n",
       "</table>\n",
       "</div>"
      ],
      "text/plain": [
       "       Housing Saving accounts Checking account Purpose Gender  \\\n",
       "count     1000             817              606    1000   1000   \n",
       "unique       3               4                3       8      2   \n",
       "top        own          little           little     car   male   \n",
       "freq       713             603              274     337    690   \n",
       "first      NaN             NaN              NaN     NaN    NaN   \n",
       "last       NaN             NaN              NaN     NaN    NaN   \n",
       "\n",
       "              Purchase_date           Birth_date           Device  \n",
       "count                  1000                 1000             1000  \n",
       "unique                  134                  895               16  \n",
       "top     2020-05-07 00:00:00  1997-02-13 00:00:00  iPhone 11 Black  \n",
       "freq                     14                    4              117  \n",
       "first   2020-01-01 00:00:00  1945-01-09 00:00:00              NaN  \n",
       "last    2020-05-14 00:00:00  2001-05-11 00:00:00              NaN  "
      ]
     },
     "metadata": {},
     "output_type": "display_data"
    },
    {
     "name": "stdout",
     "output_type": "stream",
     "text": [
      "\n",
      "Number of missing values per column:\n"
     ]
    },
    {
     "data": {
      "text/plain": [
       "Job                   0\n",
       "Housing               0\n",
       "Saving accounts     183\n",
       "Checking account    394\n",
       "Credit amount         0\n",
       "Duration              0\n",
       "Purpose               0\n",
       "Gender                0\n",
       "Purchase_date         0\n",
       "Birth_date            0\n",
       "Device                0\n",
       "Risk_label            0\n",
       "dtype: int64"
      ]
     },
     "metadata": {},
     "output_type": "display_data"
    },
    {
     "name": "stdout",
     "output_type": "stream",
     "text": [
      "\n",
      "Number of high risk (label == 1) vs. low risk (label == 0) applicants:\n"
     ]
    },
    {
     "data": {
      "image/png": "[encoded data removed]",
      "text/plain": [
       "<Figure size 432x288 with 1 Axes>"
      ]
     },
     "metadata": {
      "needs_background": "light"
     },
     "output_type": "display_data"
    },
    {
     "data": {
      "text/plain": [
       "0    700\n",
       "1    300\n",
       "Name: Risk_label, dtype: int64"
      ]
     },
     "metadata": {},
     "output_type": "display_data"
    },
    {
     "name": "stdout",
     "output_type": "stream",
     "text": [
      "\n",
      "Distribution of devices used:\n"
     ]
    },
    {
     "data": {
      "image/png": "[encoded data removed]",
      "text/plain": [
       "<Figure size 432x288 with 1 Axes>"
      ]
     },
     "metadata": {
      "needs_background": "light"
     },
     "output_type": "display_data"
    },
    {
     "name": "stdout",
     "output_type": "stream",
     "text": [
      "\n",
      "Number of unique values in the \"Job\" column:\n"
     ]
    },
    {
     "data": {
      "image/png": "[encoded data removed]",
      "text/plain": [
       "<Figure size 432x288 with 1 Axes>"
      ]
     },
     "metadata": {
      "needs_background": "light"
     },
     "output_type": "display_data"
    }
   ],
   "source": [
    "# Load dataset\n",
    "print('Reading in selected file...')\n",
    "df_original = pd.read_csv('../data/kaggle_german_credit_data_modified.csv',\n",
    "                          parse_dates = ['Purchase_date', 'Birth_date'],\n",
    "                          low_memory=False)\n",
    "\n",
    "df_original = shuffle(df_original, random_state=123)\n",
    "df = df_original.copy()\n",
    "print('File successfully read in. Analyzing...')\n",
    "print()\n",
    "print('Table dimensions:')\n",
    "print('Number of rows:', df.shape[0])\n",
    "print('Number of columns:', df.shape[1])\n",
    "print()\n",
    "print('Overview of the first five table rows:')\n",
    "display(df.head())\n",
    "#print('Column datatypes:')\n",
    "#print(df.dtypes)\n",
    "print()\n",
    "print('Summary of numeric features')\n",
    "display(df.describe())\n",
    "print()\n",
    "print('Summary of categorical features')\n",
    "display(df.describe(include=['object', 'datetime']))\n",
    "print()\n",
    "print('Number of missing values per column:')\n",
    "display(df.isna().sum())\n",
    "print()\n",
    "print('Number of high risk (label == 1) vs. low risk (label == 0) applicants:')\n",
    "sns.countplot(y='Risk_label', data=df)\n",
    "plt.show()\n",
    "display(df['Risk_label'].value_counts())\n",
    "print()\n",
    "print('Distribution of devices used:')\n",
    "sns.countplot(y='Device', data=df)\n",
    "plt.show()\n",
    "print()\n",
    "print('Number of unique values in the \"Job\" column:')\n",
    "sns.countplot(y='Job', data=df)\n",
    "plt.show()"
   ]
  },
  {
   "cell_type": "markdown",
   "metadata": {},
   "source": [
    "### --> We would normally take many more data exploration steps, we skip them here for the sake of brevity.\n",
    "-----------"
   ]
  },
  {
   "cell_type": "markdown",
   "metadata": {},
   "source": [
    "### Our initial conclusions (example):\n",
    "### --> We will need to deal with missing values in savings account and checking account columns\n",
    "### --> We will want to recode the \"purchase date\" and \"birth date\" columns into something useful, like e.g. purchase date into day of the week and birth date into age of the applicant\n",
    "### --> A credit risk analyst told us that the risk profile of iPhone users is different than that of people using other devices. We will want to recode the \"device\" column accordingly\n",
    "### --> The job column looks like an integer-encoded categorical feature\n",
    "-----------"
   ]
  },
  {
   "cell_type": "markdown",
   "metadata": {},
   "source": [
    "# ------------------------------------------------------------------------------------------------------\n",
    "# PART 2\n",
    "## DATA CLEANING, FEATURE ENGINEERING, MODEL TRAINING"
   ]
  },
  {
   "cell_type": "markdown",
   "metadata": {},
   "source": [
    "## DATA CLEANING"
   ]
  },
  {
   "cell_type": "markdown",
   "metadata": {},
   "source": [
    "#### Fill missing values in savings account and checking account columns"
   ]
  },
  {
   "cell_type": "code",
   "execution_count": 10,
   "metadata": {},
   "outputs": [
    {
     "name": "stdout",
     "output_type": "stream",
     "text": [
      "Number of missing values in savings account and checking account columns:\n"
     ]
    },
    {
     "data": {
      "text/plain": [
       "Saving accounts     183\n",
       "Checking account    394\n",
       "dtype: int64"
      ]
     },
     "metadata": {},
     "output_type": "display_data"
    }
   ],
   "source": [
    "print('Number of missing values in savings account and checking account columns:')\n",
    "display(df[['Saving accounts', 'Checking account']].isna().sum())"
   ]
  },
  {
   "cell_type": "code",
   "execution_count": 11,
   "metadata": {},
   "outputs": [
    {
     "name": "stdout",
     "output_type": "stream",
     "text": [
      "Filling missing values...\n",
      "Done.\n"
     ]
    }
   ],
   "source": [
    "print('Filling missing values...')\n",
    "for column in df[['Saving accounts', 'Checking account']]:\n",
    "    df[column] = df[column].fillna('Missing')\n",
    "\n",
    "print('Done.')"
   ]
  },
  {
   "cell_type": "code",
   "execution_count": 12,
   "metadata": {},
   "outputs": [
    {
     "name": "stdout",
     "output_type": "stream",
     "text": [
      "Number of missing values in savings account and checking account columns:\n"
     ]
    },
    {
     "data": {
      "text/plain": [
       "Saving accounts     0\n",
       "Checking account    0\n",
       "dtype: int64"
      ]
     },
     "metadata": {},
     "output_type": "display_data"
    }
   ],
   "source": [
    "print('Number of missing values in savings account and checking account columns:')\n",
    "display(df[['Saving accounts', 'Checking account']].isna().sum())"
   ]
  },
  {
   "cell_type": "markdown",
   "metadata": {},
   "source": [
    "#### Cast integer-encoded \"Job\" column to string (all non-numeric features will be one-hot encoded at a later stage)"
   ]
  },
  {
   "cell_type": "code",
   "execution_count": 13,
   "metadata": {},
   "outputs": [
    {
     "name": "stdout",
     "output_type": "stream",
     "text": [
      "Dtype of the \"Job\" column:\n"
     ]
    },
    {
     "data": {
      "text/plain": [
       "dtype('int64')"
      ]
     },
     "metadata": {},
     "output_type": "display_data"
    }
   ],
   "source": [
    "print('Dtype of the \"Job\" column:')\n",
    "display(df['Job'].dtype)"
   ]
  },
  {
   "cell_type": "code",
   "execution_count": 14,
   "metadata": {},
   "outputs": [
    {
     "name": "stdout",
     "output_type": "stream",
     "text": [
      "Casting \"Job\" column to string...\n",
      "Done.\n"
     ]
    }
   ],
   "source": [
    "print('Casting \"Job\" column to string...')\n",
    "df['Job'] = df['Job'].astype(str)\n",
    "print('Done.')"
   ]
  },
  {
   "cell_type": "code",
   "execution_count": 15,
   "metadata": {},
   "outputs": [
    {
     "name": "stdout",
     "output_type": "stream",
     "text": [
      "Dtype of the \"Job\" column:\n"
     ]
    },
    {
     "data": {
      "text/plain": [
       "dtype('O')"
      ]
     },
     "metadata": {},
     "output_type": "display_data"
    }
   ],
   "source": [
    "print('Dtype of the \"Job\" column:')\n",
    "display(df['Job'].dtype)"
   ]
  },
  {
   "cell_type": "markdown",
   "metadata": {},
   "source": [
    "## FEATURE ENGINEERING"
   ]
  },
  {
   "cell_type": "markdown",
   "metadata": {},
   "source": [
    "#### Engineer age feature (based on purchase date and date of birth)"
   ]
  },
  {
   "cell_type": "code",
   "execution_count": 17,
   "metadata": {},
   "outputs": [
    {
     "data": {
      "text/plain": [
       "'BEFORE:'"
      ]
     },
     "metadata": {},
     "output_type": "display_data"
    },
    {
     "data": {
      "text/html": [
       "<div>\n",
       "<style scoped>\n",
       "    .dataframe tbody tr th:only-of-type {\n",
       "        vertical-align: middle;\n",
       "    }\n",
       "\n",
       "    .dataframe tbody tr th {\n",
       "        vertical-align: top;\n",
       "    }\n",
       "\n",
       "    .dataframe thead th {\n",
       "        text-align: right;\n",
       "    }\n",
       "</style>\n",
       "<table border=\"1\" class=\"dataframe\">\n",
       "  <thead>\n",
       "    <tr style=\"text-align: right;\">\n",
       "      <th></th>\n",
       "      <th>Job</th>\n",
       "      <th>Housing</th>\n",
       "      <th>Saving accounts</th>\n",
       "      <th>Checking account</th>\n",
       "      <th>Credit amount</th>\n",
       "      <th>Duration</th>\n",
       "      <th>Purpose</th>\n",
       "      <th>Gender</th>\n",
       "      <th>Purchase_date</th>\n",
       "      <th>Birth_date</th>\n",
       "      <th>Device</th>\n",
       "      <th>Risk_label</th>\n",
       "      <th>Age</th>\n",
       "    </tr>\n",
       "  </thead>\n",
       "  <tbody>\n",
       "    <tr>\n",
       "      <th>131</th>\n",
       "      <td>2</td>\n",
       "      <td>own</td>\n",
       "      <td>little</td>\n",
       "      <td>little</td>\n",
       "      <td>6887</td>\n",
       "      <td>36</td>\n",
       "      <td>education</td>\n",
       "      <td>male</td>\n",
       "      <td>2020-03-12</td>\n",
       "      <td>1991-03-12</td>\n",
       "      <td>Samsung Fantastic</td>\n",
       "      <td>1</td>\n",
       "      <td>29</td>\n",
       "    </tr>\n",
       "    <tr>\n",
       "      <th>203</th>\n",
       "      <td>2</td>\n",
       "      <td>rent</td>\n",
       "      <td>little</td>\n",
       "      <td>little</td>\n",
       "      <td>902</td>\n",
       "      <td>12</td>\n",
       "      <td>education</td>\n",
       "      <td>male</td>\n",
       "      <td>2020-02-24</td>\n",
       "      <td>1999-02-24</td>\n",
       "      <td>Ericsson Very Old</td>\n",
       "      <td>1</td>\n",
       "      <td>20</td>\n",
       "    </tr>\n",
       "    <tr>\n",
       "      <th>50</th>\n",
       "      <td>1</td>\n",
       "      <td>own</td>\n",
       "      <td>Missing</td>\n",
       "      <td>moderate</td>\n",
       "      <td>2333</td>\n",
       "      <td>24</td>\n",
       "      <td>furniture/equipment</td>\n",
       "      <td>male</td>\n",
       "      <td>2020-04-26</td>\n",
       "      <td>1991-04-26</td>\n",
       "      <td>Nokia Old</td>\n",
       "      <td>0</td>\n",
       "      <td>29</td>\n",
       "    </tr>\n",
       "    <tr>\n",
       "      <th>585</th>\n",
       "      <td>2</td>\n",
       "      <td>rent</td>\n",
       "      <td>little</td>\n",
       "      <td>little</td>\n",
       "      <td>2039</td>\n",
       "      <td>18</td>\n",
       "      <td>furniture/equipment</td>\n",
       "      <td>female</td>\n",
       "      <td>2020-02-02</td>\n",
       "      <td>2000-02-02</td>\n",
       "      <td>Huawei Awesome</td>\n",
       "      <td>1</td>\n",
       "      <td>20</td>\n",
       "    </tr>\n",
       "    <tr>\n",
       "      <th>138</th>\n",
       "      <td>2</td>\n",
       "      <td>own</td>\n",
       "      <td>Missing</td>\n",
       "      <td>moderate</td>\n",
       "      <td>2728</td>\n",
       "      <td>15</td>\n",
       "      <td>radio/TV</td>\n",
       "      <td>male</td>\n",
       "      <td>2020-01-16</td>\n",
       "      <td>1985-01-16</td>\n",
       "      <td>iPhone 9</td>\n",
       "      <td>0</td>\n",
       "      <td>34</td>\n",
       "    </tr>\n",
       "  </tbody>\n",
       "</table>\n",
       "</div>"
      ],
      "text/plain": [
       "    Job Housing Saving accounts Checking account  Credit amount  Duration  \\\n",
       "131   2     own          little           little           6887        36   \n",
       "203   2    rent          little           little            902        12   \n",
       "50    1     own         Missing         moderate           2333        24   \n",
       "585   2    rent          little           little           2039        18   \n",
       "138   2     own         Missing         moderate           2728        15   \n",
       "\n",
       "                 Purpose  Gender Purchase_date Birth_date             Device  \\\n",
       "131            education    male    2020-03-12 1991-03-12  Samsung Fantastic   \n",
       "203            education    male    2020-02-24 1999-02-24  Ericsson Very Old   \n",
       "50   furniture/equipment    male    2020-04-26 1991-04-26          Nokia Old   \n",
       "585  furniture/equipment  female    2020-02-02 2000-02-02     Huawei Awesome   \n",
       "138             radio/TV    male    2020-01-16 1985-01-16           iPhone 9   \n",
       "\n",
       "     Risk_label  Age  \n",
       "131           1   29  \n",
       "203           1   20  \n",
       "50            0   29  \n",
       "585           1   20  \n",
       "138           0   34  "
      ]
     },
     "metadata": {},
     "output_type": "display_data"
    },
    {
     "data": {
      "text/plain": [
       "'AFTER:'"
      ]
     },
     "metadata": {},
     "output_type": "display_data"
    },
    {
     "data": {
      "text/html": [
       "<div>\n",
       "<style scoped>\n",
       "    .dataframe tbody tr th:only-of-type {\n",
       "        vertical-align: middle;\n",
       "    }\n",
       "\n",
       "    .dataframe tbody tr th {\n",
       "        vertical-align: top;\n",
       "    }\n",
       "\n",
       "    .dataframe thead th {\n",
       "        text-align: right;\n",
       "    }\n",
       "</style>\n",
       "<table border=\"1\" class=\"dataframe\">\n",
       "  <thead>\n",
       "    <tr style=\"text-align: right;\">\n",
       "      <th></th>\n",
       "      <th>Job</th>\n",
       "      <th>Housing</th>\n",
       "      <th>Saving accounts</th>\n",
       "      <th>Checking account</th>\n",
       "      <th>Credit amount</th>\n",
       "      <th>Duration</th>\n",
       "      <th>Purpose</th>\n",
       "      <th>Gender</th>\n",
       "      <th>Purchase_date</th>\n",
       "      <th>Birth_date</th>\n",
       "      <th>Device</th>\n",
       "      <th>Risk_label</th>\n",
       "      <th>Age</th>\n",
       "    </tr>\n",
       "  </thead>\n",
       "  <tbody>\n",
       "    <tr>\n",
       "      <th>131</th>\n",
       "      <td>2</td>\n",
       "      <td>own</td>\n",
       "      <td>little</td>\n",
       "      <td>little</td>\n",
       "      <td>6887</td>\n",
       "      <td>36</td>\n",
       "      <td>education</td>\n",
       "      <td>male</td>\n",
       "      <td>2020-03-12</td>\n",
       "      <td>1991-03-12</td>\n",
       "      <td>Samsung Fantastic</td>\n",
       "      <td>1</td>\n",
       "      <td>29</td>\n",
       "    </tr>\n",
       "    <tr>\n",
       "      <th>203</th>\n",
       "      <td>2</td>\n",
       "      <td>rent</td>\n",
       "      <td>little</td>\n",
       "      <td>little</td>\n",
       "      <td>902</td>\n",
       "      <td>12</td>\n",
       "      <td>education</td>\n",
       "      <td>male</td>\n",
       "      <td>2020-02-24</td>\n",
       "      <td>1999-02-24</td>\n",
       "      <td>Ericsson Very Old</td>\n",
       "      <td>1</td>\n",
       "      <td>20</td>\n",
       "    </tr>\n",
       "    <tr>\n",
       "      <th>50</th>\n",
       "      <td>1</td>\n",
       "      <td>own</td>\n",
       "      <td>Missing</td>\n",
       "      <td>moderate</td>\n",
       "      <td>2333</td>\n",
       "      <td>24</td>\n",
       "      <td>furniture/equipment</td>\n",
       "      <td>male</td>\n",
       "      <td>2020-04-26</td>\n",
       "      <td>1991-04-26</td>\n",
       "      <td>Nokia Old</td>\n",
       "      <td>0</td>\n",
       "      <td>29</td>\n",
       "    </tr>\n",
       "    <tr>\n",
       "      <th>585</th>\n",
       "      <td>2</td>\n",
       "      <td>rent</td>\n",
       "      <td>little</td>\n",
       "      <td>little</td>\n",
       "      <td>2039</td>\n",
       "      <td>18</td>\n",
       "      <td>furniture/equipment</td>\n",
       "      <td>female</td>\n",
       "      <td>2020-02-02</td>\n",
       "      <td>2000-02-02</td>\n",
       "      <td>Huawei Awesome</td>\n",
       "      <td>1</td>\n",
       "      <td>20</td>\n",
       "    </tr>\n",
       "    <tr>\n",
       "      <th>138</th>\n",
       "      <td>2</td>\n",
       "      <td>own</td>\n",
       "      <td>Missing</td>\n",
       "      <td>moderate</td>\n",
       "      <td>2728</td>\n",
       "      <td>15</td>\n",
       "      <td>radio/TV</td>\n",
       "      <td>male</td>\n",
       "      <td>2020-01-16</td>\n",
       "      <td>1985-01-16</td>\n",
       "      <td>iPhone 9</td>\n",
       "      <td>0</td>\n",
       "      <td>34</td>\n",
       "    </tr>\n",
       "  </tbody>\n",
       "</table>\n",
       "</div>"
      ],
      "text/plain": [
       "    Job Housing Saving accounts Checking account  Credit amount  Duration  \\\n",
       "131   2     own          little           little           6887        36   \n",
       "203   2    rent          little           little            902        12   \n",
       "50    1     own         Missing         moderate           2333        24   \n",
       "585   2    rent          little           little           2039        18   \n",
       "138   2     own         Missing         moderate           2728        15   \n",
       "\n",
       "                 Purpose  Gender Purchase_date Birth_date             Device  \\\n",
       "131            education    male    2020-03-12 1991-03-12  Samsung Fantastic   \n",
       "203            education    male    2020-02-24 1999-02-24  Ericsson Very Old   \n",
       "50   furniture/equipment    male    2020-04-26 1991-04-26          Nokia Old   \n",
       "585  furniture/equipment  female    2020-02-02 2000-02-02     Huawei Awesome   \n",
       "138             radio/TV    male    2020-01-16 1985-01-16           iPhone 9   \n",
       "\n",
       "     Risk_label  Age  \n",
       "131           1   29  \n",
       "203           1   20  \n",
       "50            0   29  \n",
       "585           1   20  \n",
       "138           0   34  "
      ]
     },
     "metadata": {},
     "output_type": "display_data"
    }
   ],
   "source": [
    "def calculate_age(reference_date, birth_date):\n",
    "    days_in_year = 365.2425\n",
    "    try:\n",
    "        age = int((pd.to_datetime(reference_date, infer_datetime_format=True) - pd.to_datetime(birth_date, infer_datetime_format=True)).days / days_in_year)\n",
    "    except:\n",
    "        age = None\n",
    "\n",
    "    return age\n",
    "\n",
    "def create_age_column(row, reference_date_column, birth_date_column):\n",
    "    return calculate_age(row[reference_date_column], row[birth_date_column])\n",
    "\n",
    "reference_date_column = 'Purchase_date'\n",
    "birth_date_column = 'Birth_date'\n",
    "\n",
    "display('BEFORE:')\n",
    "display(df.head())\n",
    "df['Age'] = df.apply(lambda row: create_age_column(row, reference_date_column, birth_date_column), axis=1)\n",
    "display('AFTER:')\n",
    "display(df.head())"
   ]
  },
  {
   "cell_type": "markdown",
   "metadata": {},
   "source": [
    "#### --> Normally, you would probably additionally bin the \"Age\" into a handful of categories, but we are skipping this step here for the sake of brevity."
   ]
  },
  {
   "cell_type": "markdown",
   "metadata": {},
   "source": [
    "#### Engineer day of the week feature (based on purchase date) "
   ]
  },
  {
   "cell_type": "code",
   "execution_count": 18,
   "metadata": {},
   "outputs": [
    {
     "data": {
      "text/html": [
       "<div>\n",
       "<style scoped>\n",
       "    .dataframe tbody tr th:only-of-type {\n",
       "        vertical-align: middle;\n",
       "    }\n",
       "\n",
       "    .dataframe tbody tr th {\n",
       "        vertical-align: top;\n",
       "    }\n",
       "\n",
       "    .dataframe thead th {\n",
       "        text-align: right;\n",
       "    }\n",
       "</style>\n",
       "<table border=\"1\" class=\"dataframe\">\n",
       "  <thead>\n",
       "    <tr style=\"text-align: right;\">\n",
       "      <th></th>\n",
       "      <th>Job</th>\n",
       "      <th>Housing</th>\n",
       "      <th>Saving accounts</th>\n",
       "      <th>Checking account</th>\n",
       "      <th>Credit amount</th>\n",
       "      <th>Duration</th>\n",
       "      <th>Purpose</th>\n",
       "      <th>Gender</th>\n",
       "      <th>Purchase_date</th>\n",
       "      <th>Birth_date</th>\n",
       "      <th>Device</th>\n",
       "      <th>Risk_label</th>\n",
       "      <th>Age</th>\n",
       "      <th>Purchase_weekday</th>\n",
       "    </tr>\n",
       "  </thead>\n",
       "  <tbody>\n",
       "    <tr>\n",
       "      <th>131</th>\n",
       "      <td>2</td>\n",
       "      <td>own</td>\n",
       "      <td>little</td>\n",
       "      <td>little</td>\n",
       "      <td>6887</td>\n",
       "      <td>36</td>\n",
       "      <td>education</td>\n",
       "      <td>male</td>\n",
       "      <td>2020-03-12</td>\n",
       "      <td>1991-03-12</td>\n",
       "      <td>Samsung Fantastic</td>\n",
       "      <td>1</td>\n",
       "      <td>29</td>\n",
       "      <td>Thursday</td>\n",
       "    </tr>\n",
       "    <tr>\n",
       "      <th>203</th>\n",
       "      <td>2</td>\n",
       "      <td>rent</td>\n",
       "      <td>little</td>\n",
       "      <td>little</td>\n",
       "      <td>902</td>\n",
       "      <td>12</td>\n",
       "      <td>education</td>\n",
       "      <td>male</td>\n",
       "      <td>2020-02-24</td>\n",
       "      <td>1999-02-24</td>\n",
       "      <td>Ericsson Very Old</td>\n",
       "      <td>1</td>\n",
       "      <td>20</td>\n",
       "      <td>Monday</td>\n",
       "    </tr>\n",
       "    <tr>\n",
       "      <th>50</th>\n",
       "      <td>1</td>\n",
       "      <td>own</td>\n",
       "      <td>Missing</td>\n",
       "      <td>moderate</td>\n",
       "      <td>2333</td>\n",
       "      <td>24</td>\n",
       "      <td>furniture/equipment</td>\n",
       "      <td>male</td>\n",
       "      <td>2020-04-26</td>\n",
       "      <td>1991-04-26</td>\n",
       "      <td>Nokia Old</td>\n",
       "      <td>0</td>\n",
       "      <td>29</td>\n",
       "      <td>Sunday</td>\n",
       "    </tr>\n",
       "    <tr>\n",
       "      <th>585</th>\n",
       "      <td>2</td>\n",
       "      <td>rent</td>\n",
       "      <td>little</td>\n",
       "      <td>little</td>\n",
       "      <td>2039</td>\n",
       "      <td>18</td>\n",
       "      <td>furniture/equipment</td>\n",
       "      <td>female</td>\n",
       "      <td>2020-02-02</td>\n",
       "      <td>2000-02-02</td>\n",
       "      <td>Huawei Awesome</td>\n",
       "      <td>1</td>\n",
       "      <td>20</td>\n",
       "      <td>Sunday</td>\n",
       "    </tr>\n",
       "    <tr>\n",
       "      <th>138</th>\n",
       "      <td>2</td>\n",
       "      <td>own</td>\n",
       "      <td>Missing</td>\n",
       "      <td>moderate</td>\n",
       "      <td>2728</td>\n",
       "      <td>15</td>\n",
       "      <td>radio/TV</td>\n",
       "      <td>male</td>\n",
       "      <td>2020-01-16</td>\n",
       "      <td>1985-01-16</td>\n",
       "      <td>iPhone 9</td>\n",
       "      <td>0</td>\n",
       "      <td>34</td>\n",
       "      <td>Thursday</td>\n",
       "    </tr>\n",
       "  </tbody>\n",
       "</table>\n",
       "</div>"
      ],
      "text/plain": [
       "    Job Housing Saving accounts Checking account  Credit amount  Duration  \\\n",
       "131   2     own          little           little           6887        36   \n",
       "203   2    rent          little           little            902        12   \n",
       "50    1     own         Missing         moderate           2333        24   \n",
       "585   2    rent          little           little           2039        18   \n",
       "138   2     own         Missing         moderate           2728        15   \n",
       "\n",
       "                 Purpose  Gender Purchase_date Birth_date             Device  \\\n",
       "131            education    male    2020-03-12 1991-03-12  Samsung Fantastic   \n",
       "203            education    male    2020-02-24 1999-02-24  Ericsson Very Old   \n",
       "50   furniture/equipment    male    2020-04-26 1991-04-26          Nokia Old   \n",
       "585  furniture/equipment  female    2020-02-02 2000-02-02     Huawei Awesome   \n",
       "138             radio/TV    male    2020-01-16 1985-01-16           iPhone 9   \n",
       "\n",
       "     Risk_label  Age Purchase_weekday  \n",
       "131           1   29         Thursday  \n",
       "203           1   20           Monday  \n",
       "50            0   29           Sunday  \n",
       "585           1   20           Sunday  \n",
       "138           0   34         Thursday  "
      ]
     },
     "execution_count": 18,
     "metadata": {},
     "output_type": "execute_result"
    }
   ],
   "source": [
    "def find_day_of_week(date_string):\n",
    "    recognized_date = pd.to_datetime(date_string, infer_datetime_format=True)\n",
    "\n",
    "    return calendar.day_name[recognized_date.weekday()]\n",
    "\n",
    "df['Purchase_weekday'] = df['Purchase_date'].map(lambda x: find_day_of_week(x))\n",
    "df.head()"
   ]
  },
  {
   "cell_type": "markdown",
   "metadata": {},
   "source": [
    "#### Engineer binary \"iPhone\" vs. \"other device\" feature"
   ]
  },
  {
   "cell_type": "code",
   "execution_count": 19,
   "metadata": {},
   "outputs": [
    {
     "data": {
      "text/html": [
       "<div>\n",
       "<style scoped>\n",
       "    .dataframe tbody tr th:only-of-type {\n",
       "        vertical-align: middle;\n",
       "    }\n",
       "\n",
       "    .dataframe tbody tr th {\n",
       "        vertical-align: top;\n",
       "    }\n",
       "\n",
       "    .dataframe thead th {\n",
       "        text-align: right;\n",
       "    }\n",
       "</style>\n",
       "<table border=\"1\" class=\"dataframe\">\n",
       "  <thead>\n",
       "    <tr style=\"text-align: right;\">\n",
       "      <th></th>\n",
       "      <th>Job</th>\n",
       "      <th>Housing</th>\n",
       "      <th>Saving accounts</th>\n",
       "      <th>Checking account</th>\n",
       "      <th>Credit amount</th>\n",
       "      <th>Duration</th>\n",
       "      <th>Purpose</th>\n",
       "      <th>Gender</th>\n",
       "      <th>Purchase_date</th>\n",
       "      <th>Birth_date</th>\n",
       "      <th>Device</th>\n",
       "      <th>Risk_label</th>\n",
       "      <th>Age</th>\n",
       "      <th>Purchase_weekday</th>\n",
       "    </tr>\n",
       "  </thead>\n",
       "  <tbody>\n",
       "    <tr>\n",
       "      <th>131</th>\n",
       "      <td>2</td>\n",
       "      <td>own</td>\n",
       "      <td>little</td>\n",
       "      <td>little</td>\n",
       "      <td>6887</td>\n",
       "      <td>36</td>\n",
       "      <td>education</td>\n",
       "      <td>male</td>\n",
       "      <td>2020-03-12</td>\n",
       "      <td>1991-03-12</td>\n",
       "      <td>Other</td>\n",
       "      <td>1</td>\n",
       "      <td>29</td>\n",
       "      <td>Thursday</td>\n",
       "    </tr>\n",
       "    <tr>\n",
       "      <th>203</th>\n",
       "      <td>2</td>\n",
       "      <td>rent</td>\n",
       "      <td>little</td>\n",
       "      <td>little</td>\n",
       "      <td>902</td>\n",
       "      <td>12</td>\n",
       "      <td>education</td>\n",
       "      <td>male</td>\n",
       "      <td>2020-02-24</td>\n",
       "      <td>1999-02-24</td>\n",
       "      <td>Other</td>\n",
       "      <td>1</td>\n",
       "      <td>20</td>\n",
       "      <td>Monday</td>\n",
       "    </tr>\n",
       "    <tr>\n",
       "      <th>50</th>\n",
       "      <td>1</td>\n",
       "      <td>own</td>\n",
       "      <td>Missing</td>\n",
       "      <td>moderate</td>\n",
       "      <td>2333</td>\n",
       "      <td>24</td>\n",
       "      <td>furniture/equipment</td>\n",
       "      <td>male</td>\n",
       "      <td>2020-04-26</td>\n",
       "      <td>1991-04-26</td>\n",
       "      <td>Other</td>\n",
       "      <td>0</td>\n",
       "      <td>29</td>\n",
       "      <td>Sunday</td>\n",
       "    </tr>\n",
       "    <tr>\n",
       "      <th>585</th>\n",
       "      <td>2</td>\n",
       "      <td>rent</td>\n",
       "      <td>little</td>\n",
       "      <td>little</td>\n",
       "      <td>2039</td>\n",
       "      <td>18</td>\n",
       "      <td>furniture/equipment</td>\n",
       "      <td>female</td>\n",
       "      <td>2020-02-02</td>\n",
       "      <td>2000-02-02</td>\n",
       "      <td>Other</td>\n",
       "      <td>1</td>\n",
       "      <td>20</td>\n",
       "      <td>Sunday</td>\n",
       "    </tr>\n",
       "    <tr>\n",
       "      <th>138</th>\n",
       "      <td>2</td>\n",
       "      <td>own</td>\n",
       "      <td>Missing</td>\n",
       "      <td>moderate</td>\n",
       "      <td>2728</td>\n",
       "      <td>15</td>\n",
       "      <td>radio/TV</td>\n",
       "      <td>male</td>\n",
       "      <td>2020-01-16</td>\n",
       "      <td>1985-01-16</td>\n",
       "      <td>iPhone</td>\n",
       "      <td>0</td>\n",
       "      <td>34</td>\n",
       "      <td>Thursday</td>\n",
       "    </tr>\n",
       "    <tr>\n",
       "      <th>632</th>\n",
       "      <td>2</td>\n",
       "      <td>own</td>\n",
       "      <td>Missing</td>\n",
       "      <td>moderate</td>\n",
       "      <td>1444</td>\n",
       "      <td>15</td>\n",
       "      <td>radio/TV</td>\n",
       "      <td>male</td>\n",
       "      <td>2020-01-27</td>\n",
       "      <td>1997-01-27</td>\n",
       "      <td>Other</td>\n",
       "      <td>0</td>\n",
       "      <td>22</td>\n",
       "      <td>Monday</td>\n",
       "    </tr>\n",
       "    <tr>\n",
       "      <th>328</th>\n",
       "      <td>2</td>\n",
       "      <td>own</td>\n",
       "      <td>little</td>\n",
       "      <td>rich</td>\n",
       "      <td>4473</td>\n",
       "      <td>36</td>\n",
       "      <td>radio/TV</td>\n",
       "      <td>male</td>\n",
       "      <td>2020-01-18</td>\n",
       "      <td>1989-01-18</td>\n",
       "      <td>Other</td>\n",
       "      <td>0</td>\n",
       "      <td>30</td>\n",
       "      <td>Saturday</td>\n",
       "    </tr>\n",
       "    <tr>\n",
       "      <th>461</th>\n",
       "      <td>2</td>\n",
       "      <td>own</td>\n",
       "      <td>little</td>\n",
       "      <td>little</td>\n",
       "      <td>1721</td>\n",
       "      <td>15</td>\n",
       "      <td>car</td>\n",
       "      <td>male</td>\n",
       "      <td>2020-02-02</td>\n",
       "      <td>1984-02-02</td>\n",
       "      <td>Other</td>\n",
       "      <td>0</td>\n",
       "      <td>36</td>\n",
       "      <td>Sunday</td>\n",
       "    </tr>\n",
       "    <tr>\n",
       "      <th>924</th>\n",
       "      <td>2</td>\n",
       "      <td>own</td>\n",
       "      <td>little</td>\n",
       "      <td>little</td>\n",
       "      <td>6872</td>\n",
       "      <td>24</td>\n",
       "      <td>furniture/equipment</td>\n",
       "      <td>male</td>\n",
       "      <td>2020-01-13</td>\n",
       "      <td>1965-01-13</td>\n",
       "      <td>Other</td>\n",
       "      <td>1</td>\n",
       "      <td>54</td>\n",
       "      <td>Monday</td>\n",
       "    </tr>\n",
       "    <tr>\n",
       "      <th>479</th>\n",
       "      <td>2</td>\n",
       "      <td>own</td>\n",
       "      <td>little</td>\n",
       "      <td>little</td>\n",
       "      <td>1478</td>\n",
       "      <td>15</td>\n",
       "      <td>furniture/equipment</td>\n",
       "      <td>male</td>\n",
       "      <td>2020-03-18</td>\n",
       "      <td>1976-03-18</td>\n",
       "      <td>iPhone</td>\n",
       "      <td>0</td>\n",
       "      <td>44</td>\n",
       "      <td>Wednesday</td>\n",
       "    </tr>\n",
       "  </tbody>\n",
       "</table>\n",
       "</div>"
      ],
      "text/plain": [
       "    Job Housing Saving accounts Checking account  Credit amount  Duration  \\\n",
       "131   2     own          little           little           6887        36   \n",
       "203   2    rent          little           little            902        12   \n",
       "50    1     own         Missing         moderate           2333        24   \n",
       "585   2    rent          little           little           2039        18   \n",
       "138   2     own         Missing         moderate           2728        15   \n",
       "632   2     own         Missing         moderate           1444        15   \n",
       "328   2     own          little             rich           4473        36   \n",
       "461   2     own          little           little           1721        15   \n",
       "924   2     own          little           little           6872        24   \n",
       "479   2     own          little           little           1478        15   \n",
       "\n",
       "                 Purpose  Gender Purchase_date Birth_date  Device  Risk_label  \\\n",
       "131            education    male    2020-03-12 1991-03-12   Other           1   \n",
       "203            education    male    2020-02-24 1999-02-24   Other           1   \n",
       "50   furniture/equipment    male    2020-04-26 1991-04-26   Other           0   \n",
       "585  furniture/equipment  female    2020-02-02 2000-02-02   Other           1   \n",
       "138             radio/TV    male    2020-01-16 1985-01-16  iPhone           0   \n",
       "632             radio/TV    male    2020-01-27 1997-01-27   Other           0   \n",
       "328             radio/TV    male    2020-01-18 1989-01-18   Other           0   \n",
       "461                  car    male    2020-02-02 1984-02-02   Other           0   \n",
       "924  furniture/equipment    male    2020-01-13 1965-01-13   Other           1   \n",
       "479  furniture/equipment    male    2020-03-18 1976-03-18  iPhone           0   \n",
       "\n",
       "     Age Purchase_weekday  \n",
       "131   29         Thursday  \n",
       "203   20           Monday  \n",
       "50    29           Sunday  \n",
       "585   20           Sunday  \n",
       "138   34         Thursday  \n",
       "632   22           Monday  \n",
       "328   30         Saturday  \n",
       "461   36           Sunday  \n",
       "924   54           Monday  \n",
       "479   44        Wednesday  "
      ]
     },
     "execution_count": 19,
     "metadata": {},
     "output_type": "execute_result"
    }
   ],
   "source": [
    "def identify_device(string):\n",
    "    if 'iphone' in string.lower():\n",
    "        return 'iPhone'\n",
    "    else:\n",
    "        return 'Other'\n",
    "\n",
    "df['Device'] = df['Device'].map(lambda x: identify_device(str(x)))\n",
    "df.head(10)"
   ]
  },
  {
   "cell_type": "markdown",
   "metadata": {},
   "source": [
    "## MODEL TRAINING & EVALUATION"
   ]
  },
  {
   "cell_type": "code",
   "execution_count": 20,
   "metadata": {},
   "outputs": [
    {
     "name": "stdout",
     "output_type": "stream",
     "text": [
      "Drop purchase date and birth date columns.\n"
     ]
    },
    {
     "data": {
      "text/html": [
       "<div>\n",
       "<style scoped>\n",
       "    .dataframe tbody tr th:only-of-type {\n",
       "        vertical-align: middle;\n",
       "    }\n",
       "\n",
       "    .dataframe tbody tr th {\n",
       "        vertical-align: top;\n",
       "    }\n",
       "\n",
       "    .dataframe thead th {\n",
       "        text-align: right;\n",
       "    }\n",
       "</style>\n",
       "<table border=\"1\" class=\"dataframe\">\n",
       "  <thead>\n",
       "    <tr style=\"text-align: right;\">\n",
       "      <th></th>\n",
       "      <th>Job</th>\n",
       "      <th>Housing</th>\n",
       "      <th>Saving accounts</th>\n",
       "      <th>Checking account</th>\n",
       "      <th>Credit amount</th>\n",
       "      <th>Duration</th>\n",
       "      <th>Purpose</th>\n",
       "      <th>Gender</th>\n",
       "      <th>Device</th>\n",
       "      <th>Risk_label</th>\n",
       "      <th>Age</th>\n",
       "      <th>Purchase_weekday</th>\n",
       "    </tr>\n",
       "  </thead>\n",
       "  <tbody>\n",
       "    <tr>\n",
       "      <th>131</th>\n",
       "      <td>2</td>\n",
       "      <td>own</td>\n",
       "      <td>little</td>\n",
       "      <td>little</td>\n",
       "      <td>6887</td>\n",
       "      <td>36</td>\n",
       "      <td>education</td>\n",
       "      <td>male</td>\n",
       "      <td>Other</td>\n",
       "      <td>1</td>\n",
       "      <td>29</td>\n",
       "      <td>Thursday</td>\n",
       "    </tr>\n",
       "    <tr>\n",
       "      <th>203</th>\n",
       "      <td>2</td>\n",
       "      <td>rent</td>\n",
       "      <td>little</td>\n",
       "      <td>little</td>\n",
       "      <td>902</td>\n",
       "      <td>12</td>\n",
       "      <td>education</td>\n",
       "      <td>male</td>\n",
       "      <td>Other</td>\n",
       "      <td>1</td>\n",
       "      <td>20</td>\n",
       "      <td>Monday</td>\n",
       "    </tr>\n",
       "    <tr>\n",
       "      <th>50</th>\n",
       "      <td>1</td>\n",
       "      <td>own</td>\n",
       "      <td>Missing</td>\n",
       "      <td>moderate</td>\n",
       "      <td>2333</td>\n",
       "      <td>24</td>\n",
       "      <td>furniture/equipment</td>\n",
       "      <td>male</td>\n",
       "      <td>Other</td>\n",
       "      <td>0</td>\n",
       "      <td>29</td>\n",
       "      <td>Sunday</td>\n",
       "    </tr>\n",
       "    <tr>\n",
       "      <th>585</th>\n",
       "      <td>2</td>\n",
       "      <td>rent</td>\n",
       "      <td>little</td>\n",
       "      <td>little</td>\n",
       "      <td>2039</td>\n",
       "      <td>18</td>\n",
       "      <td>furniture/equipment</td>\n",
       "      <td>female</td>\n",
       "      <td>Other</td>\n",
       "      <td>1</td>\n",
       "      <td>20</td>\n",
       "      <td>Sunday</td>\n",
       "    </tr>\n",
       "    <tr>\n",
       "      <th>138</th>\n",
       "      <td>2</td>\n",
       "      <td>own</td>\n",
       "      <td>Missing</td>\n",
       "      <td>moderate</td>\n",
       "      <td>2728</td>\n",
       "      <td>15</td>\n",
       "      <td>radio/TV</td>\n",
       "      <td>male</td>\n",
       "      <td>iPhone</td>\n",
       "      <td>0</td>\n",
       "      <td>34</td>\n",
       "      <td>Thursday</td>\n",
       "    </tr>\n",
       "  </tbody>\n",
       "</table>\n",
       "</div>"
      ],
      "text/plain": [
       "    Job Housing Saving accounts Checking account  Credit amount  Duration  \\\n",
       "131   2     own          little           little           6887        36   \n",
       "203   2    rent          little           little            902        12   \n",
       "50    1     own         Missing         moderate           2333        24   \n",
       "585   2    rent          little           little           2039        18   \n",
       "138   2     own         Missing         moderate           2728        15   \n",
       "\n",
       "                 Purpose  Gender  Device  Risk_label  Age Purchase_weekday  \n",
       "131            education    male   Other           1   29         Thursday  \n",
       "203            education    male   Other           1   20           Monday  \n",
       "50   furniture/equipment    male   Other           0   29           Sunday  \n",
       "585  furniture/equipment  female   Other           1   20           Sunday  \n",
       "138             radio/TV    male  iPhone           0   34         Thursday  "
      ]
     },
     "execution_count": 20,
     "metadata": {},
     "output_type": "execute_result"
    }
   ],
   "source": [
    "print('Drop purchase date and birth date columns.')\n",
    "df.drop(['Purchase_date', 'Birth_date'], axis=1, inplace=True)\n",
    "df.head()"
   ]
  },
  {
   "cell_type": "markdown",
   "metadata": {},
   "source": [
    "#### Split the dataset into train and test sets"
   ]
  },
  {
   "cell_type": "code",
   "execution_count": 21,
   "metadata": {},
   "outputs": [
    {
     "name": "stdout",
     "output_type": "stream",
     "text": [
      "Split the dataset.\n"
     ]
    }
   ],
   "source": [
    "print('Split the dataset.')\n",
    "# Create separate object for target variable\n",
    "y = df['Risk_label']\n",
    "# Create separate object for input features\n",
    "X = df.drop('Risk_label', axis=1)\n",
    "\n",
    "# Split X and y into train and test sets\n",
    "X_train, X_test, y_train, y_test = train_test_split(X, y, test_size=0.25, random_state=123)"
   ]
  },
  {
   "cell_type": "markdown",
   "metadata": {},
   "source": [
    "#### One-hot encode with DictVectorizer"
   ]
  },
  {
   "cell_type": "code",
   "execution_count": 22,
   "metadata": {},
   "outputs": [
    {
     "data": {
      "text/html": [
       "<div>\n",
       "<style scoped>\n",
       "    .dataframe tbody tr th:only-of-type {\n",
       "        vertical-align: middle;\n",
       "    }\n",
       "\n",
       "    .dataframe tbody tr th {\n",
       "        vertical-align: top;\n",
       "    }\n",
       "\n",
       "    .dataframe thead th {\n",
       "        text-align: right;\n",
       "    }\n",
       "</style>\n",
       "<table border=\"1\" class=\"dataframe\">\n",
       "  <thead>\n",
       "    <tr style=\"text-align: right;\">\n",
       "      <th></th>\n",
       "      <th>Job</th>\n",
       "      <th>Housing</th>\n",
       "      <th>Saving accounts</th>\n",
       "      <th>Checking account</th>\n",
       "      <th>Credit amount</th>\n",
       "      <th>Duration</th>\n",
       "      <th>Purpose</th>\n",
       "      <th>Gender</th>\n",
       "      <th>Device</th>\n",
       "      <th>Age</th>\n",
       "      <th>Purchase_weekday</th>\n",
       "    </tr>\n",
       "  </thead>\n",
       "  <tbody>\n",
       "    <tr>\n",
       "      <th>67</th>\n",
       "      <td>2</td>\n",
       "      <td>own</td>\n",
       "      <td>rich</td>\n",
       "      <td>moderate</td>\n",
       "      <td>1007</td>\n",
       "      <td>12</td>\n",
       "      <td>car</td>\n",
       "      <td>male</td>\n",
       "      <td>iPhone</td>\n",
       "      <td>21</td>\n",
       "      <td>Friday</td>\n",
       "    </tr>\n",
       "    <tr>\n",
       "      <th>899</th>\n",
       "      <td>2</td>\n",
       "      <td>own</td>\n",
       "      <td>little</td>\n",
       "      <td>little</td>\n",
       "      <td>4153</td>\n",
       "      <td>18</td>\n",
       "      <td>furniture/equipment</td>\n",
       "      <td>male</td>\n",
       "      <td>iPhone</td>\n",
       "      <td>42</td>\n",
       "      <td>Saturday</td>\n",
       "    </tr>\n",
       "    <tr>\n",
       "      <th>752</th>\n",
       "      <td>1</td>\n",
       "      <td>rent</td>\n",
       "      <td>moderate</td>\n",
       "      <td>moderate</td>\n",
       "      <td>841</td>\n",
       "      <td>12</td>\n",
       "      <td>business</td>\n",
       "      <td>female</td>\n",
       "      <td>Other</td>\n",
       "      <td>22</td>\n",
       "      <td>Thursday</td>\n",
       "    </tr>\n",
       "    <tr>\n",
       "      <th>26</th>\n",
       "      <td>1</td>\n",
       "      <td>own</td>\n",
       "      <td>little</td>\n",
       "      <td>Missing</td>\n",
       "      <td>426</td>\n",
       "      <td>6</td>\n",
       "      <td>radio/TV</td>\n",
       "      <td>male</td>\n",
       "      <td>Other</td>\n",
       "      <td>39</td>\n",
       "      <td>Sunday</td>\n",
       "    </tr>\n",
       "    <tr>\n",
       "      <th>159</th>\n",
       "      <td>1</td>\n",
       "      <td>own</td>\n",
       "      <td>Missing</td>\n",
       "      <td>Missing</td>\n",
       "      <td>1898</td>\n",
       "      <td>6</td>\n",
       "      <td>radio/TV</td>\n",
       "      <td>male</td>\n",
       "      <td>Other</td>\n",
       "      <td>33</td>\n",
       "      <td>Sunday</td>\n",
       "    </tr>\n",
       "  </tbody>\n",
       "</table>\n",
       "</div>"
      ],
      "text/plain": [
       "    Job Housing Saving accounts Checking account  Credit amount  Duration  \\\n",
       "67    2     own            rich         moderate           1007        12   \n",
       "899   2     own          little           little           4153        18   \n",
       "752   1    rent        moderate         moderate            841        12   \n",
       "26    1     own          little          Missing            426         6   \n",
       "159   1     own         Missing          Missing           1898         6   \n",
       "\n",
       "                 Purpose  Gender  Device  Age Purchase_weekday  \n",
       "67                   car    male  iPhone   21           Friday  \n",
       "899  furniture/equipment    male  iPhone   42         Saturday  \n",
       "752             business  female   Other   22         Thursday  \n",
       "26              radio/TV    male   Other   39           Sunday  \n",
       "159             radio/TV    male   Other   33           Sunday  "
      ]
     },
     "metadata": {},
     "output_type": "display_data"
    },
    {
     "data": {
      "text/plain": [
       "array([[21.,  0.,  0., ...,  0.,  0.,  1.],\n",
       "       [42.,  0.,  1., ...,  0.,  0.,  0.],\n",
       "       [22.,  0.,  0., ...,  1.,  0.,  0.],\n",
       "       ...,\n",
       "       [24.,  0.,  0., ...,  0.,  0.,  1.],\n",
       "       [33.,  0.,  0., ...,  0.,  0.,  0.],\n",
       "       [74.,  0.,  0., ...,  0.,  0.,  0.]])"
      ]
     },
     "metadata": {},
     "output_type": "display_data"
    },
    {
     "data": {
      "text/plain": [
       "(750, 38)"
      ]
     },
     "metadata": {},
     "output_type": "display_data"
    }
   ],
   "source": [
    "## Convert feature df to a dict\n",
    "X_train_ohe = X_train.to_dict(orient='records')\n",
    "X_test_ohe = X_test.to_dict(orient='records')\n",
    "\n",
    "# Instantiate DictVectorizer\n",
    "dict_vec = DictVectorizer(sparse=False)\n",
    "\n",
    "# apply dv_X on X_dict\n",
    "X_train_ohe = dict_vec.fit_transform(X_train_ohe)\n",
    "X_test_ohe = dict_vec.transform(X_test_ohe)\n",
    "\n",
    "display(X_train.head())\n",
    "display(X_train_ohe)\n",
    "display(X_train_ohe.shape)\n",
    "#display(dict_vec.vocabulary_)"
   ]
  },
  {
   "cell_type": "markdown",
   "metadata": {},
   "source": [
    "#### Add imputation of missing values and feature scaling"
   ]
  },
  {
   "cell_type": "code",
   "execution_count": 23,
   "metadata": {},
   "outputs": [],
   "source": [
    "my_imputer = SimpleImputer(missing_values=np.nan, strategy='most_frequent')\n",
    "my_scaler = StandardScaler(with_mean=False)\n",
    "\n",
    "X_train_ohe = my_imputer.fit_transform(X_train_ohe)\n",
    "X_train_ohe = my_scaler.fit_transform(X_train_ohe)\n",
    "\n",
    "X_test_ohe = my_imputer.transform(X_test_ohe)\n",
    "X_test_ohe = my_scaler.transform(X_test_ohe)"
   ]
  },
  {
   "cell_type": "markdown",
   "metadata": {},
   "source": [
    "#### Define and fit a classifier"
   ]
  },
  {
   "cell_type": "code",
   "execution_count": 24,
   "metadata": {},
   "outputs": [],
   "source": [
    "# Create random forest classifier object\n",
    "RF_clf = RandomForestClassifier(n_estimators=100)"
   ]
  },
  {
   "cell_type": "code",
   "execution_count": 25,
   "metadata": {},
   "outputs": [
    {
     "data": {
      "text/plain": [
       "RandomForestClassifier(bootstrap=True, class_weight=None, criterion='gini',\n",
       "            max_depth=None, max_features='auto', max_leaf_nodes=None,\n",
       "            min_impurity_decrease=0.0, min_impurity_split=None,\n",
       "            min_samples_leaf=1, min_samples_split=2,\n",
       "            min_weight_fraction_leaf=0.0, n_estimators=100, n_jobs=None,\n",
       "            oob_score=False, random_state=None, verbose=0,\n",
       "            warm_start=False)"
      ]
     },
     "execution_count": 25,
     "metadata": {},
     "output_type": "execute_result"
    }
   ],
   "source": [
    "RF_clf.fit(X_train_ohe, y_train)"
   ]
  },
  {
   "cell_type": "markdown",
   "metadata": {},
   "source": [
    "#### Evaluate the fitted classifier"
   ]
  },
  {
   "cell_type": "code",
   "execution_count": 26,
   "metadata": {},
   "outputs": [
    {
     "name": "stdout",
     "output_type": "stream",
     "text": [
      "area_under_curve: 0.708\n",
      "accuracy: 0.736\n",
      "log_loss: 0.546\n",
      "precision: 0.538\n",
      "recall: 0.400\n",
      "specificity: 0.867\n",
      "f1_score: 0.459\n",
      "\n",
      "confusion_matrix:\n",
      "[[156, 24], [42, 28]]\n",
      "\n",
      "roc_curve:\n"
     ]
    },
    {
     "data": {
      "image/png": "[encoded data removed]",
      "text/plain": [
       "<Figure size 432x288 with 1 Axes>"
      ]
     },
     "metadata": {
      "needs_background": "light"
     },
     "output_type": "display_data"
    },
    {
     "name": "stdout",
     "output_type": "stream",
     "text": [
      "\n"
     ]
    },
    {
     "data": {
      "text/plain": [
       "<Figure size 432x288 with 0 Axes>"
      ]
     },
     "metadata": {},
     "output_type": "display_data"
    }
   ],
   "source": [
    "validate(RF_clf, X_test_ohe, y_test)"
   ]
  },
  {
   "cell_type": "markdown",
   "metadata": {},
   "source": [
    "#### --> Normally you would evaluate multiple feature engineering approaches, classifiers and hyperparameter settings with K-fold cross-validation / GridSearchCV / automl. We keep it simple for the sake of brevity here."
   ]
  },
  {
   "cell_type": "markdown",
   "metadata": {},
   "source": [
    "# ------------------------------------------------------------------------------------------------------\n",
    "# PART 3\n",
    "## HOW DO I REPRODUCE THESE STEPS IN NEAR-REAL-TIME IN THE PRODUCTION ENVIRONMENT?\n",
    "#### At the time of prediction, the data streamed into our classifier .predict() method will look like this:"
   ]
  },
  {
   "cell_type": "code",
   "execution_count": 29,
   "metadata": {},
   "outputs": [
    {
     "data": {
      "text/html": [
       "<div>\n",
       "<style scoped>\n",
       "    .dataframe tbody tr th:only-of-type {\n",
       "        vertical-align: middle;\n",
       "    }\n",
       "\n",
       "    .dataframe tbody tr th {\n",
       "        vertical-align: top;\n",
       "    }\n",
       "\n",
       "    .dataframe thead th {\n",
       "        text-align: right;\n",
       "    }\n",
       "</style>\n",
       "<table border=\"1\" class=\"dataframe\">\n",
       "  <thead>\n",
       "    <tr style=\"text-align: right;\">\n",
       "      <th></th>\n",
       "      <th>Job</th>\n",
       "      <th>Housing</th>\n",
       "      <th>Saving accounts</th>\n",
       "      <th>Checking account</th>\n",
       "      <th>Credit amount</th>\n",
       "      <th>Duration</th>\n",
       "      <th>Purpose</th>\n",
       "      <th>Gender</th>\n",
       "      <th>Purchase_date</th>\n",
       "      <th>Birth_date</th>\n",
       "      <th>Device</th>\n",
       "    </tr>\n",
       "  </thead>\n",
       "  <tbody>\n",
       "    <tr>\n",
       "      <th>131</th>\n",
       "      <td>2</td>\n",
       "      <td>own</td>\n",
       "      <td>little</td>\n",
       "      <td>little</td>\n",
       "      <td>6887</td>\n",
       "      <td>36</td>\n",
       "      <td>education</td>\n",
       "      <td>male</td>\n",
       "      <td>2020-03-12</td>\n",
       "      <td>1991-03-12</td>\n",
       "      <td>Samsung Fantastic</td>\n",
       "    </tr>\n",
       "    <tr>\n",
       "      <th>203</th>\n",
       "      <td>2</td>\n",
       "      <td>rent</td>\n",
       "      <td>little</td>\n",
       "      <td>little</td>\n",
       "      <td>902</td>\n",
       "      <td>12</td>\n",
       "      <td>education</td>\n",
       "      <td>male</td>\n",
       "      <td>2020-02-24</td>\n",
       "      <td>1999-02-24</td>\n",
       "      <td>Ericsson Very Old</td>\n",
       "    </tr>\n",
       "    <tr>\n",
       "      <th>50</th>\n",
       "      <td>1</td>\n",
       "      <td>own</td>\n",
       "      <td>NaN</td>\n",
       "      <td>moderate</td>\n",
       "      <td>2333</td>\n",
       "      <td>24</td>\n",
       "      <td>furniture/equipment</td>\n",
       "      <td>male</td>\n",
       "      <td>2020-04-26</td>\n",
       "      <td>1991-04-26</td>\n",
       "      <td>Nokia Old</td>\n",
       "    </tr>\n",
       "    <tr>\n",
       "      <th>585</th>\n",
       "      <td>2</td>\n",
       "      <td>rent</td>\n",
       "      <td>little</td>\n",
       "      <td>little</td>\n",
       "      <td>2039</td>\n",
       "      <td>18</td>\n",
       "      <td>furniture/equipment</td>\n",
       "      <td>female</td>\n",
       "      <td>2020-02-02</td>\n",
       "      <td>2000-02-02</td>\n",
       "      <td>Huawei Awesome</td>\n",
       "    </tr>\n",
       "    <tr>\n",
       "      <th>138</th>\n",
       "      <td>2</td>\n",
       "      <td>own</td>\n",
       "      <td>NaN</td>\n",
       "      <td>moderate</td>\n",
       "      <td>2728</td>\n",
       "      <td>15</td>\n",
       "      <td>radio/TV</td>\n",
       "      <td>male</td>\n",
       "      <td>2020-01-16</td>\n",
       "      <td>1985-01-16</td>\n",
       "      <td>iPhone 9</td>\n",
       "    </tr>\n",
       "  </tbody>\n",
       "</table>\n",
       "</div>"
      ],
      "text/plain": [
       "     Job Housing Saving accounts Checking account  Credit amount  Duration  \\\n",
       "131    2     own          little           little           6887        36   \n",
       "203    2    rent          little           little            902        12   \n",
       "50     1     own             NaN         moderate           2333        24   \n",
       "585    2    rent          little           little           2039        18   \n",
       "138    2     own             NaN         moderate           2728        15   \n",
       "\n",
       "                 Purpose  Gender Purchase_date Birth_date             Device  \n",
       "131            education    male    2020-03-12 1991-03-12  Samsung Fantastic  \n",
       "203            education    male    2020-02-24 1999-02-24  Ericsson Very Old  \n",
       "50   furniture/equipment    male    2020-04-26 1991-04-26          Nokia Old  \n",
       "585  furniture/equipment  female    2020-02-02 2000-02-02     Huawei Awesome  \n",
       "138             radio/TV    male    2020-01-16 1985-01-16           iPhone 9  "
      ]
     },
     "metadata": {},
     "output_type": "display_data"
    }
   ],
   "source": [
    "display(df_original.iloc[:,:-1].head(5))"
   ]
  },
  {
   "cell_type": "markdown",
   "metadata": {},
   "source": [
    "#### ...missing values, purchase date instead of day of the week, birth date instead of age, full device model name, not one-hot encoded, etc."
   ]
  },
  {
   "cell_type": "code",
   "execution_count": 30,
   "metadata": {},
   "outputs": [
    {
     "name": "stdout",
     "output_type": "stream",
     "text": [
      "Model training completed on  2020-May-22_16-52-21 .\n",
      "Creating dedicated output directory...\n",
      "Directory  ../output/2020-May-22_16-52-21/ successfully created.\n"
     ]
    }
   ],
   "source": [
    "# Utility step: create a dedicated output directory\n",
    "model_training_timestamp = '{:%Y-%b-%d_%H-%M-%S}'.format(datetime.datetime.now())\n",
    "print('Model training completed on ', model_training_timestamp,'.')\n",
    "print('Creating dedicated output directory...')\n",
    "dirName = '../output/%s/' % (model_training_timestamp)\n",
    " \n",
    "try:\n",
    "    # Create target directory\n",
    "    os.mkdir(dirName)\n",
    "    os.mkdir(dirName+'one_by_one')\n",
    "    os.mkdir(dirName+'standard_pipeline')\n",
    "    os.mkdir(dirName+'e2e_pipeline')\n",
    "    print(\"Directory \" , dirName ,  \"successfully created.\")\n",
    "except FileExistsError:\n",
    "    print(\"ERROR: Directory \" , dirName ,  \"already exists!\")"
   ]
  },
  {
   "cell_type": "markdown",
   "metadata": {},
   "source": [
    "## Method 1: Reproduce data cleaning, feature engineering, feature preprocessing one by one in the production code\n",
    "## (NOT RECOMMENDED)"
   ]
  },
  {
   "cell_type": "code",
   "execution_count": 31,
   "metadata": {},
   "outputs": [
    {
     "name": "stdout",
     "output_type": "stream",
     "text": [
      "Saving all fitted preprecessors...\n",
      "Saved in  ../output/2020-May-22_16-52-21/ .\n"
     ]
    }
   ],
   "source": [
    "# Save all the fitted preprocessors to a directory\n",
    "print('Saving all fitted preprecessors...')\n",
    "joblib.dump(dict_vec, dirName+'one_by_one/dict_vec.pkl')\n",
    "joblib.dump(my_imputer, dirName+'one_by_one/my_imputer.pkl')\n",
    "joblib.dump(my_scaler, dirName+'one_by_one/my_scaler.pkl')\n",
    "joblib.dump(RF_clf, dirName+'one_by_one/RF_clf.pkl')\n",
    "print('Saved in ', dirName, '.')"
   ]
  },
  {
   "cell_type": "code",
   "execution_count": 33,
   "metadata": {},
   "outputs": [],
   "source": [
    "### Create a code snippet / .py module that does all the preprocessing and prediction in one go - something like the code below.\n",
    "\n",
    "# Read in saved objects from the production \"output\" directory\n",
    "dict_vec_prod = joblib.load(dirName+'one_by_one/dict_vec.pkl')\n",
    "my_imputer_prod = joblib.load(dirName+'one_by_one/my_imputer.pkl')\n",
    "my_scaler_prod = joblib.load(dirName+'one_by_one/my_scaler.pkl')\n",
    "RF_clf_prod = joblib.load(dirName+'one_by_one/RF_clf.pkl')\n",
    "\n",
    "# Define a predict function with all the preprocessing steps\n",
    "def predict(df):\n",
    "    # Filling missing values\n",
    "    for column in df[['Saving accounts', 'Checking account']]:\n",
    "        df[column] = df[column].fillna('Missing')\n",
    "    \n",
    "    # Casting \"Job\" column to string\n",
    "    df['Job'] = df['Job'].astype(str)\n",
    "    print('Done.')\n",
    "    \n",
    "    # Engineering \"Age\" feature\n",
    "    reference_date_column = 'Purchase_date'\n",
    "    birth_date_column = 'Birth_date'\n",
    "    df['Age'] = df.apply(lambda row: create_age_column(row, reference_date_column, birth_date_column), axis=1)\n",
    "    \n",
    "    # Engineering day of week feature \n",
    "    df['Purchase_weekday'] = df['Purchase_date'].map(lambda x: find_day_of_week(x))\n",
    "    \n",
    "    # Engineering binary iPhone-Other device feature\n",
    "    df['Device'] = df['Device'].map(lambda x: identify_device(str(x)))\n",
    "    \n",
    "    # Dropping purchase date and birth date columns\n",
    "    df.drop(['Purchase_date', 'Birth_date'], axis=1, inplace=True)\n",
    "    \n",
    "    # One-hot encoding\n",
    "    df_ohe = df.to_dict(orient='records')\n",
    "    df_ohe = dict_vec_prod.transform(df_ohe)\n",
    "    \n",
    "    # Imputation of missing values and feature scaling\n",
    "    df_ohe = my_imputer_prod.transform(df_ohe)\n",
    "    df_ohe = my_scaler_prod.transform(df_ohe)\n",
    "    \n",
    "    # Making a prediction\n",
    "    pred = RF_clf_prod.predict_proba(df_ohe)\n",
    "\n",
    "    return pred\n",
    "\n",
    "\n",
    "def calculate_age(reference_date, birth_date):\n",
    "    days_in_year = 365.2425\n",
    "    try:\n",
    "        age = int((pd.to_datetime(reference_date, infer_datetime_format=True) - pd.to_datetime(birth_date, infer_datetime_format=True)).days / days_in_year)\n",
    "    except:\n",
    "        age = None\n",
    "\n",
    "    return age\n",
    "\n",
    "\n",
    "def create_age_column(row, reference_date_column, birth_date_column):\n",
    "    return calculate_age(row[reference_date_column], row[birth_date_column])\n",
    "\n",
    "\n",
    "def find_day_of_week(date_string):\n",
    "    recognized_date = pd.to_datetime(date_string, infer_datetime_format=True)\n",
    "\n",
    "    return calendar.day_name[recognized_date.weekday()]\n",
    "\n",
    "\n",
    "def identify_device(string):\n",
    "    if 'iphone' in string.lower():\n",
    "        return 'iPhone'\n",
    "    else:\n",
    "        return 'Other'"
   ]
  },
  {
   "cell_type": "markdown",
   "metadata": {},
   "source": [
    "#### Let's try to make a prediction. Will it work?"
   ]
  },
  {
   "cell_type": "code",
   "execution_count": 34,
   "metadata": {},
   "outputs": [
    {
     "name": "stdout",
     "output_type": "stream",
     "text": [
      "Let's try to make a prediction. Will it work?\n",
      "Done.\n",
      "Predicted probabilities: [[0.06 0.94]]\n",
      "It worked!\n"
     ]
    }
   ],
   "source": [
    "print('Let\\'s try to make a prediction. Will it work?')\n",
    "input_data = df_original.iloc[:,:-1].head(1)\n",
    "print('Predicted probabilities:', predict(input_data))\n",
    "print('It worked!')"
   ]
  },
  {
   "cell_type": "markdown",
   "metadata": {},
   "source": [
    "### It works. However, the above approach is a bad idea. Here's why:\n",
    "### --> We need to maintain the same code in two places - it's easy to make mistakes and lose consistency between the two.\n",
    "### --> We need to explain a lot to developers deploying and maintaining your code\n",
    "### -->The deployment team might modify your code (intentionally or unintentionally)\n",
    "### --> You directly reveal the entire feature engineering and model tuning know-how to anyone who has access to your code\n",
    "\n",
    "--------"
   ]
  },
  {
   "cell_type": "markdown",
   "metadata": {},
   "source": [
    "## Method 2: Use sklearn pipeline to package the standard sklearn preprocessors into a single \"model pipeline\" object\n",
    "## (SLIGHTLY BETTER, BUT STILL NOT GREAT...)"
   ]
  },
  {
   "cell_type": "markdown",
   "metadata": {},
   "source": [
    "According to sklearn documentation (https://scikit-learn.org/stable/modules/compose.html#pipeline-chaining-estimators):\n",
    "\n",
    "**Pipeline** can be used to **chain multiple estimators into one**. This is useful as there is often a fixed sequence of steps in processing the data, for example feature selection, normalization and classification. Pipeline serves multiple purposes here:\n",
    "\n",
    "**Convenience and encapsulation**\n",
    "* You only have to call fit and predict once on your data to fit a whole sequence of estimators.\n",
    "\n",
    "**Joint parameter selection**\n",
    "* You can grid search over parameters of all estimators in the pipeline at once.\n",
    "\n",
    "**Safety**\n",
    "* Pipelines help avoid leaking statistics from your test data into the trained model in cross-validation, by ensuring that the same samples are used to train the transformers and predictors."
   ]
  },
  {
   "cell_type": "markdown",
   "metadata": {},
   "source": [
    "### Sklearn pipeline **works out of the box for preprocessors included in the sklearn library**, such as DictVectorizer(), Imputer() or StandardScaler(), and many others.\n",
    "\n",
    "### Let's give it a try!"
   ]
  },
  {
   "cell_type": "markdown",
   "metadata": {},
   "source": [
    "#### Define pipeline steps"
   ]
  },
  {
   "cell_type": "code",
   "execution_count": 35,
   "metadata": {},
   "outputs": [],
   "source": [
    "# We can chain together the last four steps of our \"predict\" workflow into a single pipeline like this:\n",
    "standard_pipeline = Pipeline([('ohe', DictVectorizer()),\n",
    "                              ('imputation', SimpleImputer(missing_values=np.nan, strategy='most_frequent')),\n",
    "                              ('scaling', StandardScaler(with_mean=False)),\n",
    "                              ('classifier', RF_clf)])"
   ]
  },
  {
   "cell_type": "markdown",
   "metadata": {},
   "source": [
    "#### Fit (train) the pipeline on the training set"
   ]
  },
  {
   "cell_type": "code",
   "execution_count": 36,
   "metadata": {},
   "outputs": [
    {
     "data": {
      "text/plain": [
       "Pipeline(memory=None,\n",
       "     steps=[('ohe', DictVectorizer(dtype=<class 'numpy.float64'>, separator='=', sort=True,\n",
       "        sparse=True)), ('imputation', SimpleImputer(copy=True, fill_value=None, missing_values=nan,\n",
       "       strategy='most_frequent', verbose=0)), ('scaling', StandardScaler(copy=True, with_mean=False, with_std=Tru...obs=None,\n",
       "            oob_score=False, random_state=None, verbose=0,\n",
       "            warm_start=False))])"
      ]
     },
     "execution_count": 36,
     "metadata": {},
     "output_type": "execute_result"
    }
   ],
   "source": [
    "# We can then fit (train) the pipeline on our training data - directly after having done the train/test split:\n",
    "standard_pipeline.fit(X_train.to_dict(orient='records'), y_train)"
   ]
  },
  {
   "cell_type": "markdown",
   "metadata": {},
   "source": [
    "#### Evaluate the pipeline on the test set"
   ]
  },
  {
   "cell_type": "code",
   "execution_count": 37,
   "metadata": {},
   "outputs": [
    {
     "name": "stdout",
     "output_type": "stream",
     "text": [
      "area_under_curve: 0.707\n",
      "accuracy: 0.752\n",
      "log_loss: 0.547\n",
      "precision: 0.577\n",
      "recall: 0.429\n",
      "specificity: 0.878\n",
      "f1_score: 0.492\n",
      "\n",
      "confusion_matrix:\n",
      "[[158, 22], [40, 30]]\n",
      "\n",
      "roc_curve:\n"
     ]
    },
    {
     "data": {
      "image/png": "[encoded data removed]",
      "text/plain": [
       "<Figure size 432x288 with 1 Axes>"
      ]
     },
     "metadata": {
      "needs_background": "light"
     },
     "output_type": "display_data"
    },
    {
     "name": "stdout",
     "output_type": "stream",
     "text": [
      "\n"
     ]
    },
    {
     "data": {
      "text/plain": [
       "<Figure size 432x288 with 0 Axes>"
      ]
     },
     "metadata": {},
     "output_type": "display_data"
    }
   ],
   "source": [
    "validate(standard_pipeline, X_test.to_dict(orient='records'), y_test)"
   ]
  },
  {
   "cell_type": "markdown",
   "metadata": {},
   "source": [
    "#### We now only need to save one object instead of four"
   ]
  },
  {
   "cell_type": "code",
   "execution_count": 38,
   "metadata": {},
   "outputs": [
    {
     "name": "stdout",
     "output_type": "stream",
     "text": [
      "Saving the fitted pipeline...\n",
      "Saved in  ../output/2020-May-22_16-52-21/ .\n"
     ]
    }
   ],
   "source": [
    "# Save the fitted pipeline to a directory\n",
    "print('Saving the fitted pipeline...')\n",
    "joblib.dump(standard_pipeline, dirName+'standard_pipeline/standard_pipeline.pkl')\n",
    "print('Saved in ', dirName, '.')"
   ]
  },
  {
   "cell_type": "markdown",
   "metadata": {},
   "source": [
    "#### We can also shorten our predict() function"
   ]
  },
  {
   "cell_type": "code",
   "execution_count": 45,
   "metadata": {},
   "outputs": [],
   "source": [
    "### Create a code snippet / .py module that does all the preprocessing and prediction in one go - something like the code below.\n",
    "\n",
    "# Read in saved objects from the production \"output\" directory\n",
    "standard_pipeline_prod = joblib.load(dirName+'standard_pipeline/standard_pipeline.pkl')\n",
    "\n",
    "# Define a predict function with all the preprocessing steps\n",
    "def predict_standard_pipeline(df):\n",
    "    # Filling missing values\n",
    "    for column in df[['Saving accounts', 'Checking account']]:\n",
    "        df[column] = df[column].fillna('Missing')\n",
    "    \n",
    "    # Casting \"Job\" column to string\n",
    "    df['Job'] = df['Job'].astype(str)\n",
    "    print('Done.')\n",
    "    \n",
    "    # Engineering \"Age\" feature\n",
    "    reference_date_column = 'Purchase_date'\n",
    "    birth_date_column = 'Birth_date'\n",
    "    df['Age'] = df.apply(lambda row: create_age_column(row, reference_date_column, birth_date_column), axis=1)\n",
    "    \n",
    "    # Engineering day of week feature \n",
    "    df['Purchase_weekday'] = df['Purchase_date'].map(lambda x: find_day_of_week(x))\n",
    "    \n",
    "    # Engineering binary iPhone-Other device feature\n",
    "    df['Device'] = df['Device'].map(lambda x: identify_device(str(x)))\n",
    "    \n",
    "    # Dropping purchase date and birth date columns\n",
    "    df.drop(['Purchase_date', 'Birth_date'], axis=1, inplace=True)\n",
    "    \n",
    "    # One-hot encoding\n",
    "    df_ohe = df.to_dict(orient='records')\n",
    "    #df_ohe = dict_vec_prod.transform(df_ohe)\n",
    "    \n",
    "    # Imputation of missing values and feature scaling\n",
    "    #df_ohe = my_imputer_prod.transform(df_ohe)\n",
    "    #df_ohe = my_scaler_prod.transform(df_ohe)\n",
    "    \n",
    "    # Making a prediction\n",
    "    pred = standard_pipeline_prod.predict_proba(df_ohe)\n",
    "\n",
    "    return pred\n",
    "\n",
    "\n",
    "def calculate_age(reference_date, birth_date):\n",
    "    days_in_year = 365.2425\n",
    "    try:\n",
    "        age = int((pd.to_datetime(reference_date, infer_datetime_format=True) - pd.to_datetime(birth_date, infer_datetime_format=True)).days / days_in_year)\n",
    "    except:\n",
    "        age = None\n",
    "\n",
    "    return age\n",
    "\n",
    "\n",
    "def create_age_column(row, reference_date_column, birth_date_column):\n",
    "    return calculate_age(row[reference_date_column], row[birth_date_column])\n",
    "\n",
    "\n",
    "def find_day_of_week(date_string):\n",
    "    recognized_date = pd.to_datetime(date_string, infer_datetime_format=True)\n",
    "\n",
    "    return calendar.day_name[recognized_date.weekday()]\n",
    "\n",
    "\n",
    "def identify_device(string):\n",
    "    if 'iphone' in string.lower():\n",
    "        return 'iPhone'\n",
    "    else:\n",
    "        return 'Other'"
   ]
  },
  {
   "cell_type": "markdown",
   "metadata": {},
   "source": [
    "#### Does it work?"
   ]
  },
  {
   "cell_type": "code",
   "execution_count": 46,
   "metadata": {},
   "outputs": [
    {
     "name": "stdout",
     "output_type": "stream",
     "text": [
      "Let's try to make a prediction. Will it work?\n",
      "Done.\n",
      "Predicted probabilities: [[0.13 0.87]]\n",
      "It worked!\n"
     ]
    }
   ],
   "source": [
    "print('Let\\'s try to make a prediction. Will it work?')\n",
    "input_data = df_original.iloc[:,:-1].head(1)\n",
    "print('Predicted probabilities:', predict_standard_pipeline(input_data))\n",
    "print('It worked!')"
   ]
  },
  {
   "cell_type": "markdown",
   "metadata": {},
   "source": [
    "### We still have to maintain data cleaning and feature engineering code in two separate places though.\n",
    "### Can we somehow embed our customized data cleaning and feature engineering steps into an sklearn pipeline?\n",
    "### Yes, we can!\n",
    "----------"
   ]
  },
  {
   "cell_type": "markdown",
   "metadata": {},
   "source": [
    "## Method 3: Package data cleaning, feature engineering, preprocessing and final classifier into one single pipeline\n",
    "## (MUCH BETTER!)\n",
    "\n",
    "#### We need to somehow package the following steps into a pipeline object:\n",
    "* Filling missing values in the categorical \"saving accounts\" and \"checking account\" columns\n",
    "* Casting \"Job\" column to string\n",
    "* Engineering \"Age\" feature\n",
    "* Engineering \"Day of week\" feature\n",
    "* Engineering binary iPhone-Other device feature\n",
    "* Dropping purchase date and birth date columns\n",
    "\n",
    "#### --> We need to code up our own custom transfomer classes, which can be instantiated and included as objects in an sklearn pipeline\n",
    "\n",
    "#### In practice, it's less difficult than it sounds. Each of our classes needs the following:\n",
    "#### --> inherit from sklearn base `BaseEstimator` and `TransformerMixin` classes (you don't need to understand how these base classes work in detail)\n",
    "#### --> have its own `fit()` and `transform()` methods\n",
    "\n",
    "Let's give it a try!"
   ]
  },
  {
   "cell_type": "code",
   "execution_count": null,
   "metadata": {},
   "outputs": [],
   "source": [
    "#from src.pipeline_components import MissingValFiller, StringCaster, AgeEncoder, DayOfWeekEncoder, DeviceEncoder\n",
    "#from src.pipeline_components import WhitespaceRemover, OriginalDtypesCaster, DfDict"
   ]
  },
  {
   "cell_type": "code",
   "execution_count": 47,
   "metadata": {},
   "outputs": [],
   "source": [
    "from sklearn.base import BaseEstimator, TransformerMixin\n",
    "\n",
    "# Custom transformer for filling missing values in the categorical \"saving accounts\" and \"checking account\" columns\n",
    "class MissingValFiller(BaseEstimator, TransformerMixin):\n",
    "    def __init__(self):\n",
    "        self.cols_to_fill = None\n",
    "\n",
    "    def fit(self, features_df, labels_df=None, columns_to_fill=None):\n",
    "        if columns_to_fill is None:\n",
    "            self.cols_to_fill = ['Saving accounts', 'Checking account']\n",
    "        else:\n",
    "            self.cols_to_fill = columns_to_fill\n",
    "\n",
    "        return self\n",
    "\n",
    "    def transform(self, features_df):\n",
    "        transformed_df = features_df.copy()\n",
    "        for column in transformed_df[self.cols_to_fill]:\n",
    "            transformed_df[column] = transformed_df[column].fillna('Missing')\n",
    "\n",
    "        return transformed_df"
   ]
  },
  {
   "cell_type": "markdown",
   "metadata": {},
   "source": [
    "#### Let's test it on some input"
   ]
  },
  {
   "cell_type": "code",
   "execution_count": 49,
   "metadata": {},
   "outputs": [
    {
     "name": "stdout",
     "output_type": "stream",
     "text": [
      "Original data:\n"
     ]
    },
    {
     "data": {
      "text/html": [
       "<div>\n",
       "<style scoped>\n",
       "    .dataframe tbody tr th:only-of-type {\n",
       "        vertical-align: middle;\n",
       "    }\n",
       "\n",
       "    .dataframe tbody tr th {\n",
       "        vertical-align: top;\n",
       "    }\n",
       "\n",
       "    .dataframe thead th {\n",
       "        text-align: right;\n",
       "    }\n",
       "</style>\n",
       "<table border=\"1\" class=\"dataframe\">\n",
       "  <thead>\n",
       "    <tr style=\"text-align: right;\">\n",
       "      <th></th>\n",
       "      <th>Job</th>\n",
       "      <th>Housing</th>\n",
       "      <th>Saving accounts</th>\n",
       "      <th>Checking account</th>\n",
       "      <th>Credit amount</th>\n",
       "      <th>Duration</th>\n",
       "      <th>Purpose</th>\n",
       "      <th>Gender</th>\n",
       "      <th>Purchase_date</th>\n",
       "      <th>Birth_date</th>\n",
       "      <th>Device</th>\n",
       "    </tr>\n",
       "  </thead>\n",
       "  <tbody>\n",
       "    <tr>\n",
       "      <th>131</th>\n",
       "      <td>2</td>\n",
       "      <td>own</td>\n",
       "      <td>little</td>\n",
       "      <td>little</td>\n",
       "      <td>6887</td>\n",
       "      <td>36</td>\n",
       "      <td>education</td>\n",
       "      <td>male</td>\n",
       "      <td>2020-03-12</td>\n",
       "      <td>1991-03-12</td>\n",
       "      <td>Samsung Fantastic</td>\n",
       "    </tr>\n",
       "    <tr>\n",
       "      <th>203</th>\n",
       "      <td>2</td>\n",
       "      <td>rent</td>\n",
       "      <td>little</td>\n",
       "      <td>little</td>\n",
       "      <td>902</td>\n",
       "      <td>12</td>\n",
       "      <td>education</td>\n",
       "      <td>male</td>\n",
       "      <td>2020-02-24</td>\n",
       "      <td>1999-02-24</td>\n",
       "      <td>Ericsson Very Old</td>\n",
       "    </tr>\n",
       "    <tr>\n",
       "      <th>50</th>\n",
       "      <td>1</td>\n",
       "      <td>own</td>\n",
       "      <td>NaN</td>\n",
       "      <td>moderate</td>\n",
       "      <td>2333</td>\n",
       "      <td>24</td>\n",
       "      <td>furniture/equipment</td>\n",
       "      <td>male</td>\n",
       "      <td>2020-04-26</td>\n",
       "      <td>1991-04-26</td>\n",
       "      <td>Nokia Old</td>\n",
       "    </tr>\n",
       "    <tr>\n",
       "      <th>585</th>\n",
       "      <td>2</td>\n",
       "      <td>rent</td>\n",
       "      <td>little</td>\n",
       "      <td>little</td>\n",
       "      <td>2039</td>\n",
       "      <td>18</td>\n",
       "      <td>furniture/equipment</td>\n",
       "      <td>female</td>\n",
       "      <td>2020-02-02</td>\n",
       "      <td>2000-02-02</td>\n",
       "      <td>Huawei Awesome</td>\n",
       "    </tr>\n",
       "    <tr>\n",
       "      <th>138</th>\n",
       "      <td>2</td>\n",
       "      <td>own</td>\n",
       "      <td>NaN</td>\n",
       "      <td>moderate</td>\n",
       "      <td>2728</td>\n",
       "      <td>15</td>\n",
       "      <td>radio/TV</td>\n",
       "      <td>male</td>\n",
       "      <td>2020-01-16</td>\n",
       "      <td>1985-01-16</td>\n",
       "      <td>iPhone 9</td>\n",
       "    </tr>\n",
       "  </tbody>\n",
       "</table>\n",
       "</div>"
      ],
      "text/plain": [
       "     Job Housing Saving accounts Checking account  Credit amount  Duration  \\\n",
       "131    2     own          little           little           6887        36   \n",
       "203    2    rent          little           little            902        12   \n",
       "50     1     own             NaN         moderate           2333        24   \n",
       "585    2    rent          little           little           2039        18   \n",
       "138    2     own             NaN         moderate           2728        15   \n",
       "\n",
       "                 Purpose  Gender Purchase_date Birth_date             Device  \n",
       "131            education    male    2020-03-12 1991-03-12  Samsung Fantastic  \n",
       "203            education    male    2020-02-24 1999-02-24  Ericsson Very Old  \n",
       "50   furniture/equipment    male    2020-04-26 1991-04-26          Nokia Old  \n",
       "585  furniture/equipment  female    2020-02-02 2000-02-02     Huawei Awesome  \n",
       "138             radio/TV    male    2020-01-16 1985-01-16           iPhone 9  "
      ]
     },
     "metadata": {},
     "output_type": "display_data"
    },
    {
     "name": "stdout",
     "output_type": "stream",
     "text": [
      "Transformed data:\n"
     ]
    },
    {
     "data": {
      "text/html": [
       "<div>\n",
       "<style scoped>\n",
       "    .dataframe tbody tr th:only-of-type {\n",
       "        vertical-align: middle;\n",
       "    }\n",
       "\n",
       "    .dataframe tbody tr th {\n",
       "        vertical-align: top;\n",
       "    }\n",
       "\n",
       "    .dataframe thead th {\n",
       "        text-align: right;\n",
       "    }\n",
       "</style>\n",
       "<table border=\"1\" class=\"dataframe\">\n",
       "  <thead>\n",
       "    <tr style=\"text-align: right;\">\n",
       "      <th></th>\n",
       "      <th>Job</th>\n",
       "      <th>Housing</th>\n",
       "      <th>Saving accounts</th>\n",
       "      <th>Checking account</th>\n",
       "      <th>Credit amount</th>\n",
       "      <th>Duration</th>\n",
       "      <th>Purpose</th>\n",
       "      <th>Gender</th>\n",
       "      <th>Purchase_date</th>\n",
       "      <th>Birth_date</th>\n",
       "      <th>Device</th>\n",
       "    </tr>\n",
       "  </thead>\n",
       "  <tbody>\n",
       "    <tr>\n",
       "      <th>131</th>\n",
       "      <td>2</td>\n",
       "      <td>own</td>\n",
       "      <td>little</td>\n",
       "      <td>little</td>\n",
       "      <td>6887</td>\n",
       "      <td>36</td>\n",
       "      <td>education</td>\n",
       "      <td>male</td>\n",
       "      <td>2020-03-12</td>\n",
       "      <td>1991-03-12</td>\n",
       "      <td>Samsung Fantastic</td>\n",
       "    </tr>\n",
       "    <tr>\n",
       "      <th>203</th>\n",
       "      <td>2</td>\n",
       "      <td>rent</td>\n",
       "      <td>little</td>\n",
       "      <td>little</td>\n",
       "      <td>902</td>\n",
       "      <td>12</td>\n",
       "      <td>education</td>\n",
       "      <td>male</td>\n",
       "      <td>2020-02-24</td>\n",
       "      <td>1999-02-24</td>\n",
       "      <td>Ericsson Very Old</td>\n",
       "    </tr>\n",
       "    <tr>\n",
       "      <th>50</th>\n",
       "      <td>1</td>\n",
       "      <td>own</td>\n",
       "      <td>Missing</td>\n",
       "      <td>moderate</td>\n",
       "      <td>2333</td>\n",
       "      <td>24</td>\n",
       "      <td>furniture/equipment</td>\n",
       "      <td>male</td>\n",
       "      <td>2020-04-26</td>\n",
       "      <td>1991-04-26</td>\n",
       "      <td>Nokia Old</td>\n",
       "    </tr>\n",
       "    <tr>\n",
       "      <th>585</th>\n",
       "      <td>2</td>\n",
       "      <td>rent</td>\n",
       "      <td>little</td>\n",
       "      <td>little</td>\n",
       "      <td>2039</td>\n",
       "      <td>18</td>\n",
       "      <td>furniture/equipment</td>\n",
       "      <td>female</td>\n",
       "      <td>2020-02-02</td>\n",
       "      <td>2000-02-02</td>\n",
       "      <td>Huawei Awesome</td>\n",
       "    </tr>\n",
       "    <tr>\n",
       "      <th>138</th>\n",
       "      <td>2</td>\n",
       "      <td>own</td>\n",
       "      <td>Missing</td>\n",
       "      <td>moderate</td>\n",
       "      <td>2728</td>\n",
       "      <td>15</td>\n",
       "      <td>radio/TV</td>\n",
       "      <td>male</td>\n",
       "      <td>2020-01-16</td>\n",
       "      <td>1985-01-16</td>\n",
       "      <td>iPhone 9</td>\n",
       "    </tr>\n",
       "  </tbody>\n",
       "</table>\n",
       "</div>"
      ],
      "text/plain": [
       "     Job Housing Saving accounts Checking account  Credit amount  Duration  \\\n",
       "131    2     own          little           little           6887        36   \n",
       "203    2    rent          little           little            902        12   \n",
       "50     1     own         Missing         moderate           2333        24   \n",
       "585    2    rent          little           little           2039        18   \n",
       "138    2     own         Missing         moderate           2728        15   \n",
       "\n",
       "                 Purpose  Gender Purchase_date Birth_date             Device  \n",
       "131            education    male    2020-03-12 1991-03-12  Samsung Fantastic  \n",
       "203            education    male    2020-02-24 1999-02-24  Ericsson Very Old  \n",
       "50   furniture/equipment    male    2020-04-26 1991-04-26          Nokia Old  \n",
       "585  furniture/equipment  female    2020-02-02 2000-02-02     Huawei Awesome  \n",
       "138             radio/TV    male    2020-01-16 1985-01-16           iPhone 9  "
      ]
     },
     "metadata": {},
     "output_type": "display_data"
    }
   ],
   "source": [
    "input_data = df_original.iloc[:,:-1].head()\n",
    "print('Original data:')\n",
    "display(input_data)\n",
    "\n",
    "test_filler = MissingValFiller()\n",
    "test_filler.fit(input_data)\n",
    "transformed_input_data = test_filler.transform(input_data)\n",
    "\n",
    "print('Transformed data:')\n",
    "display(transformed_input_data)"
   ]
  },
  {
   "cell_type": "markdown",
   "metadata": {},
   "source": [
    "#### Great. Now let's code up the rest of the custom transformers!"
   ]
  },
  {
   "cell_type": "code",
   "execution_count": 55,
   "metadata": {},
   "outputs": [],
   "source": [
    "# Custom transformer for casting \"Job\" column to string\n",
    "class StringCaster(BaseEstimator, TransformerMixin):\n",
    "    def __init__(self):\n",
    "        self.cols_to_cast = None\n",
    "\n",
    "    def fit(self, features_df, labels_df=None, columns_to_cast=None):\n",
    "        if columns_to_cast is None:\n",
    "            self.cols_to_cast = ['Job']\n",
    "        else:\n",
    "            self.cols_to_cast = columns_to_cast\n",
    "\n",
    "        return self\n",
    "\n",
    "    def transform(self, features_df):\n",
    "        transformed_df = features_df.copy()\n",
    "        for column in transformed_df[self.cols_to_cast]:\n",
    "            transformed_df[column] = transformed_df[column].astype(str)\n",
    "\n",
    "        return transformed_df\n",
    "\n",
    "# Custom transformer for engineering \"Age\" feature\n",
    "class AgeEncoder(BaseEstimator, TransformerMixin):\n",
    "    def __init__(self):\n",
    "        self.reference_date_column = None\n",
    "        self.birth_date_column = None\n",
    "\n",
    "    def fit(self, features_df, labels_df=None, r_date_col=None, b_date_col=None):\n",
    "        if r_date_col is None or b_date_col is None:\n",
    "            self.reference_date_column = 'Purchase_date'\n",
    "            self.birth_date_column = 'Birth_date'\n",
    "        else:\n",
    "            self.reference_date_column = r_date_col\n",
    "            self.birth_date_column = b_date_col\n",
    "\n",
    "        return self\n",
    "\n",
    "    def transform(self, features_df):\n",
    "        transformed_df = features_df.copy()\n",
    "        transformed_df['Age'] = transformed_df.apply(lambda row: self.create_age_column(row), axis=1)\n",
    "        transformed_df.drop([self.birth_date_column], axis=1, inplace=True)\n",
    "\n",
    "        return transformed_df\n",
    "\n",
    "    def calculate_age(self, referenceDate, birthDate):\n",
    "        days_in_year = 365.2425\n",
    "        try:\n",
    "            age = int((pd.to_datetime(referenceDate, infer_datetime_format=True) - pd.to_datetime(str(birthDate), infer_datetime_format=True)).days / days_in_year)\n",
    "        except:\n",
    "            age = None\n",
    "\n",
    "        return age\n",
    "\n",
    "    def create_age_column(self, row):\n",
    "        return self.calculate_age(row[self.reference_date_column], row[self.birth_date_column])\n",
    "\n",
    "\n",
    "# Customer transformer for engineering \"Day of week\" feature\n",
    "class DayOfWeekEncoder(BaseEstimator, TransformerMixin):\n",
    "    def __init__(self):\n",
    "        self.date_column = None\n",
    "\n",
    "    def fit(self, features_df, labels_df=None, date_col=None):\n",
    "        if date_col is None:\n",
    "            self.date_column = 'Purchase_date'\n",
    "        else:\n",
    "            self.date_column = date_col\n",
    "\n",
    "        return self\n",
    "\n",
    "    def transform(self, features_df):\n",
    "        transformed_df = features_df.copy()\n",
    "        transformed_df['Weekday'] = transformed_df[self.date_column].map(lambda x: self.find_day_of_week(x))\n",
    "        transformed_df.drop([self.date_column], axis=1, inplace=True)\n",
    "\n",
    "        return transformed_df\n",
    "\n",
    "    def find_day_of_week(self, string):\n",
    "        recognized_date = pd.to_datetime(string, infer_datetime_format=True)\n",
    "\n",
    "        return calendar.day_name[recognized_date.weekday()]\n",
    "\n",
    "\n",
    "# Custom transformer for engineering binary iPhone-Other device feature\n",
    "class DeviceEncoder(BaseEstimator, TransformerMixin):\n",
    "    def __init__(self):\n",
    "        self.device_column = None\n",
    "\n",
    "    def fit(self, features_df, labels_df=None, device_col=None):\n",
    "        if device_col is None:\n",
    "            self.device_column = 'Device'\n",
    "        else:\n",
    "            self.device_column = device_col\n",
    "\n",
    "        return self\n",
    "\n",
    "    def transform(self, features_df):\n",
    "        transformed_df = features_df.copy()\n",
    "        transformed_df.loc[:, self.device_column] = transformed_df[self.device_column].map(\n",
    "            lambda x: self.identify_device(str(x)))\n",
    "\n",
    "        return transformed_df\n",
    "\n",
    "    def identify_device(self, string):\n",
    "        if 'iphone' in string.lower():\n",
    "            return 'iPhone'\n",
    "        else:\n",
    "            return 'Other'"
   ]
  },
  {
   "cell_type": "markdown",
   "metadata": {},
   "source": [
    "#### Let's build and test our custom preprocessing pipeline"
   ]
  },
  {
   "cell_type": "code",
   "execution_count": 56,
   "metadata": {},
   "outputs": [
    {
     "name": "stdout",
     "output_type": "stream",
     "text": [
      "Original data:\n"
     ]
    },
    {
     "data": {
      "text/html": [
       "<div>\n",
       "<style scoped>\n",
       "    .dataframe tbody tr th:only-of-type {\n",
       "        vertical-align: middle;\n",
       "    }\n",
       "\n",
       "    .dataframe tbody tr th {\n",
       "        vertical-align: top;\n",
       "    }\n",
       "\n",
       "    .dataframe thead th {\n",
       "        text-align: right;\n",
       "    }\n",
       "</style>\n",
       "<table border=\"1\" class=\"dataframe\">\n",
       "  <thead>\n",
       "    <tr style=\"text-align: right;\">\n",
       "      <th></th>\n",
       "      <th>Job</th>\n",
       "      <th>Housing</th>\n",
       "      <th>Saving accounts</th>\n",
       "      <th>Checking account</th>\n",
       "      <th>Credit amount</th>\n",
       "      <th>Duration</th>\n",
       "      <th>Purpose</th>\n",
       "      <th>Gender</th>\n",
       "      <th>Purchase_date</th>\n",
       "      <th>Birth_date</th>\n",
       "      <th>Device</th>\n",
       "    </tr>\n",
       "  </thead>\n",
       "  <tbody>\n",
       "    <tr>\n",
       "      <th>131</th>\n",
       "      <td>2</td>\n",
       "      <td>own</td>\n",
       "      <td>little</td>\n",
       "      <td>little</td>\n",
       "      <td>6887</td>\n",
       "      <td>36</td>\n",
       "      <td>education</td>\n",
       "      <td>male</td>\n",
       "      <td>2020-03-12</td>\n",
       "      <td>1991-03-12</td>\n",
       "      <td>Samsung Fantastic</td>\n",
       "    </tr>\n",
       "    <tr>\n",
       "      <th>203</th>\n",
       "      <td>2</td>\n",
       "      <td>rent</td>\n",
       "      <td>little</td>\n",
       "      <td>little</td>\n",
       "      <td>902</td>\n",
       "      <td>12</td>\n",
       "      <td>education</td>\n",
       "      <td>male</td>\n",
       "      <td>2020-02-24</td>\n",
       "      <td>1999-02-24</td>\n",
       "      <td>Ericsson Very Old</td>\n",
       "    </tr>\n",
       "    <tr>\n",
       "      <th>50</th>\n",
       "      <td>1</td>\n",
       "      <td>own</td>\n",
       "      <td>NaN</td>\n",
       "      <td>moderate</td>\n",
       "      <td>2333</td>\n",
       "      <td>24</td>\n",
       "      <td>furniture/equipment</td>\n",
       "      <td>male</td>\n",
       "      <td>2020-04-26</td>\n",
       "      <td>1991-04-26</td>\n",
       "      <td>Nokia Old</td>\n",
       "    </tr>\n",
       "    <tr>\n",
       "      <th>585</th>\n",
       "      <td>2</td>\n",
       "      <td>rent</td>\n",
       "      <td>little</td>\n",
       "      <td>little</td>\n",
       "      <td>2039</td>\n",
       "      <td>18</td>\n",
       "      <td>furniture/equipment</td>\n",
       "      <td>female</td>\n",
       "      <td>2020-02-02</td>\n",
       "      <td>2000-02-02</td>\n",
       "      <td>Huawei Awesome</td>\n",
       "    </tr>\n",
       "    <tr>\n",
       "      <th>138</th>\n",
       "      <td>2</td>\n",
       "      <td>own</td>\n",
       "      <td>NaN</td>\n",
       "      <td>moderate</td>\n",
       "      <td>2728</td>\n",
       "      <td>15</td>\n",
       "      <td>radio/TV</td>\n",
       "      <td>male</td>\n",
       "      <td>2020-01-16</td>\n",
       "      <td>1985-01-16</td>\n",
       "      <td>iPhone 9</td>\n",
       "    </tr>\n",
       "  </tbody>\n",
       "</table>\n",
       "</div>"
      ],
      "text/plain": [
       "     Job Housing Saving accounts Checking account  Credit amount  Duration  \\\n",
       "131    2     own          little           little           6887        36   \n",
       "203    2    rent          little           little            902        12   \n",
       "50     1     own             NaN         moderate           2333        24   \n",
       "585    2    rent          little           little           2039        18   \n",
       "138    2     own             NaN         moderate           2728        15   \n",
       "\n",
       "                 Purpose  Gender Purchase_date Birth_date             Device  \n",
       "131            education    male    2020-03-12 1991-03-12  Samsung Fantastic  \n",
       "203            education    male    2020-02-24 1999-02-24  Ericsson Very Old  \n",
       "50   furniture/equipment    male    2020-04-26 1991-04-26          Nokia Old  \n",
       "585  furniture/equipment  female    2020-02-02 2000-02-02     Huawei Awesome  \n",
       "138             radio/TV    male    2020-01-16 1985-01-16           iPhone 9  "
      ]
     },
     "metadata": {},
     "output_type": "display_data"
    },
    {
     "name": "stdout",
     "output_type": "stream",
     "text": [
      "Transformed data:\n"
     ]
    },
    {
     "data": {
      "text/html": [
       "<div>\n",
       "<style scoped>\n",
       "    .dataframe tbody tr th:only-of-type {\n",
       "        vertical-align: middle;\n",
       "    }\n",
       "\n",
       "    .dataframe tbody tr th {\n",
       "        vertical-align: top;\n",
       "    }\n",
       "\n",
       "    .dataframe thead th {\n",
       "        text-align: right;\n",
       "    }\n",
       "</style>\n",
       "<table border=\"1\" class=\"dataframe\">\n",
       "  <thead>\n",
       "    <tr style=\"text-align: right;\">\n",
       "      <th></th>\n",
       "      <th>Job</th>\n",
       "      <th>Housing</th>\n",
       "      <th>Saving accounts</th>\n",
       "      <th>Checking account</th>\n",
       "      <th>Credit amount</th>\n",
       "      <th>Duration</th>\n",
       "      <th>Purpose</th>\n",
       "      <th>Gender</th>\n",
       "      <th>Device</th>\n",
       "      <th>Age</th>\n",
       "      <th>Weekday</th>\n",
       "    </tr>\n",
       "  </thead>\n",
       "  <tbody>\n",
       "    <tr>\n",
       "      <th>131</th>\n",
       "      <td>2</td>\n",
       "      <td>own</td>\n",
       "      <td>little</td>\n",
       "      <td>little</td>\n",
       "      <td>6887</td>\n",
       "      <td>36</td>\n",
       "      <td>education</td>\n",
       "      <td>male</td>\n",
       "      <td>Other</td>\n",
       "      <td>29</td>\n",
       "      <td>Thursday</td>\n",
       "    </tr>\n",
       "    <tr>\n",
       "      <th>203</th>\n",
       "      <td>2</td>\n",
       "      <td>rent</td>\n",
       "      <td>little</td>\n",
       "      <td>little</td>\n",
       "      <td>902</td>\n",
       "      <td>12</td>\n",
       "      <td>education</td>\n",
       "      <td>male</td>\n",
       "      <td>Other</td>\n",
       "      <td>20</td>\n",
       "      <td>Monday</td>\n",
       "    </tr>\n",
       "    <tr>\n",
       "      <th>50</th>\n",
       "      <td>1</td>\n",
       "      <td>own</td>\n",
       "      <td>Missing</td>\n",
       "      <td>moderate</td>\n",
       "      <td>2333</td>\n",
       "      <td>24</td>\n",
       "      <td>furniture/equipment</td>\n",
       "      <td>male</td>\n",
       "      <td>Other</td>\n",
       "      <td>29</td>\n",
       "      <td>Sunday</td>\n",
       "    </tr>\n",
       "    <tr>\n",
       "      <th>585</th>\n",
       "      <td>2</td>\n",
       "      <td>rent</td>\n",
       "      <td>little</td>\n",
       "      <td>little</td>\n",
       "      <td>2039</td>\n",
       "      <td>18</td>\n",
       "      <td>furniture/equipment</td>\n",
       "      <td>female</td>\n",
       "      <td>Other</td>\n",
       "      <td>20</td>\n",
       "      <td>Sunday</td>\n",
       "    </tr>\n",
       "    <tr>\n",
       "      <th>138</th>\n",
       "      <td>2</td>\n",
       "      <td>own</td>\n",
       "      <td>Missing</td>\n",
       "      <td>moderate</td>\n",
       "      <td>2728</td>\n",
       "      <td>15</td>\n",
       "      <td>radio/TV</td>\n",
       "      <td>male</td>\n",
       "      <td>iPhone</td>\n",
       "      <td>34</td>\n",
       "      <td>Thursday</td>\n",
       "    </tr>\n",
       "  </tbody>\n",
       "</table>\n",
       "</div>"
      ],
      "text/plain": [
       "    Job Housing Saving accounts Checking account  Credit amount  Duration  \\\n",
       "131   2     own          little           little           6887        36   \n",
       "203   2    rent          little           little            902        12   \n",
       "50    1     own         Missing         moderate           2333        24   \n",
       "585   2    rent          little           little           2039        18   \n",
       "138   2     own         Missing         moderate           2728        15   \n",
       "\n",
       "                 Purpose  Gender  Device  Age   Weekday  \n",
       "131            education    male   Other   29  Thursday  \n",
       "203            education    male   Other   20    Monday  \n",
       "50   furniture/equipment    male   Other   29    Sunday  \n",
       "585  furniture/equipment  female   Other   20    Sunday  \n",
       "138             radio/TV    male  iPhone   34  Thursday  "
      ]
     },
     "metadata": {},
     "output_type": "display_data"
    },
    {
     "name": "stdout",
     "output_type": "stream",
     "text": [
      "\n",
      "It works!\n"
     ]
    }
   ],
   "source": [
    "test_preprocessing_pipeline = Pipeline([\n",
    "    ('value_filler', MissingValFiller()),\n",
    "    ('string_caster', StringCaster()),\n",
    "    ('age_encoder', AgeEncoder()),\n",
    "    ('day_of_week_encoder', DayOfWeekEncoder()),\n",
    "    ('device_encoder', DeviceEncoder())\n",
    "])\n",
    "\n",
    "input_data = df_original.iloc[:,:-1].head(5)\n",
    "print('Original data:')\n",
    "display(input_data)\n",
    "\n",
    "test_preprocessing_pipeline.fit(input_data)\n",
    "transformed_input_data = test_preprocessing_pipeline.transform(input_data)\n",
    "\n",
    "print('Transformed data:')\n",
    "display(transformed_input_data)\n",
    "print()\n",
    "print('It works!')"
   ]
  },
  {
   "cell_type": "markdown",
   "metadata": {},
   "source": [
    "## HOW ABOUT ADDITIONAL ERROR HANDLING ON THE FLY?"
   ]
  },
  {
   "cell_type": "markdown",
   "metadata": {},
   "source": [
    "#### Sample production deployment errors / issues:\n",
    "\n",
    "#### --> string data is entered with a preceding or trailing whitespaces, e.g. \" iPhone\" instead of \"iPhone\"\n",
    "\n",
    "#### --> data sent to the API (e.g. in json format) has a different type than the original training data (e.g. integer instead of float, string intead of integer, etc.) \n",
    "\n",
    "#### Luckily, we can code up custom transformers to deal with these (and many other) issues!"
   ]
  },
  {
   "cell_type": "code",
   "execution_count": 58,
   "metadata": {},
   "outputs": [],
   "source": [
    "# Transformer for preceding and trailing whitespaces\n",
    "class WhitespaceRemover(BaseEstimator, TransformerMixin):\n",
    "    def __init__(self):\n",
    "        pass\n",
    "\n",
    "    def remove_whitespace(self, features_df):\n",
    "        for col in features_df:\n",
    "            if features_df[col].dtype == 'object':\n",
    "                features_df[col] = features_df[col].str.strip()\n",
    "        return features_df\n",
    "\n",
    "    def fit(self, features_df=None, labels_df=None):\n",
    "        return self\n",
    "\n",
    "    def transform(self, features_df):\n",
    "        transformed_df = features_df.copy()\n",
    "        transformed_df = self.remove_whitespace(transformed_df)\n",
    "        return transformed_df\n",
    "\n",
    "\n",
    "# Transformer for casting data into types present in original training data\n",
    "class OriginalDtypesCaster(BaseEstimator, TransformerMixin):\n",
    "    def __init__(self):\n",
    "        self.column_types = {}\n",
    "\n",
    "    def fit(self, features_df, labels_df=None):\n",
    "        dtypes = features_df.dtypes\n",
    "        dtypes_col = dtypes.index\n",
    "        dtypes_type = [i.name for i in dtypes.values]\n",
    "        self.column_types = dict(zip(dtypes_col, dtypes_type))\n",
    "\n",
    "        return self\n",
    "\n",
    "    def transform(self, features_df):\n",
    "        transformed_df = features_df.copy()\n",
    "        transformed_df = transformed_df.astype(self.column_types)\n",
    "\n",
    "        return transformed_df"
   ]
  },
  {
   "cell_type": "markdown",
   "metadata": {},
   "source": [
    "## LET'S BUILD OUR FINAL E2E PIPELINE"
   ]
  },
  {
   "cell_type": "markdown",
   "metadata": {},
   "source": [
    "#### Before doing so, we need to define one more utility transformer class..."
   ]
  },
  {
   "cell_type": "code",
   "execution_count": 60,
   "metadata": {},
   "outputs": [],
   "source": [
    "# Transformer for transforming df to a dict (needed input format for DictVectorizer)\n",
    "class DfDict(BaseEstimator, TransformerMixin):\n",
    "    def __init__(self):\n",
    "        pass\n",
    "\n",
    "    def fit(self, features_df, labels_df=None):\n",
    "        return self\n",
    "\n",
    "    def transform(self, features_df):\n",
    "        return features_df.to_dict('records')"
   ]
  },
  {
   "cell_type": "markdown",
   "metadata": {},
   "source": [
    "#### Additionally, as best practice, let's import the transformers from an external \"src\" module."
   ]
  },
  {
   "cell_type": "code",
   "execution_count": 61,
   "metadata": {},
   "outputs": [],
   "source": [
    "from src.pipeline_components import MissingValFiller, StringCaster, AgeEncoder, DayOfWeekEncoder, DeviceEncoder\n",
    "from src.pipeline_components import WhitespaceRemover, OriginalDtypesCaster, DfDict"
   ]
  },
  {
   "cell_type": "code",
   "execution_count": 62,
   "metadata": {},
   "outputs": [],
   "source": [
    "# Create separate object for target variable\n",
    "y = df_original['Risk_label']\n",
    "# Create separate object for input features\n",
    "X = df_original.drop('Risk_label', axis=1)\n",
    "\n",
    "# Split X and y into train and test sets\n",
    "X_train, X_test, y_train, y_test = train_test_split(X, y, test_size=0.25, random_state=123)"
   ]
  },
  {
   "cell_type": "markdown",
   "metadata": {},
   "source": [
    "#### Definining the final e2e pipeline consisting of 12 steps - 7 of which are our own custom transformers"
   ]
  },
  {
   "cell_type": "code",
   "execution_count": 63,
   "metadata": {},
   "outputs": [],
   "source": [
    "e2e_pipeline = Pipeline([\n",
    "    ('whitespace_remover', WhitespaceRemover()),\n",
    "    ('original_dtypes_caster', OriginalDtypesCaster()),\n",
    "    ('value_filler', MissingValFiller()),\n",
    "    ('string_caster', StringCaster()),\n",
    "    ('age_encoder', AgeEncoder()),\n",
    "    ('day_of_week_encoder', DayOfWeekEncoder()),\n",
    "    ('device_encoder', DeviceEncoder()),\n",
    "    ('df_dict', DfDict()),\n",
    "    ('dict_vec', DictVectorizer()),\n",
    "    ('imputation', SimpleImputer(missing_values=np.nan, strategy='most_frequent')),\n",
    "    ('scaling', StandardScaler(with_mean=False)),\n",
    "    ('classifier', RF_clf)\n",
    "])"
   ]
  },
  {
   "cell_type": "code",
   "execution_count": 64,
   "metadata": {},
   "outputs": [
    {
     "name": "stdout",
     "output_type": "stream",
     "text": [
      "Fitting the pipeline...\n",
      "Done.\n"
     ]
    }
   ],
   "source": [
    "print('Fitting the pipeline...')\n",
    "# We can then fit (train) the pipeline on our training data - directly after having done the train/test split:\n",
    "e2e_pipeline.fit(X_train, y_train)\n",
    "print('Done.')"
   ]
  },
  {
   "cell_type": "code",
   "execution_count": 65,
   "metadata": {},
   "outputs": [
    {
     "name": "stdout",
     "output_type": "stream",
     "text": [
      "Evaluation metrics:\n",
      "area_under_curve: 0.700\n",
      "accuracy: 0.744\n",
      "log_loss: 0.551\n",
      "precision: 0.558\n",
      "recall: 0.414\n",
      "specificity: 0.872\n",
      "f1_score: 0.475\n",
      "\n",
      "confusion_matrix:\n",
      "[[157, 23], [41, 29]]\n",
      "\n",
      "roc_curve:\n"
     ]
    },
    {
     "data": {
      "image/png": "[encoded data removed]",
      "text/plain": [
       "<Figure size 432x288 with 1 Axes>"
      ]
     },
     "metadata": {
      "needs_background": "light"
     },
     "output_type": "display_data"
    },
    {
     "name": "stdout",
     "output_type": "stream",
     "text": [
      "\n"
     ]
    },
    {
     "data": {
      "text/plain": [
       "<Figure size 432x288 with 0 Axes>"
      ]
     },
     "metadata": {},
     "output_type": "display_data"
    }
   ],
   "source": [
    "print('Evaluation metrics:')\n",
    "validate(e2e_pipeline, X_test, y_test)"
   ]
  },
  {
   "cell_type": "markdown",
   "metadata": {},
   "source": [
    "#### We now only need to save one object"
   ]
  },
  {
   "cell_type": "code",
   "execution_count": 66,
   "metadata": {},
   "outputs": [
    {
     "name": "stdout",
     "output_type": "stream",
     "text": [
      "Saving the fitted pipeline...\n",
      "Saved in  ../output/2020-May-22_16-52-21/ .\n"
     ]
    }
   ],
   "source": [
    "# Save the fitted pipeline to a directory\n",
    "print('Saving the fitted pipeline...')\n",
    "joblib.dump(e2e_pipeline, dirName+'e2e_pipeline/e2e_pipeline.pkl')\n",
    "print('Saved in ', dirName, '.')"
   ]
  },
  {
   "cell_type": "markdown",
   "metadata": {},
   "source": [
    "#### We can also shorten our predict() function"
   ]
  },
  {
   "cell_type": "code",
   "execution_count": 67,
   "metadata": {},
   "outputs": [],
   "source": [
    "### Create a code snippet / .py module that does all the preprocessing and prediction in one go - something like the code below.\n",
    "from src.pipeline_components import MissingValFiller, StringCaster, AgeEncoder, DayOfWeekEncoder, DeviceEncoder\n",
    "from src.pipeline_components import WhitespaceRemover, OriginalDtypesCaster, DfDict\n",
    "\n",
    "# Read in saved objects from the production \"output\" directory\n",
    "e2e_pipeline_prod = joblib.load(dirName+'e2e_pipeline/e2e_pipeline.pkl')\n",
    "\n",
    "# Define a predict function with all the preprocessing steps\n",
    "def predict_e2e_pipeline(df):    \n",
    "    print('Making a prediction...')\n",
    "    pred = e2e_pipeline_prod.predict_proba(df)\n",
    "    print()\n",
    "    \n",
    "    return pred"
   ]
  },
  {
   "cell_type": "markdown",
   "metadata": {},
   "source": [
    "#### Does it work?"
   ]
  },
  {
   "cell_type": "code",
   "execution_count": 68,
   "metadata": {},
   "outputs": [
    {
     "name": "stdout",
     "output_type": "stream",
     "text": [
      "Let's try to make a prediction. Will it work?\n",
      "Making a prediction...\n",
      "\n",
      "Predicted probabilities: [[0.94 0.06]]\n",
      "It worked!\n"
     ]
    }
   ],
   "source": [
    "print('Let\\'s try to make a prediction. Will it work?')\n",
    "input_data = X_test.head(1)\n",
    "print('Predicted probabilities:', predict_e2e_pipeline(input_data))\n",
    "print('It worked!')"
   ]
  },
  {
   "cell_type": "markdown",
   "metadata": {},
   "source": [
    "# ------------------------------------------------------------------------------------------------------\n",
    "# PART 4\n",
    "## FINALLY, LET'S PACKAGE OUR PIPELINE INTO A REST API WITH FLASK"
   ]
  },
  {
   "cell_type": "markdown",
   "metadata": {},
   "source": [
    "#### First, let's generate and save some data that the API will need - test features, test predictions, column names and column data types"
   ]
  },
  {
   "cell_type": "code",
   "execution_count": 70,
   "metadata": {},
   "outputs": [],
   "source": [
    "### Generate test data for API\n",
    "smoke_test_features = X_test.head(5)\n",
    "#display(smoke_test_features)\n",
    "\n",
    "with open(dirName+'e2e_pipeline/test_request_body.json', 'w') as fp:\n",
    "    json.dump(smoke_test_features.to_dict(orient='records'),\n",
    "              fp,\n",
    "              sort_keys=True,\n",
    "              indent=2,\n",
    "              default=str)\n",
    "\n",
    "smoke_predictions = e2e_pipeline.predict_proba(smoke_test_features)[:,1].tolist()\n",
    "with open(dirName+'e2e_pipeline/test_response_body.json', 'w') as fp:\n",
    "    json.dump(smoke_predictions,\n",
    "              fp,\n",
    "              sort_keys=True,\n",
    "              indent=2)"
   ]
  },
  {
   "cell_type": "code",
   "execution_count": 71,
   "metadata": {},
   "outputs": [],
   "source": [
    "# Saving column names so that we can order incoming prediction data correctly\n",
    "column_names = smoke_test_features.columns.tolist()\n",
    "with open(dirName+'e2e_pipeline/column_names.txt', 'w') as f:\n",
    "    for col in column_names:\n",
    "        f.write(str(col) +'\\n')"
   ]
  },
  {
   "cell_type": "code",
   "execution_count": 72,
   "metadata": {},
   "outputs": [],
   "source": [
    "# Saving column dtypes\n",
    "column_dtypes = smoke_test_features.dtypes.apply(lambda x: x.name).to_dict()\n",
    "for key in column_dtypes:\n",
    "    if column_dtypes[key] == 'datetime64[ns]':\n",
    "        column_dtypes[key] = 'object'\n",
    "        \n",
    "with open(dirName+'e2e_pipeline/column_dtypes.json', 'w') as fp:\n",
    "    json.dump(column_dtypes,\n",
    "              fp,\n",
    "              sort_keys=True,\n",
    "              indent=2,\n",
    "              default=str)"
   ]
  },
  {
   "cell_type": "code",
   "execution_count": 73,
   "metadata": {},
   "outputs": [
    {
     "data": {
      "text/plain": [
       "'../output/2020-May-22_16-52-21/e2e_pipeline/app.py'"
      ]
     },
     "execution_count": 73,
     "metadata": {},
     "output_type": "execute_result"
    }
   ],
   "source": [
    "# Copying app.py into e2e_pipeline directory'\n",
    "copyfile('../prediction-api/app.py', dirName+'e2e_pipeline/app.py')"
   ]
  },
  {
   "cell_type": "markdown",
   "metadata": {},
   "source": [
    "#### Let's make test predictions to later compare them with the API response"
   ]
  },
  {
   "cell_type": "code",
   "execution_count": 75,
   "metadata": {},
   "outputs": [
    {
     "name": "stdout",
     "output_type": "stream",
     "text": [
      "[0.06, 0.65, 0.22, 0.51, 0.25]\n"
     ]
    }
   ],
   "source": [
    "print(smoke_predictions)"
   ]
  },
  {
   "cell_type": "markdown",
   "metadata": {},
   "source": [
    "#### Now let's go to the output directory and run the REST API app!\n",
    "##### (This exercise takes place outside of this notebook)\n",
    "#### --> In the command line interface, go to the output directory --> timestamp of model training --> e2e_pipeline\n",
    "#### --> Activate conda environment\n",
    "#### --> Run `python app.py` command\n",
    "#### --> The API's `/predict` endpoint will be available under `http://0.0.0.0:5000/predict` in your browser\n",
    "#### --> Try sending data from `test_request_body.json` to the above endpoint, e.g. with Postman\n",
    "#### --> Have a look at the `app.py` script to see how a minimalistic model serving API can be implemented\n",
    "----------\n",
    "----------"
   ]
  },
  {
   "cell_type": "markdown",
   "metadata": {},
   "source": [
    "#### This notebook and entire project have been run and tested on the following system and key dependencies:"
   ]
  },
  {
   "cell_type": "code",
   "execution_count": 76,
   "metadata": {},
   "outputs": [
    {
     "name": "stdout",
     "output_type": "stream",
     "text": [
      "Operating system: Linux\n",
      "OS release: 4.15.0-101-generic\n",
      "Machine: x86_64\n",
      "Platform: Linux-4.15.0-101-generic-x86_64-with-debian-buster-sid\n",
      "Version: #102-Ubuntu SMP Mon May 11 10:07:26 UTC 2020\n",
      "\n",
      "Python version: 3.7.7 (default, May  7 2020, 21:25:33) \n",
      "[GCC 7.3.0]\n",
      "Pandas version: 0.24.2\n",
      "Numpy version: 1.16.3\n",
      "Scikit-learn version: 0.20.3\n"
     ]
    }
   ],
   "source": [
    "print('Operating system:', platform.system())\n",
    "print('OS release:', platform.release())\n",
    "print('Machine:', platform.machine())\n",
    "print('Platform:', platform.platform())\n",
    "print('Version:', platform.version())\n",
    "print()\n",
    "print('Python version: {}'.format(sys.version))\n",
    "print('Pandas version: {}'.format(pd.__version__))\n",
    "print('Numpy version: {}'.format(np.__version__))\n",
    "print('Scikit-learn version: {}'.format(sklearn.__version__))"
   ]
  },
  {
   "cell_type": "code",
   "execution_count": null,
   "metadata": {},
   "outputs": [],
   "source": []
  }
 ],
 "metadata": {
  "kernelspec": {
   "display_name": "ml-in-production",
   "language": "python",
   "name": "ml-in-production"
  },
  "language_info": {
   "codemirror_mode": {
    "name": "ipython",
    "version": 3
   },
   "file_extension": ".py",
   "mimetype": "text/x-python",
   "name": "python",
   "nbconvert_exporter": "python",
   "pygments_lexer": "ipython3",
   "version": "3.7.7"
  },
  "toc": {
   "base_numbering": 1,
   "nav_menu": {},
   "number_sections": true,
   "sideBar": true,
   "skip_h1_title": false,
   "title_cell": "Table of Contents",
   "title_sidebar": "Contents",
   "toc_cell": false,
   "toc_position": {},
   "toc_section_display": "block",
   "toc_window_display": false
  }
 },
 "nbformat": 4,
 "nbformat_minor": 2
}
